{
  "nbformat": 4,
  "nbformat_minor": 0,
  "metadata": {
    "colab": {
      "provenance": []
    },
    "kernelspec": {
      "name": "python3",
      "display_name": "Python 3"
    },
    "language_info": {
      "name": "python"
    }
  },
  "cells": [
    {
      "cell_type": "markdown",
      "source": [
        "#  Assignment 20"
      ],
      "metadata": {
        "id": "SHtXwNeCbrH1"
      }
    },
    {
      "cell_type": "markdown",
      "source": [
        "## Question-1"
      ],
      "metadata": {
        "id": "6VOnp1mhbvHY"
      }
    },
    {
      "cell_type": "code",
      "execution_count": 1,
      "metadata": {
        "id": "_MzbY3j66UlW",
        "colab": {
          "base_uri": "https://localhost:8080/"
        },
        "outputId": "72631c46-67c7-44c7-c296-391898cfbf06"
      },
      "outputs": [
        {
          "output_type": "stream",
          "name": "stdout",
          "text": [
            "7\n"
          ]
        }
      ],
      "source": [
        "# Python3 program to find largest subtree\n",
        "# sum in a given binary tree.\n",
        "\n",
        "# Function to create new tree node.\n",
        "class newNode:\n",
        "\tdef __init__(self, key):\n",
        "\t\tself.key = key\n",
        "\t\tself.left = self.right = None\n",
        "\n",
        "# Helper function to find largest\n",
        "# subtree sum recursively.\n",
        "def findLargestSubtreeSumUtil(root, ans):\n",
        "\n",
        "\t# If current node is None then\n",
        "\t# return 0 to parent node.\n",
        "\tif (root == None):\n",
        "\t\treturn 0\n",
        "\n",
        "\t# Subtree sum rooted at current node.\n",
        "\tcurrSum = (root.key +\n",
        "\t\t\tfindLargestSubtreeSumUtil(root.left, ans) +\n",
        "\t\t\tfindLargestSubtreeSumUtil(root.right, ans))\n",
        "\n",
        "\t# Update answer if current subtree\n",
        "\t# sum is greater than answer so far.\n",
        "\tans[0] = max(ans[0], currSum)\n",
        "\n",
        "\t# Return current subtree sum to\n",
        "\t# its parent node.\n",
        "\treturn currSum\n",
        "\n",
        "# Function to find largest subtree sum.\n",
        "def findLargestSubtreeSum(root):\n",
        "\n",
        "\t# If tree does not exist,\n",
        "\t# then answer is 0.\n",
        "\tif (root == None):\n",
        "\t\treturn 0\n",
        "\n",
        "\t# Variable to store maximum subtree sum.\n",
        "\tans = [-999999999999]\n",
        "\n",
        "\t# Call to recursive function to\n",
        "\t# find maximum subtree sum.\n",
        "\tfindLargestSubtreeSumUtil(root, ans)\n",
        "\n",
        "\treturn ans[0]\n",
        "\n",
        "# Driver Code\n",
        "if __name__ == '__main__':\n",
        "\n",
        "\t#\n",
        "\t#\t\t 1\n",
        "\t#\t\t / \\\n",
        "\t#\t /\t \\\n",
        "\t#\t -2\t 3\n",
        "\t#\t / \\\t / \\\n",
        "\t#\t / \\ / \\\n",
        "\t# 4\t 5 -6\t 2\n",
        "\troot = newNode(1)\n",
        "\troot.left = newNode(-2)\n",
        "\troot.right = newNode(3)\n",
        "\troot.left.left = newNode(4)\n",
        "\troot.left.right = newNode(5)\n",
        "\troot.right.left = newNode(-6)\n",
        "\troot.right.right = newNode(2)\n",
        "\n",
        "\tprint(findLargestSubtreeSum(root))\n",
        "\n",
        "\n"
      ]
    },
    {
      "cell_type": "markdown",
      "source": [
        "## Question-2"
      ],
      "metadata": {
        "id": "ESZsBfpVbyb0"
      }
    },
    {
      "cell_type": "code",
      "source": [
        "# Python implementation to construct a BST\n",
        "# from its level order traversal\n",
        "\n",
        "import math\n",
        "\n",
        "# Node of a BST\n",
        "\n",
        "\n",
        "class Node:\n",
        "\tdef __init__(self, data):\n",
        "\t\tself.data = data\n",
        "\t\tself.left = None\n",
        "\t\tself.right = None\n",
        "\n",
        "\n",
        "# Function to get a new node\n",
        "def getNode(data):\n",
        "\n",
        "\t# Allocate memory\n",
        "\tnewNode = Node(data)\n",
        "\n",
        "\t# put in the data\n",
        "\tnewNode.data = data\n",
        "\tnewNode.left = None\n",
        "\tnewNode.right = None\n",
        "\treturn newNode\n",
        "\n",
        "\n",
        "# Function to construct a BST from\n",
        "# its level order traversal\n",
        "def LevelOrder(root, data):\n",
        "\tif(root == None):\n",
        "\t\troot = getNode(data)\n",
        "\t\treturn root\n",
        "\n",
        "\tif(data <= root.data):\n",
        "\t\troot.left = LevelOrder(root.left, data)\n",
        "\telse:\n",
        "\t\troot.right = LevelOrder(root.right, data)\n",
        "\treturn root\n",
        "\n",
        "\n",
        "def constructBst(arr, n):\n",
        "\tif(n == 0):\n",
        "\t\treturn None\n",
        "\troot = None\n",
        "\n",
        "\tfor i in range(0, n):\n",
        "\t\troot = LevelOrder(root, arr[i])\n",
        "\n",
        "\treturn root\n",
        "\n",
        "\n",
        "# Function to print the inorder traversal\n",
        "def inorderTraversal(root):\n",
        "\tif (root == None):\n",
        "\t\treturn None\n",
        "\n",
        "\tinorderTraversal(root.left)\n",
        "\tprint(root.data, end=\" \")\n",
        "\tinorderTraversal(root.right)\n",
        "\n",
        "\n",
        "# Driver program\n",
        "if __name__ == '__main__':\n",
        "\n",
        "\tarr = [7, 4, 12, 3, 6, 8, 1, 5, 10]\n",
        "\tn = len(arr)\n",
        "\n",
        "\troot = constructBst(arr, n)\n",
        "\n",
        "\tprint(\"Inorder Traversal: \", end=\"\")\n",
        "\troot = inorderTraversal(root)\n",
        "\n"
      ],
      "metadata": {
        "id": "MheG17m0bzHZ",
        "colab": {
          "base_uri": "https://localhost:8080/"
        },
        "outputId": "923b3823-ab77-4289-f2ee-5062178e4c12"
      },
      "execution_count": 2,
      "outputs": [
        {
          "output_type": "stream",
          "name": "stdout",
          "text": [
            "Inorder Traversal: 1 3 4 5 6 7 8 10 12 "
          ]
        }
      ]
    },
    {
      "cell_type": "markdown",
      "source": [
        "## Question-3"
      ],
      "metadata": {
        "id": "5XDYeUTfb1fF"
      }
    },
    {
      "cell_type": "code",
      "source": [
        "# Python3 implementation to check if the\n",
        "# given array can represent Level Order\n",
        "# Traversal of Binary Search Tree\n",
        "INT_MIN, INT_MAX = float('-inf'), float('inf')\n",
        "\n",
        "# To store details of a node like node's\n",
        "# data, 'min' and 'max' to obtain the\n",
        "# range of values where node's left\n",
        "# and right child's should lie\n",
        "class NodeDetails:\n",
        "\n",
        "\tdef __init__(self, data, min, max):\n",
        "\t\tself.data = data\n",
        "\t\tself.min = min\n",
        "\t\tself.max = max\n",
        "\n",
        "# function to check if the given array\n",
        "# can represent Level Order Traversal\n",
        "# of Binary Search Tree\n",
        "def levelOrderIsOfBST(arr, n):\n",
        "\n",
        "\t# if tree is empty\n",
        "\tif n == 0:\n",
        "\t\treturn True\n",
        "\n",
        "\t# queue to store NodeDetails\n",
        "\tq = []\n",
        "\n",
        "\t# index variable to access array elements\n",
        "\ti = 0\n",
        "\n",
        "\t# node details for the root of the BST\n",
        "\tnewNode = NodeDetails(arr[i], INT_MIN, INT_MAX)\n",
        "\ti += 1\n",
        "\tq.append(newNode)\n",
        "\n",
        "\t# until there are no more elements\n",
        "\t# in arr[] or queue is not empty\n",
        "\twhile i != n and len(q) != 0:\n",
        "\n",
        "\t\t# extracting NodeDetails of a\n",
        "\t\t# node from the queue\n",
        "\t\ttemp = q.pop(0)\n",
        "\n",
        "\t\t# check whether there are more elements\n",
        "\t\t# in the arr[] and arr[i] can be left\n",
        "\t\t# child of 'temp.data' or not\n",
        "\t\tif i < n and (arr[i] < temp.data and\n",
        "\t\t\t\t\tarr[i] > temp.min):\n",
        "\n",
        "\t\t\t# Create NodeDetails for newNode\n",
        "\t\t\t#/ and add it to the queue\n",
        "\t\t\tnewNode = NodeDetails(arr[i], temp.min, temp.data)\n",
        "\t\t\ti += 1\n",
        "\t\t\tq.append(newNode)\n",
        "\n",
        "\t\t# check whether there are more elements\n",
        "\t\t# in the arr[] and arr[i] can be right\n",
        "\t\t# child of 'temp.data' or not\n",
        "\t\tif i < n and (arr[i] > temp.data and\n",
        "\t\t\t\t\tarr[i] < temp.max):\n",
        "\n",
        "\t\t\t# Create NodeDetails for newNode\n",
        "\t\t\t#/ and add it to the queue\n",
        "\t\t\tnewNode = NodeDetails(arr[i], temp.data, temp.max)\n",
        "\t\t\ti += 1\n",
        "\t\t\tq.append(newNode)\n",
        "\n",
        "\t# given array represents level\n",
        "\t# order traversal of BST\n",
        "\tif i == n:\n",
        "\t\treturn True\n",
        "\n",
        "\t# given array do not represent\n",
        "\t# level order traversal of BST\n",
        "\treturn False\n",
        "\n",
        "# Driver code\n",
        "if __name__ == \"__main__\":\n",
        "\n",
        "\tarr = [7, 4, 12, 3, 6, 8, 1, 5, 10]\n",
        "\tn = len(arr)\n",
        "\tif levelOrderIsOfBST(arr, n):\n",
        "\t\tprint(\"Yes\")\n",
        "\telse:\n",
        "\t\tprint(\"No\")"
      ],
      "metadata": {
        "id": "HEf6kH_9b2HG",
        "colab": {
          "base_uri": "https://localhost:8080/"
        },
        "outputId": "a8d13dbc-c407-4a10-a91f-b0a1586c634d"
      },
      "execution_count": 3,
      "outputs": [
        {
          "output_type": "stream",
          "name": "stdout",
          "text": [
            "Yes\n"
          ]
        }
      ]
    }
  ]
}