{
  "nbformat": 4,
  "nbformat_minor": 0,
  "metadata": {
    "colab": {
      "provenance": []
    },
    "kernelspec": {
      "name": "python3",
      "display_name": "Python 3"
    },
    "language_info": {
      "name": "python"
    }
  },
  "cells": [
    {
      "cell_type": "markdown",
      "source": [
        "# Assignment 24"
      ],
      "metadata": {
        "id": "MFlp2EFwssvm"
      }
    },
    {
      "cell_type": "markdown",
      "source": [
        "## Question -1"
      ],
      "metadata": {
        "id": "4zbvZsDOsvx9"
      }
    },
    {
      "cell_type": "code",
      "execution_count": 1,
      "metadata": {
        "id": "9FQTqZXM6rgZ",
        "colab": {
          "base_uri": "https://localhost:8080/"
        },
        "outputId": "c7ee15c4-245d-4961-cb7d-57f87a6ea6d8"
      },
      "outputs": [
        {
          "output_type": "stream",
          "name": "stdout",
          "text": [
            "3\n"
          ]
        }
      ],
      "source": [
        "def romanToInt(s: str) -> int:\n",
        "    # Dictionary of roman numerals\n",
        "    roman_map = {'I': 1, 'V': 5, 'X': 10, 'L': 50, 'C': 100, 'D': 500, 'M': 1000}\n",
        "    # Length of the given string\n",
        "    n = len(s)\n",
        "    # This variable will store result\n",
        "    num = roman_map[s[n - 1]]\n",
        "    # Loop for each character from right to left\n",
        "    for i in range(n - 2, -1, -1):\n",
        "        # Check if the character at right of current character is bigger or smaller\n",
        "        if roman_map[s[i]] >= roman_map[s[i + 1]]:\n",
        "            num += roman_map[s[i]]\n",
        "        else:\n",
        "            num -= roman_map[s[i]]\n",
        "    return num\n",
        "\n",
        "s = \"III\"\n",
        "print(romanToInt(s))"
      ]
    },
    {
      "cell_type": "markdown",
      "source": [
        "## Question -2"
      ],
      "metadata": {
        "id": "abKR2S9hsyhB"
      }
    },
    {
      "cell_type": "code",
      "source": [
        "def lengthOfLongestSubstring(s):\n",
        "    start = 0\n",
        "    end = 0\n",
        "    max_length = 0\n",
        "    char_set = set()\n",
        "\n",
        "    while end < len(s):\n",
        "        if s[end] not in char_set:\n",
        "            char_set.add(s[end])\n",
        "            end += 1\n",
        "            max_length = max(max_length, end - start)\n",
        "        else:\n",
        "            char_set.remove(s[start])\n",
        "            start += 1\n",
        "\n",
        "    return max_length\n",
        "\n",
        "\n",
        "s = \"abcabcbb\"\n",
        "print(lengthOfLongestSubstring(s))\n"
      ],
      "metadata": {
        "colab": {
          "base_uri": "https://localhost:8080/"
        },
        "id": "HsfSzr-ts3De",
        "outputId": "b7927901-1f90-427f-eea5-4c9dd74c125e"
      },
      "execution_count": 4,
      "outputs": [
        {
          "output_type": "stream",
          "name": "stdout",
          "text": [
            "3\n"
          ]
        }
      ]
    },
    {
      "cell_type": "markdown",
      "source": [
        "## Question -3"
      ],
      "metadata": {
        "id": "xvkPXdiIs3b6"
      }
    },
    {
      "cell_type": "code",
      "source": [
        "def majorityElement(nums):\n",
        "    count = 0\n",
        "    candidate = None\n",
        "\n",
        "    for num in nums:\n",
        "        if count == 0:\n",
        "            candidate = num\n",
        "        if num == candidate:\n",
        "            count += 1\n",
        "        else:\n",
        "            count -= 1\n",
        "\n",
        "    return candidate\n",
        "\n",
        "nums = [3, 2, 3]\n",
        "print(majorityElement(nums))\n"
      ],
      "metadata": {
        "colab": {
          "base_uri": "https://localhost:8080/"
        },
        "id": "wSlVf6HMs4Kq",
        "outputId": "1d42534c-8ac7-400a-a8eb-c89ba3afb094"
      },
      "execution_count": 3,
      "outputs": [
        {
          "output_type": "stream",
          "name": "stdout",
          "text": [
            "3\n"
          ]
        }
      ]
    },
    {
      "cell_type": "markdown",
      "source": [
        "## Question -4"
      ],
      "metadata": {
        "id": "AuZOak3fs4Yw"
      }
    },
    {
      "cell_type": "code",
      "source": [
        "from collections import defaultdict\n",
        "\n",
        "def groupAnagrams(strs):\n",
        "    anagram_groups = defaultdict(list)\n",
        "\n",
        "    for word in strs:\n",
        "        sorted_word = ''.join(sorted(word))\n",
        "        anagram_groups[sorted_word].append(word)\n",
        "\n",
        "    return list(anagram_groups.values())\n",
        "\n",
        "strs = [\"eat\", \"tea\", \"tan\", \"ate\", \"nat\", \"bat\"]\n",
        "print(groupAnagrams(strs))\n",
        "\n"
      ],
      "metadata": {
        "colab": {
          "base_uri": "https://localhost:8080/"
        },
        "id": "5LxtT_oVs5Hp",
        "outputId": "723778e1-0b5d-4efe-eb08-25e5ecba5876"
      },
      "execution_count": 5,
      "outputs": [
        {
          "output_type": "stream",
          "name": "stdout",
          "text": [
            "[['eat', 'tea', 'ate'], ['tan', 'nat'], ['bat']]\n"
          ]
        }
      ]
    },
    {
      "cell_type": "markdown",
      "source": [
        "## Question -5"
      ],
      "metadata": {
        "id": "OhpNRxKms5cr"
      }
    },
    {
      "cell_type": "code",
      "source": [
        "def nthUglyNumber(n):\n",
        "    ugly = [0] * n\n",
        "    ugly[0] = 1\n",
        "    p2 = p3 = p5 = 0\n",
        "\n",
        "    for i in range(1, n):\n",
        "        next_ugly = min(ugly[p2] * 2, ugly[p3] * 3, ugly[p5] * 5)\n",
        "        ugly[i] = next_ugly\n",
        "\n",
        "        if ugly[p2] * 2 == next_ugly:\n",
        "            p2 += 1\n",
        "        if ugly[p3] * 3 == next_ugly:\n",
        "            p3 += 1\n",
        "        if ugly[p5] * 5 == next_ugly:\n",
        "            p5 += 1\n",
        "\n",
        "    return ugly[n - 1]\n",
        "\n",
        "n = 10\n",
        "print(nthUglyNumber(n))\n"
      ],
      "metadata": {
        "colab": {
          "base_uri": "https://localhost:8080/"
        },
        "id": "3n57aPm5s6QU",
        "outputId": "e6d3a5c7-1748-48fc-f248-814c6bb7f375"
      },
      "execution_count": 6,
      "outputs": [
        {
          "output_type": "stream",
          "name": "stdout",
          "text": [
            "12\n"
          ]
        }
      ]
    },
    {
      "cell_type": "markdown",
      "source": [
        "## Question -6"
      ],
      "metadata": {
        "id": "ao1KDChZs6wP"
      }
    },
    {
      "cell_type": "code",
      "source": [
        "from collections import Counter\n",
        "\n",
        "def topKFrequentWords(words, k):\n",
        "    word_count = Counter(words)\n",
        "\n",
        "    sorted_words = sorted(word_count.keys(), key=lambda word: (-word_count[word], word))\n",
        "\n",
        "    return sorted_words[:k]\n",
        "\n",
        "\n",
        "words = [\"i\", \"love\", \"leetcode\", \"i\", \"love\", \"coding\"]\n",
        "k = 2\n",
        "print(topKFrequentWords(words, k))\n"
      ],
      "metadata": {
        "colab": {
          "base_uri": "https://localhost:8080/"
        },
        "id": "vBl15i0Ns7b2",
        "outputId": "84730527-ccdb-4472-a553-7116a5e14209"
      },
      "execution_count": 7,
      "outputs": [
        {
          "output_type": "stream",
          "name": "stdout",
          "text": [
            "['i', 'love']\n"
          ]
        }
      ]
    },
    {
      "cell_type": "markdown",
      "source": [
        "## Question -7"
      ],
      "metadata": {
        "id": "-rIU5T7cs71h"
      }
    },
    {
      "cell_type": "code",
      "source": [
        "from collections import deque\n",
        "\n",
        "def maxSlidingWindow(nums, k):\n",
        "    window = deque()\n",
        "    result = []\n",
        "\n",
        "    for i in range(len(nums)):\n",
        "        # Remove indices from the front that are no longer within the window\n",
        "        while window and window[0] <= i - k:\n",
        "            window.popleft()\n",
        "\n",
        "        # Remove indices from the back that have elements smaller than the current element\n",
        "        while window and nums[window[-1]] < nums[i]:\n",
        "            window.pop()\n",
        "\n",
        "        # Add the current index to the back of the deque\n",
        "        window.append(i)\n",
        "\n",
        "        # If the window is fully formed, append the maximum element to the result list\n",
        "        if i >= k - 1:\n",
        "            result.append(nums[window[0]])\n",
        "\n",
        "    return result\n",
        "\n",
        "nums = [1, 3, -1, -3, 5, 3, 6, 7]\n",
        "k = 3\n",
        "print(maxSlidingWindow(nums, k))\n"
      ],
      "metadata": {
        "colab": {
          "base_uri": "https://localhost:8080/"
        },
        "id": "r9WX6p5Es8if",
        "outputId": "94bbf548-a252-4cb0-eb82-a3c70fe38683"
      },
      "execution_count": 8,
      "outputs": [
        {
          "output_type": "stream",
          "name": "stdout",
          "text": [
            "[3, 3, 5, 5, 6, 7]\n"
          ]
        }
      ]
    },
    {
      "cell_type": "markdown",
      "source": [
        "## Question -8"
      ],
      "metadata": {
        "id": "CeZbTP_ns87Q"
      }
    },
    {
      "cell_type": "code",
      "source": [
        "def findClosestElements(arr, k, x):\n",
        "    left = 0\n",
        "    right = len(arr) - 1\n",
        "\n",
        "    while right - left + 1 > k:\n",
        "        if abs(arr[left] - x) <= abs(arr[right] - x):\n",
        "            right -= 1\n",
        "        else:\n",
        "            left += 1\n",
        "\n",
        "    return arr[left:right + 1]\n",
        "\n",
        "arr = [1, 2, 3, 4, 5]\n",
        "k = 4\n",
        "x = 3\n",
        "print(findClosestElements(arr, k, x))\n"
      ],
      "metadata": {
        "colab": {
          "base_uri": "https://localhost:8080/"
        },
        "id": "jM3Gi5eCs9nk",
        "outputId": "c3ebde1d-0867-4a94-fff8-844b268a6377"
      },
      "execution_count": 9,
      "outputs": [
        {
          "output_type": "stream",
          "name": "stdout",
          "text": [
            "[1, 2, 3, 4]\n"
          ]
        }
      ]
    }
  ]
}