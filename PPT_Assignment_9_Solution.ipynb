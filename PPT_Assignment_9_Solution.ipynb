{
  "nbformat": 4,
  "nbformat_minor": 0,
  "metadata": {
    "colab": {
      "provenance": []
    },
    "kernelspec": {
      "name": "python3",
      "display_name": "Python 3"
    },
    "language_info": {
      "name": "python"
    }
  },
  "cells": [
    {
      "cell_type": "markdown",
      "source": [
        "# ASSIGNMENT 9\n",
        "## **Question 1**\n",
        "\n",
        "Given an integer `n`, return *`true` if it is a power of two. Otherwise, return `false`*.\n",
        "\n",
        "An integer `n` is a power of two, if there exists an integer `x` such that `n == 2x`.\n",
        "\n",
        "**Example 1:**\n",
        "Input: n = 1\n",
        "\n",
        "Output: true\n",
        "\n",
        "**Example 2:**\n",
        "Input: n = 16\n",
        "\n",
        "Output: true\n",
        "\n",
        "**Example 3:**\n",
        "Input: n = 3\n",
        "\n",
        "Output: false\n",
        "\n",
        "</aside>"
      ],
      "metadata": {
        "id": "jgCkGeSwzy3i"
      }
    },
    {
      "cell_type": "code",
      "source": [
        "class Solution:\n",
        "\tdef isPowerOfTwo(self, n):\n",
        "\t\tif n == 1:\n",
        "\t\t\treturn True\n",
        "\t\tif n % 2 != 0 or n == 0:\n",
        "\t\t\treturn False\n",
        "\t\treturn self.isPowerOfTwo(n/2)\n",
        "x = Solution()\n",
        "n = 3\n",
        "print(x.isPowerOfTwo(n))\n",
        ""
      ],
      "metadata": {
        "colab": {
          "base_uri": "https://localhost:8080/"
        },
        "id": "M1k-eKlCzzBa",
        "outputId": "878c1920-8ec8-4a59-eaf9-84e50719c1cd"
      },
      "execution_count": 2,
      "outputs": [
        {
          "output_type": "stream",
          "name": "stdout",
          "text": [
            "False\n"
          ]
        }
      ]
    },
    {
      "cell_type": "markdown",
      "source": [
        "## **Question 2**\n",
        "\n",
        "Given a number n, find the sum of the first natural numbers.\n",
        "\n",
        "**Example 1:**\n",
        "\n",
        "Input: n = 3\n",
        "\n",
        "Output: 6\n",
        "\n",
        "**Example 2:**\n",
        "\n",
        "Input  : 5\n",
        "\n",
        "Output : 15\n",
        "\n",
        "</aside>"
      ],
      "metadata": {
        "id": "_p9xQsbyzzO_"
      }
    },
    {
      "cell_type": "code",
      "source": [
        "\n",
        "# Returns sum of first n natural\n",
        "# numbers\n",
        "def findSum(n):\n",
        "\tsum = 0\n",
        "\tx = 1\n",
        "\twhile x <= n:\n",
        "\t\tsum = sum + x\n",
        "\t\tx = x + 1\n",
        "\treturn sum\n",
        "\n",
        "\n",
        "# Driver code\n",
        "n = 5\n",
        "print(findSum(n))\n"
      ],
      "metadata": {
        "colab": {
          "base_uri": "https://localhost:8080/"
        },
        "id": "XPb5gZXVzzcR",
        "outputId": "dc936770-24b5-45a6-edcf-65561f0064f6"
      },
      "execution_count": 3,
      "outputs": [
        {
          "output_type": "stream",
          "name": "stdout",
          "text": [
            "15\n"
          ]
        }
      ]
    },
    {
      "cell_type": "markdown",
      "source": [
        "## **Question 3**\n",
        "\n",
        "****Given a positive integer, N. Find the factorial of N.\n",
        "\n",
        "**Example 1:**\n",
        "\n",
        "Input: N = 5\n",
        "\n",
        "Output: 120\n",
        "\n",
        "**Example 2:**\n",
        "\n",
        "Input: N = 4\n",
        "\n",
        "Output: 24\n",
        "\n",
        "</aside>"
      ],
      "metadata": {
        "id": "f7cCXEEpzzkk"
      }
    },
    {
      "cell_type": "code",
      "source": [
        "# Function to find factorial of given number\n",
        "def factorial(n):\n",
        "\n",
        "\tif n == 0:\n",
        "\t\treturn 1\n",
        "\n",
        "\treturn n * factorial(n-1)\n",
        "\n",
        "# Driver Code\n",
        "num = 4\n",
        "print(factorial(num))\n"
      ],
      "metadata": {
        "colab": {
          "base_uri": "https://localhost:8080/"
        },
        "id": "NY2Mk6KmzztO",
        "outputId": "55ae08b1-eed6-4d9b-f099-66650aac167e"
      },
      "execution_count": 6,
      "outputs": [
        {
          "output_type": "stream",
          "name": "stdout",
          "text": [
            "24\n"
          ]
        }
      ]
    },
    {
      "cell_type": "markdown",
      "source": [
        "## **Question 4**\n",
        "\n",
        "Given a number N and a power P, the task is to find the exponent of this number raised to the given power, i.e. N^P.\n",
        "\n",
        "**Example 1 :**\n",
        "\n",
        "Input: N = 5, P = 2\n",
        "\n",
        "Output: 25\n",
        "\n",
        "**Example 2 :**\n",
        "Input: N = 2, P = 5\n",
        "\n",
        "Output: 32\n",
        "\n",
        "</aside>"
      ],
      "metadata": {
        "id": "v-ejEXF0zz0x"
      }
    },
    {
      "cell_type": "code",
      "source": [
        "def calc_power(N, p):\n",
        "\tif p == 0:\n",
        "\t\treturn 1\n",
        "\treturn N * calc_power(N, p-1)\n",
        "N=2\n",
        "P=5\n",
        "print(calc_power(N, P))\n"
      ],
      "metadata": {
        "colab": {
          "base_uri": "https://localhost:8080/"
        },
        "id": "i7fv-270zz8T",
        "outputId": "3a99998a-e4a8-4a7a-eb56-296b33d9d50c"
      },
      "execution_count": 7,
      "outputs": [
        {
          "output_type": "stream",
          "name": "stdout",
          "text": [
            "32\n"
          ]
        }
      ]
    },
    {
      "cell_type": "markdown",
      "source": [
        "## **Question 5**\n",
        "\n",
        "Given an array of integers **arr**, the task is to find maximum element of that array using recursion.\n",
        "\n",
        "**Example 1:**\n",
        "\n",
        "Input: arr = {1, 4, 3, -5, -4, 8, 6};\n",
        "Output: 8\n",
        "\n",
        "**Example 2:**\n",
        "\n",
        "Input: arr = {1, 4, 45, 6, 10, -8};\n",
        "Output: 45\n",
        "\n",
        "</aside>"
      ],
      "metadata": {
        "id": "jsgCVy1yz0D9"
      }
    },
    {
      "cell_type": "code",
      "source": [
        "# function to return maximum element\n",
        "# using recursion\n",
        "def findMaxRec(A, n):\n",
        "\n",
        "\t# if n = 0 means whole array\n",
        "\t# has been traversed\n",
        "\tif (n == 1):\n",
        "\t\treturn A[0]\n",
        "\treturn max(A[n - 1], findMaxRec(A, n - 1))\n",
        "\n",
        "# Driver Code\n",
        "if __name__ == \"__main__\":\n",
        "\n",
        "\tarr = [1, 4, 3, -5, -4, 8, 6]\n",
        "\tn = len(arr)\n",
        "\tprint(findMaxRec(arr, n))\n",
        "\n"
      ],
      "metadata": {
        "colab": {
          "base_uri": "https://localhost:8080/"
        },
        "id": "uakYtrLDz0Pe",
        "outputId": "ff12b5e9-53d8-4577-9b6b-109e5fdda4ce"
      },
      "execution_count": 9,
      "outputs": [
        {
          "output_type": "stream",
          "name": "stdout",
          "text": [
            "8\n"
          ]
        }
      ]
    },
    {
      "cell_type": "markdown",
      "source": [
        "## **Question 6**\n",
        "\n",
        "Given first term (a), common difference (d) and a integer N of the Arithmetic Progression series, the task is to find Nth term of the series.\n",
        "\n",
        "**Example 1:**\n",
        "\n",
        "Input : a = 2 d = 1 N = 5\n",
        "Output : 6\n",
        "The 5th term of the series is : 6\n",
        "\n",
        "**Example 2:**\n",
        "\n",
        "Input : a = 5 d = 2 N = 10\n",
        "Output : 23\n",
        "The 10th term of the series is : 23\n",
        "\n",
        "</aside>"
      ],
      "metadata": {
        "id": "nwqafcKHz0XS"
      }
    },
    {
      "cell_type": "code",
      "source": [
        "# find nth term of\n",
        "# Arithmetic progression\n",
        "\n",
        "def Nth_of_AP(a, d, N) :\n",
        "\n",
        "\t# using formula to find the\n",
        "\t# Nth term t(n) = a(1) + (n-1)*d\n",
        "\treturn (a + (N - 1) * d)\n",
        "\n",
        "\n",
        "# Driver code\n",
        "a = 2 # starting number\n",
        "d = 1 # Common difference\n",
        "N = 5 # N th term to be find\n",
        "\n",
        "# Display the output\n",
        "print(Nth_of_AP(a, d, N))\n",
        "\n"
      ],
      "metadata": {
        "colab": {
          "base_uri": "https://localhost:8080/"
        },
        "id": "hsKP7XdLz0fk",
        "outputId": "bec38141-6352-4122-8c92-504a688341c8"
      },
      "execution_count": 11,
      "outputs": [
        {
          "output_type": "stream",
          "name": "stdout",
          "text": [
            "6\n"
          ]
        }
      ]
    },
    {
      "cell_type": "markdown",
      "source": [
        "## **Question 7**\n",
        "\n",
        "Given a string S, the task is to write a program to print all permutations of a given string.\n",
        "\n",
        "**Example 1:**\n",
        "\n",
        "***Input:***\n",
        "\n",
        "*S = “ABC”*\n",
        "\n",
        "***Output:***\n",
        "\n",
        "*“ABC”, “ACB”, “BAC”, “BCA”, “CBA”, “CAB”*\n",
        "\n",
        "**Example 2:**\n",
        "\n",
        "***Input:***\n",
        "\n",
        "*S = “XY”*\n",
        "\n",
        "***Output:***\n",
        "\n",
        "*“XY”, “YX”*\n",
        "\n",
        "</aside>"
      ],
      "metadata": {
        "id": "0Fq7mtavz0nv"
      }
    },
    {
      "cell_type": "code",
      "source": [
        "def permute(s, answer):\n",
        "\tif (len(s) == 0):\n",
        "\t\tprint(answer, end=\" \")\n",
        "\t\treturn\n",
        "\n",
        "\tfor i in range(len(s)):\n",
        "\t\tch = s[i]\n",
        "\t\tleft_substr = s[0:i]\n",
        "\t\tright_substr = s[i + 1:]\n",
        "\t\trest = left_substr + right_substr\n",
        "\t\tpermute(rest, answer + ch)\n",
        "\n",
        "\n",
        "# Driver Code\n",
        "answer = \"\"\n",
        "\n",
        "s = \"ABC\"\n",
        "permute(s, answer)\n"
      ],
      "metadata": {
        "colab": {
          "base_uri": "https://localhost:8080/"
        },
        "id": "Seab44OAz0vr",
        "outputId": "ea392798-14f5-41db-8a6b-b2a4516d932a"
      },
      "execution_count": 16,
      "outputs": [
        {
          "output_type": "stream",
          "name": "stdout",
          "text": [
            "ABC ACB BAC BCA CAB CBA "
          ]
        }
      ]
    },
    {
      "cell_type": "markdown",
      "source": [
        "## **Question 8**\n",
        "\n",
        "Given an array, find a product of all array elements.\n",
        "\n",
        "**Example 1:**\n",
        "\n",
        "Input  : arr[] = {1, 2, 3, 4, 5}\n",
        "Output : 120\n",
        "**Example 2:**\n",
        "\n",
        "Input  : arr[] = {1, 6, 3}\n",
        "Output : 18\n",
        "\n",
        "</aside>"
      ],
      "metadata": {
        "id": "f91NjcO0z030"
      }
    },
    {
      "cell_type": "code",
      "source": [
        "# Python code to product elements in array\n",
        "\n",
        "#array Elements\n",
        "arr=[1,2,3,4,5]\n",
        "product=1\n",
        "\n",
        "#initialize start and last pointers\n",
        "i=0\n",
        "j=len(arr)-1\n",
        "\n",
        "#add first and last simultaneously\n",
        "while(i<j):\n",
        "\tproduct*=arr[i]*arr[j]\n",
        "\ti+=1\n",
        "\tj-=1\n",
        "\n",
        "#multiply only one element\n",
        "if(i==j):\n",
        "\tproduct*=arr[i]\n",
        "\n",
        "#printing product\n",
        "print(product)\n"
      ],
      "metadata": {
        "colab": {
          "base_uri": "https://localhost:8080/"
        },
        "id": "t4_IKXxJz0_l",
        "outputId": "7e98cdec-e722-4e82-cffc-101e0b7f6e3d"
      },
      "execution_count": 17,
      "outputs": [
        {
          "output_type": "stream",
          "name": "stdout",
          "text": [
            "120\n"
          ]
        }
      ]
    }
  ]
}