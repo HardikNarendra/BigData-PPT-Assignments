{
  "nbformat": 4,
  "nbformat_minor": 0,
  "metadata": {
    "colab": {
      "provenance": []
    },
    "kernelspec": {
      "name": "python3",
      "display_name": "Python 3"
    },
    "language_info": {
      "name": "python"
    }
  },
  "cells": [
    {
      "cell_type": "markdown",
      "source": [
        "# Assignment 22"
      ],
      "metadata": {
        "id": "bf3CrDIroJk7"
      }
    },
    {
      "cell_type": "markdown",
      "source": [
        "## Question-1"
      ],
      "metadata": {
        "id": "X76BUr8EoPY_"
      }
    },
    {
      "cell_type": "code",
      "execution_count": 1,
      "metadata": {
        "id": "MKIfLaJY6dEj",
        "colab": {
          "base_uri": "https://localhost:8080/"
        },
        "outputId": "81cd210f-f18b-45f6-a612-56899507a37f"
      },
      "outputs": [
        {
          "output_type": "stream",
          "name": "stdout",
          "text": [
            "25 12 30 10 36 15 "
          ]
        }
      ],
      "source": [
        "# Python program for conversion of\n",
        "# binary tree to doubly linked list.\n",
        "class Node:\n",
        "\tdef __init__(self, val):\n",
        "\t\tself.right = None\n",
        "\t\tself.data = val\n",
        "\t\tself.left = None\n",
        "\n",
        "# Global variable used in convert\n",
        "prev = None\n",
        "\n",
        "def BinaryTree2DoubleLinkedList(root):\n",
        "\n",
        "\t# Base case\n",
        "\tif root is None:\n",
        "\t\treturn root\n",
        "\n",
        "\t# Recursively convert left subtree\n",
        "\thead = BinaryTree2DoubleLinkedList(root.left);\n",
        "\n",
        "\t# Since we are going to change prev,\n",
        "\t# we need to use global keyword\n",
        "\tglobal prev\n",
        "\n",
        "\t# If prev is empty, then this is the\n",
        "\t# first node of DLL\n",
        "\tif prev is None :\n",
        "\t\thead = root\n",
        "\n",
        "\telse:\n",
        "\t\troot.left = prev\n",
        "\t\tprev.right = root\n",
        "\n",
        "\t# Update prev\n",
        "\tprev = root;\n",
        "\n",
        "\t# Recursively convert right subtree\n",
        "\tBinaryTree2DoubleLinkedList(root.right);\n",
        "\n",
        "\treturn head\n",
        "\n",
        "def print_dll(head):\n",
        "\n",
        "\t# Function to print nodes in given\n",
        "\t# doubly linked list\n",
        "\twhile head is not None:\n",
        "\t\tprint(head.data, end=\" \")\n",
        "\t\thead = head.right\n",
        "\n",
        "\n",
        "# Driver program to test above functions\n",
        "# Let us create the tree as\n",
        "# shown in above diagram\n",
        "if __name__ == '__main__':\n",
        "\troot = Node(10)\n",
        "\troot.left = Node(12)\n",
        "\troot.right = Node(15)\n",
        "\troot.left.left = Node(25)\n",
        "\troot.left.right = Node(30)\n",
        "\troot.right.left = Node(36)\n",
        "\n",
        "\thead = BinaryTree2DoubleLinkedList(root)\n",
        "\n",
        "\t# Print the converted list\n",
        "\tprint_dll(head)\n",
        ""
      ]
    },
    {
      "cell_type": "markdown",
      "source": [
        "## Question-2"
      ],
      "metadata": {
        "id": "KmUPTGNcoaZF"
      }
    },
    {
      "cell_type": "code",
      "source": [
        "# Python3 program to flip\n",
        "# a binary tree\n",
        "from collections import deque\n",
        "\n",
        "# A binary tree node structure\n",
        "class Node:\n",
        "\n",
        "\tdef __init__(self, key):\n",
        "\n",
        "\t\tself.data = key\n",
        "\t\tself.left = None\n",
        "\t\tself.right = None\n",
        "\n",
        "# method to flip the\n",
        "# binary tree\n",
        "def flipBinaryTree(root):\n",
        "\n",
        "\t# Initialization of\n",
        "\t# pointers\n",
        "\tcurr = root\n",
        "\tnext = None\n",
        "\ttemp = None\n",
        "\tprev = None\n",
        "\n",
        "\t# Iterate through all\n",
        "\t# left nodes\n",
        "\twhile(curr):\n",
        "\t\tnext = curr.left\n",
        "\n",
        "\t\t# Swapping nodes now, need temp\n",
        "\t\t# to keep the previous right child\n",
        "\n",
        "\t\t# Making prev's right as curr's\n",
        "\t\t# left child\n",
        "\t\tcurr.left = temp\n",
        "\n",
        "\t\t# Storing curr's right child\n",
        "\t\ttemp = curr.right\n",
        "\n",
        "\t\t# Making prev as curr's right\n",
        "\t\t# child\n",
        "\t\tcurr.right = prev\n",
        "\n",
        "\t\tprev = curr\n",
        "\t\tcurr = next\n",
        "\treturn prev\n",
        "\n",
        "# Iterative method to do level\n",
        "# order traversal line by line\n",
        "def printLevelOrder(root):\n",
        "\n",
        "\t# Base Case\n",
        "\tif (root == None):\n",
        "\t\treturn\n",
        "\n",
        "\t# Create an empty queue for\n",
        "\t# level order traversal\n",
        "\tq = deque()\n",
        "\n",
        "\t# Enqueue Root and initialize\n",
        "\t# height\n",
        "\tq.append(root)\n",
        "\n",
        "\twhile (1):\n",
        "\t\t# nodeCount (queue size) indicates\n",
        "\t\t# number of nodes at current level.\n",
        "\t\tnodeCount = len(q)\n",
        "\t\tif (nodeCount == 0):\n",
        "\t\t\tbreak\n",
        "\n",
        "\t\t# Dequeue all nodes of current\n",
        "\t\t# level and Enqueue all nodes\n",
        "\t\t# of next level\n",
        "\t\twhile (nodeCount > 0):\n",
        "\t\t\tnode = q.popleft()\n",
        "\t\t\tprint(node.data, end = \" \")\n",
        "\n",
        "\t\t\tif (node.left != None):\n",
        "\t\t\t\tq.append(node.left)\n",
        "\n",
        "\t\t\tif (node.right != None):\n",
        "\t\t\t\tq.append(node.right)\n",
        "\t\t\tnodeCount -= 1\n",
        "\n",
        "\t\tprint()\n",
        "\n",
        "# Driver code\n",
        "if __name__ == '__main__':\n",
        "\n",
        "\troot = Node(1)\n",
        "\troot.left = Node(2)\n",
        "\troot.right = Node(3)\n",
        "\troot.right.left = Node(4)\n",
        "\troot.right.right = Node(5)\n",
        "\n",
        "\tprint(\"Level order traversal of given tree\")\n",
        "\tprintLevelOrder(root)\n",
        "\n",
        "\troot = flipBinaryTree(root)\n",
        "\n",
        "\tprint(\"\\nLevel order traversal of the flipped\"\n",
        "\t\t\" tree\")\n",
        "\tprintLevelOrder(root)"
      ],
      "metadata": {
        "colab": {
          "base_uri": "https://localhost:8080/"
        },
        "id": "Y2lL31xPobTH",
        "outputId": "f8e3885c-5464-4b7e-dad3-1638ac410134"
      },
      "execution_count": 2,
      "outputs": [
        {
          "output_type": "stream",
          "name": "stdout",
          "text": [
            "Level order traversal of given tree\n",
            "1 \n",
            "2 3 \n",
            "4 5 \n",
            "\n",
            "Level order traversal of the flipped tree\n",
            "2 \n",
            "3 1 \n",
            "4 5 \n"
          ]
        }
      ]
    },
    {
      "cell_type": "markdown",
      "source": [
        "## Question-3"
      ],
      "metadata": {
        "id": "naKRb3ISobu-"
      }
    },
    {
      "cell_type": "code",
      "source": [
        "class Node:\n",
        "    def __init__(self, value):\n",
        "        self.value = value\n",
        "        self.left = None\n",
        "        self.right = None\n",
        "\n",
        "def printRootToLeafPaths(root):\n",
        "    if root is None:\n",
        "        return\n",
        "\n",
        "    stack = []\n",
        "    path = []\n",
        "\n",
        "    stack.append(root)\n",
        "    path.append(str(root.value))\n",
        "\n",
        "    while stack:\n",
        "        node = stack.pop()\n",
        "        current_path = path.pop()\n",
        "\n",
        "        if node.left is None and node.right is None:\n",
        "            print(current_path)\n",
        "\n",
        "        if node.right:\n",
        "            stack.append(node.right)\n",
        "            path.append(current_path + '->' + str(node.right.value))\n",
        "\n",
        "        if node.left:\n",
        "            stack.append(node.left)\n",
        "            path.append(current_path + '->' + str(node.left.value))\n",
        "\n",
        "# Construct the binary tree\n",
        "root = Node(6)\n",
        "root.left = Node(3)\n",
        "root.right = Node(5)\n",
        "root.left.left = Node(2)\n",
        "root.left.right = Node(5)\n",
        "root.right.right = Node(4)\n",
        "root.left.right.left = Node(7)\n",
        "root.left.right.right = Node(4)\n",
        "\n",
        "# Print all root-to-leaf paths\n",
        "print(\"Root-to-leaf paths:\")\n",
        "printRootToLeafPaths(root)\n"
      ],
      "metadata": {
        "colab": {
          "base_uri": "https://localhost:8080/"
        },
        "id": "vtGgwwEVoc2V",
        "outputId": "8ef7830b-6e65-4a0a-a215-774830c5c114"
      },
      "execution_count": 4,
      "outputs": [
        {
          "output_type": "stream",
          "name": "stdout",
          "text": [
            "Root-to-leaf paths:\n",
            "6->3->2\n",
            "6->3->5->7\n",
            "6->3->5->4\n",
            "6->5->4\n"
          ]
        }
      ]
    },
    {
      "cell_type": "markdown",
      "source": [
        "## Question-4"
      ],
      "metadata": {
        "id": "uXbCloGModMO"
      }
    },
    {
      "cell_type": "code",
      "source": [
        "# Python3 program to check if\n",
        "# all three given traversals\n",
        "# are of the same tree\n",
        "class node:\n",
        "\n",
        "\tdef __init__(self, x):\n",
        "\n",
        "\t\tself.data = x\n",
        "\t\tself.left = None\n",
        "\t\tself.right = None\n",
        "\n",
        "preIndex = 0\n",
        "\n",
        "# Function to find index of value\n",
        "# in arr[start...end]. The function\n",
        "# assumes that value is present in in\n",
        "def search(arr, strt, end, value):\n",
        "\n",
        "\tfor i in range(strt, end + 1):\n",
        "\t\tif(arr[i] == value):\n",
        "\t\t\treturn i\n",
        "\n",
        "# Recursive function to construct\n",
        "# binary tree of size lenn from\n",
        "# Inorder traversal in and Preorder\n",
        "# traversal pre[]. Initial values\n",
        "# of inStrt and inEnd should be 0\n",
        "# and lenn -1. The function doesn't\n",
        "# do any error checking for cases\n",
        "# where inorder and preorder do not\n",
        "# form a tree\n",
        "def buildTree(inn, pre, inStrt, inEnd):\n",
        "\n",
        "\tglobal preIndex\n",
        "\n",
        "\tif(inStrt > inEnd):\n",
        "\t\treturn None\n",
        "\n",
        "\t# Pick current node from Preorder\n",
        "\t# traversal using preIndex and\n",
        "\t# increment preIndex\n",
        "\ttNode = node(pre[preIndex])\n",
        "\tpreIndex += 1\n",
        "\n",
        "\t# If this node has no children\n",
        "\t# then return\n",
        "\tif (inStrt == inEnd):\n",
        "\t\treturn tNode\n",
        "\n",
        "\t# Else find the index of this\n",
        "\t# node in Inorder traversal\n",
        "\tinIndex = search(inn, inStrt,\n",
        "\t\t\t\t\tinEnd, tNode.data)\n",
        "\n",
        "\t# Using index in Inorder traversal,\n",
        "\t# construct left and right subtress\n",
        "\ttNode.left = buildTree(inn, pre, inStrt,\n",
        "\t\t\t\t\t\tinIndex - 1)\n",
        "\ttNode.right = buildTree(inn, pre,\n",
        "\t\t\t\t\t\t\tinIndex + 1, inEnd)\n",
        "\n",
        "\treturn tNode\n",
        "\n",
        "# function to compare Postorder traversal\n",
        "# on constructed tree and given Postorder\n",
        "def checkPostorder(node, postOrder, index):\n",
        "\tif (node == None):\n",
        "\t\treturn index\n",
        "\n",
        "\t# first recur on left child\n",
        "\tindex = checkPostorder(node.left,\n",
        "\t\t\t\t\t\tpostOrder,\n",
        "\t\t\t\t\t\tindex)\n",
        "\n",
        "\t# now recur on right child\n",
        "\tindex = checkPostorder(node.right,\n",
        "\t\t\t\t\t\tpostOrder,\n",
        "\t\t\t\t\t\tindex)\n",
        "\n",
        "\t# Compare if data at current index in\n",
        "\t# both Postorder traversals are same\n",
        "\tif (node.data == postOrder[index]):\n",
        "\t\tindex += 1\n",
        "\telse:\n",
        "\t\treturn - 1\n",
        "\n",
        "\treturn index\n",
        "\n",
        "# Driver code\n",
        "if __name__ == '__main__':\n",
        "\n",
        "\tinOrder = [4, 2, 5, 1, 3]\n",
        "\tpreOrder = [1, 2, 4, 5, 3]\n",
        "\tpostOrder = [4, 5, 2, 3, 1]\n",
        "\tlenn = len(inOrder)\n",
        "\n",
        "\t# build tree from given\n",
        "\t# Inorder and Preorder traversals\n",
        "\troot = buildTree(inOrder, preOrder,\n",
        "\t\t\t\t\t0, lenn - 1)\n",
        "\n",
        "\t# compare postorder traversal on\n",
        "\t# constructed tree with given\n",
        "\t# Postorder traversal\n",
        "\tindex = checkPostorder(root, postOrder, 0)\n",
        "\n",
        "\t# If both postorder traversals are same\n",
        "\tif (index == lenn):\n",
        "\t\tprint(\"Yes\")\n",
        "\telse:\n",
        "\t\tprint(\"No\")"
      ],
      "metadata": {
        "colab": {
          "base_uri": "https://localhost:8080/"
        },
        "id": "iY1k1EDhod9N",
        "outputId": "b5c02f3d-9419-4add-e215-3ed8cc7a5c7c"
      },
      "execution_count": 5,
      "outputs": [
        {
          "output_type": "stream",
          "name": "stdout",
          "text": [
            "Yes\n"
          ]
        }
      ]
    }
  ]
}