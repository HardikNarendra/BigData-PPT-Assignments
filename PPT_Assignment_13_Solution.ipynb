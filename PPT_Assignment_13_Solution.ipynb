{
  "nbformat": 4,
  "nbformat_minor": 0,
  "metadata": {
    "colab": {
      "provenance": []
    },
    "kernelspec": {
      "name": "python3",
      "display_name": "Python 3"
    },
    "language_info": {
      "name": "python"
    }
  },
  "cells": [
    {
      "cell_type": "markdown",
      "source": [
        "# Assignment 13"
      ],
      "metadata": {
        "id": "JnHCW5bDpacb"
      }
    },
    {
      "cell_type": "code",
      "source": [
        "#question 1\n",
        "class Node:\n",
        "    def __init__(self, data):\n",
        "        self.data = data\n",
        "        self.next = None\n",
        "\n",
        "def createNewList(head1, head2):\n",
        "    if not head1 or not head2:\n",
        "        return None\n",
        "\n",
        "    current1 = head1\n",
        "    current2 = head2\n",
        "    newHead = None\n",
        "\n",
        "    while current1 and current2:\n",
        "        if current1.data >= current2.data:\n",
        "            newNode = Node(current1.data)\n",
        "            newNode.next = newHead\n",
        "            newHead = newNode\n",
        "        else:\n",
        "            newNode = Node(current2.data)\n",
        "            newNode.next = newHead\n",
        "            newHead = newNode\n",
        "        current1 = current1.next\n",
        "        current2 = current2.next\n",
        "\n",
        "    # Reverse the new linked list\n",
        "    prev = None\n",
        "    current = newHead\n",
        "    while current:\n",
        "        nextNode = current.next\n",
        "        current.next = prev\n",
        "        prev = current\n",
        "        current = nextNode\n",
        "\n",
        "    return prev\n",
        "\n",
        "# Example usage\n",
        "head1 = Node(5)\n",
        "head1.next = Node(2)\n",
        "head1.next.next = Node(3)\n",
        "head1.next.next.next = Node(8)\n",
        "\n",
        "head2 = Node(1)\n",
        "head2.next = Node(7)\n",
        "head2.next.next = Node(4)\n",
        "head2.next.next.next = Node(5)\n",
        "\n",
        "newHead = createNewList(head1, head2)\n",
        "\n",
        "# Print the new linked list\n",
        "current = newHead\n",
        "while current:\n",
        "    print(current.data, end=\" \")\n",
        "    current = current.next\n"
      ],
      "metadata": {
        "colab": {
          "base_uri": "https://localhost:8080/"
        },
        "id": "mnZKmWpWpXSJ",
        "outputId": "8d6751fd-a818-40e5-9b43-102b495cc403"
      },
      "execution_count": 3,
      "outputs": [
        {
          "output_type": "stream",
          "name": "stdout",
          "text": [
            "5 7 4 8 "
          ]
        }
      ]
    },
    {
      "cell_type": "code",
      "source": [
        "#question 2\n",
        "class Node:\n",
        "    def __init__(self, data):\n",
        "        self.data = data\n",
        "        self.next = None\n",
        "\n",
        "def removeDuplicates(head):\n",
        "    if not head or not head.next:\n",
        "        return head\n",
        "\n",
        "    current = head\n",
        "\n",
        "    while current and current.next:\n",
        "        if current.data == current.next.data:\n",
        "            current.next = current.next.next\n",
        "        else:\n",
        "            current = current.next\n",
        "\n",
        "    return head\n",
        "\n",
        "head = Node(11)\n",
        "head.next = Node(11)\n",
        "head.next.next = Node(11)\n",
        "head.next.next.next = Node(21)\n",
        "head.next.next.next.next = Node(43)\n",
        "head.next.next.next.next.next = Node(43)\n",
        "head.next.next.next.next.next.next = Node(60)\n",
        "\n",
        "newHead = removeDuplicates(head)\n",
        "\n",
        "# Print the modified linked list\n",
        "current = newHead\n",
        "while current:\n",
        "    print(current.data, end=\" \")\n",
        "    current = current.next\n"
      ],
      "metadata": {
        "colab": {
          "base_uri": "https://localhost:8080/"
        },
        "id": "bPPvEIARpXVq",
        "outputId": "fa005835-b35b-4eea-949b-8e96a99d0f3e"
      },
      "execution_count": 4,
      "outputs": [
        {
          "output_type": "stream",
          "name": "stdout",
          "text": [
            "11 21 43 60 "
          ]
        }
      ]
    },
    {
      "cell_type": "code",
      "source": [
        "#question 3\n",
        "class Node:\n",
        "    def __init__(self, data):\n",
        "        self.data = data\n",
        "        self.next = None\n",
        "\n",
        "def reverseKNodes(head, k):\n",
        "    if not head or k <= 1:\n",
        "        return head\n",
        "\n",
        "    previous = None\n",
        "    current = head\n",
        "    nextNode = None\n",
        "    count = 0\n",
        "\n",
        "    # Reverse the first k nodes\n",
        "    while current and count < k:\n",
        "        nextNode = current.next\n",
        "        current.next = previous\n",
        "        previous = current\n",
        "        current = nextNode\n",
        "        count += 1\n",
        "\n",
        "    # Recursively reverse the remaining nodes\n",
        "    if nextNode:\n",
        "        head.next = reverseKNodes(nextNode, k)\n",
        "\n",
        "    return previous\n",
        "\n",
        "\n",
        "\n",
        "head = Node(1)\n",
        "head.next = Node(2)\n",
        "head.next.next = Node(2)\n",
        "head.next.next.next = Node(4)\n",
        "head.next.next.next.next = Node(5)\n",
        "head.next.next.next.next.next = Node(6)\n",
        "head.next.next.next.next.next.next = Node(7)\n",
        "head.next.next.next.next.next.next.next = Node(8)\n",
        "\n",
        "k = 4\n",
        "\n",
        "newHead = reverseKNodes(head, k)\n",
        "\n",
        "# Print the modified linked list\n",
        "current = newHead\n",
        "while current:\n",
        "    print(current.data, end=\" \")\n",
        "    current = current.next\n"
      ],
      "metadata": {
        "colab": {
          "base_uri": "https://localhost:8080/"
        },
        "id": "JcqDIS6ipXZC",
        "outputId": "3305ad82-347e-4563-9fcf-85383fdec0c4"
      },
      "execution_count": 5,
      "outputs": [
        {
          "output_type": "stream",
          "name": "stdout",
          "text": [
            "4 2 2 1 8 7 6 5 "
          ]
        }
      ]
    },
    {
      "cell_type": "code",
      "source": [
        "#question 4\n",
        "# THE TIME COMPLEXITY OF THIS ALGORITHM IS O(n)\n",
        "class Node:\n",
        "    def __init__(self, data):\n",
        "        self.data = data\n",
        "        self.next = None\n",
        "\n",
        "def reverseAlternateKNodes(head, k):\n",
        "    if not head or k <= 1:\n",
        "        return head\n",
        "\n",
        "    previous = None\n",
        "    current = head\n",
        "    nextNode = None\n",
        "    count = 0\n",
        "\n",
        "    # Reverse the first k nodes\n",
        "    while current and count < k:\n",
        "        nextNode = current.next\n",
        "        current.next = previous\n",
        "        previous = current\n",
        "        current = nextNode\n",
        "        count += 1\n",
        "\n",
        "    # Recursively reverse the next k nodes\n",
        "    if nextNode:\n",
        "        head.next = reverseAlternateKNodes(nextNode, k)\n",
        "\n",
        "    # Skip the next k nodes without reversing\n",
        "    count = 0\n",
        "    while count < k - 1 and current:\n",
        "        current = current.next\n",
        "        count += 1\n",
        "\n",
        "    # Set the next node of the original head\n",
        "    # to the result of the recursive call\n",
        "    if current:\n",
        "        current.next = reverseAlternateKNodes(current.next, k)\n",
        "\n",
        "    return previous\n",
        "\n",
        "# Example usage\n",
        "head = Node(1)\n",
        "head.next = Node(2)\n",
        "head.next.next = Node(3)\n",
        "head.next.next.next = Node(4)\n",
        "head.next.next.next.next = Node(5)\n",
        "head.next.next.next.next.next = Node(6)\n",
        "head.next.next.next.next.next.next = Node(7)\n",
        "head.next.next.next.next.next.next.next = Node(8)\n",
        "head.next.next.next.next.next.next.next.next = Node(9)\n",
        "\n",
        "k = 3\n",
        "\n",
        "newHead = reverseAlternateKNodes(head, k)\n",
        "\n",
        "# Print the modified linked list\n",
        "current = newHead\n",
        "while current:\n",
        "    print(current.data, end=\" \")\n",
        "    current = current.next\n",
        "\n"
      ],
      "metadata": {
        "colab": {
          "base_uri": "https://localhost:8080/"
        },
        "id": "u4aXX_lspXca",
        "outputId": "034abd94-2035-446f-ac1d-83e9ece7249b"
      },
      "execution_count": 6,
      "outputs": [
        {
          "output_type": "stream",
          "name": "stdout",
          "text": [
            "3 2 1 6 5 4 9 8 7 "
          ]
        }
      ]
    },
    {
      "cell_type": "code",
      "source": [
        "#question 5\n",
        "class Node:\n",
        "    def __init__(self, data):\n",
        "        self.data = data\n",
        "        self.next = None\n",
        "\n",
        "def deleteLastOccurrence(head, key):\n",
        "    if not head:\n",
        "        return None\n",
        "\n",
        "    lastOccurrence = None\n",
        "    prevLastOccurrence = None\n",
        "    prev = None\n",
        "    current = head\n",
        "\n",
        "    while current:\n",
        "        if current.data == key:\n",
        "            prevLastOccurrence = prev\n",
        "            lastOccurrence = current\n",
        "        prev = current\n",
        "        current = current.next\n",
        "\n",
        "    if not lastOccurrence:\n",
        "        return head\n",
        "\n",
        "    if not prevLastOccurrence:\n",
        "        head = head.next\n",
        "    else:\n",
        "        prevLastOccurrence.next = lastOccurrence.next\n",
        "\n",
        "    return head\n",
        "\n",
        "\n",
        "\n",
        "head = Node(1)\n",
        "head.next = Node(2)\n",
        "head.next.next = Node(3)\n",
        "head.next.next.next = Node(5)\n",
        "head.next.next.next.next = Node(2)\n",
        "head.next.next.next.next.next = Node(10)\n",
        "\n",
        "key = 2\n",
        "\n",
        "newHead = deleteLastOccurrence(head, key)\n",
        "\n",
        "# Print the modified linked list\n",
        "current = newHead\n",
        "while current:\n",
        "    print(current.data, end=\" \")\n",
        "    current = current.next\n"
      ],
      "metadata": {
        "colab": {
          "base_uri": "https://localhost:8080/"
        },
        "id": "O6VTTjTEpXgE",
        "outputId": "fd695727-25a9-413d-8ab0-34d9008336fc"
      },
      "execution_count": 7,
      "outputs": [
        {
          "output_type": "stream",
          "name": "stdout",
          "text": [
            "1 2 3 5 10 "
          ]
        }
      ]
    },
    {
      "cell_type": "code",
      "source": [
        "#question 6\n",
        "class Node:\n",
        "    def __init__(self, data):\n",
        "        self.data = data\n",
        "        self.next = None\n",
        "\n",
        "def mergeSortedLists(head1, head2):\n",
        "    if not head1:\n",
        "        return head2\n",
        "    if not head2:\n",
        "        return head1\n",
        "\n",
        "    if head1.data <= head2.data:\n",
        "        newHead = head1\n",
        "        current1 = head1.next\n",
        "        current2 = head2\n",
        "    else:\n",
        "        newHead = head2\n",
        "        current1 = head1\n",
        "        current2 = head2.next\n",
        "\n",
        "    temp = newHead\n",
        "\n",
        "    while current1 and current2:\n",
        "        if current1.data <= current2.data:\n",
        "            temp.next = current1\n",
        "            current1 = current1.next\n",
        "        else:\n",
        "            temp.next = current2\n",
        "            current2 = current2.next\n",
        "        temp = temp.next\n",
        "\n",
        "    if current1:\n",
        "        temp.next = current1\n",
        "    if current2:\n",
        "        temp.next = current2\n",
        "\n",
        "    return newHead\n",
        "\n",
        "\n",
        "\n",
        "head1 = Node(5)\n",
        "head1.next = Node(10)\n",
        "head1.next.next = Node(15)\n",
        "\n",
        "head2 = Node(2)\n",
        "head2.next = Node(3)\n",
        "head2.next.next = Node(20)\n",
        "\n",
        "newHead = mergeSortedLists(head1, head2)\n",
        "\n",
        "# Print the merged list\n",
        "current = newHead\n",
        "while current:\n",
        "    print(current.data, end=\" \")\n",
        "    current = current.next\n"
      ],
      "metadata": {
        "colab": {
          "base_uri": "https://localhost:8080/"
        },
        "id": "pAB4XCn3pXjm",
        "outputId": "36f67bad-fe7f-45bd-a7c3-a060ca1e513f"
      },
      "execution_count": 8,
      "outputs": [
        {
          "output_type": "stream",
          "name": "stdout",
          "text": [
            "2 3 5 10 15 20 "
          ]
        }
      ]
    },
    {
      "cell_type": "code",
      "source": [
        "#question 7\n",
        "class Node:\n",
        "    def __init__(self, data):\n",
        "        self.data = data\n",
        "        self.prev = None\n",
        "        self.next = None\n",
        "\n",
        "def reverseDoublyLinkedList(head):\n",
        "    if not head or not head.next:\n",
        "        return head\n",
        "\n",
        "    current = head\n",
        "    prev = None\n",
        "\n",
        "    while current:\n",
        "        next = current.next\n",
        "        current.next = prev\n",
        "        current.prev = next\n",
        "        prev = current\n",
        "        current = next\n",
        "\n",
        "    head = prev\n",
        "\n",
        "    return head\n",
        "\n",
        "\n",
        "head = Node(10)\n",
        "head.next = Node(8)\n",
        "head.next.prev = head\n",
        "head.next.next = Node(4)\n",
        "head.next.next.prev = head.next\n",
        "head.next.next.next = Node(2)\n",
        "head.next.next.next.prev = head.next.next\n",
        "\n",
        "newHead = reverseDoublyLinkedList(head)\n",
        "\n",
        "# Print the reversed doubly linked list\n",
        "current = newHead\n",
        "while current:\n",
        "    print(current.data, end=\" \")\n",
        "    current = current.next\n"
      ],
      "metadata": {
        "colab": {
          "base_uri": "https://localhost:8080/"
        },
        "id": "NiRmqQvYpXnG",
        "outputId": "7ee25492-1f55-48ed-c232-d6300c9265a6"
      },
      "execution_count": 11,
      "outputs": [
        {
          "output_type": "stream",
          "name": "stdout",
          "text": [
            "2 4 8 10 "
          ]
        }
      ]
    },
    {
      "cell_type": "code",
      "source": [
        "#question 8\n",
        "class Node:\n",
        "    def __init__(self, data):\n",
        "        self.data = data\n",
        "        self.prev = None\n",
        "        self.next = None\n",
        "\n",
        "def deleteNodeAtPosition(head, position):\n",
        "    if not head:\n",
        "        return None\n",
        "\n",
        "    if position == 1:\n",
        "        newHead = head.next\n",
        "        if newHead:\n",
        "            newHead.prev = None\n",
        "        return newHead\n",
        "\n",
        "    current = head\n",
        "    count = 1\n",
        "\n",
        "    while current and count < position:\n",
        "        current = current.next\n",
        "        count += 1\n",
        "\n",
        "    if not current:\n",
        "        return head\n",
        "\n",
        "    current.prev.next = current.next\n",
        "\n",
        "    if current.next:\n",
        "        current.next.prev = current.prev\n",
        "\n",
        "    return head\n",
        "\n",
        "\n",
        "head = Node(1)\n",
        "head.next = Node(3)\n",
        "head.next.prev = head\n",
        "head.next.next = Node(4)\n",
        "head.next.next.prev = head.next\n",
        "\n",
        "position = 3\n",
        "\n",
        "newHead = deleteNodeAtPosition(head, position)\n",
        "\n",
        "# Print the modified doubly linked list\n",
        "current = newHead\n",
        "while current:\n",
        "    print(current.data, end=\" \")\n",
        "    current = current.next\n"
      ],
      "metadata": {
        "colab": {
          "base_uri": "https://localhost:8080/"
        },
        "id": "tN7sAWSJpXqn",
        "outputId": "9ea0fd59-8794-43ff-ec8e-c36945c5efab"
      },
      "execution_count": 12,
      "outputs": [
        {
          "output_type": "stream",
          "name": "stdout",
          "text": [
            "1 3 "
          ]
        }
      ]
    }
  ]
}