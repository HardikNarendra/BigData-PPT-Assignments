{
  "nbformat": 4,
  "nbformat_minor": 0,
  "metadata": {
    "colab": {
      "provenance": []
    },
    "kernelspec": {
      "name": "python3",
      "display_name": "Python 3"
    },
    "language_info": {
      "name": "python"
    }
  },
  "cells": [
    {
      "cell_type": "markdown",
      "source": [
        "# Assignment 16"
      ],
      "metadata": {
        "id": "sT5wfuUtEpXU"
      }
    },
    {
      "cell_type": "markdown",
      "source": [
        "## Question 1"
      ],
      "metadata": {
        "id": "uogh3xlgEvQN"
      }
    },
    {
      "cell_type": "code",
      "execution_count": 1,
      "metadata": {
        "id": "W8yGts9l6Hb0",
        "colab": {
          "base_uri": "https://localhost:8080/"
        },
        "outputId": "bbd918f2-453c-41e7-acb5-fb02f0ffac3a"
      },
      "outputs": [
        {
          "output_type": "stream",
          "name": "stdout",
          "text": [
            "[-1, -1, 1, 2, 2, 1, -1]\n"
          ]
        }
      ],
      "source": [
        "def findNearestGreaterFrequency(arr):\n",
        "    frequency = {}\n",
        "    stack = []\n",
        "    result = []\n",
        "\n",
        "    # Count the frequency of each element\n",
        "    for num in arr:\n",
        "        if num in frequency:\n",
        "            frequency[num] += 1\n",
        "        else:\n",
        "            frequency[num] = 1\n",
        "\n",
        "    # Iterate over the array in reverse order\n",
        "    for i in range(len(arr) - 1, -1, -1):\n",
        "        while stack and frequency[stack[-1]] <= frequency[arr[i]]:\n",
        "            stack.pop()\n",
        "\n",
        "        if not stack:\n",
        "            result.append(-1)\n",
        "        else:\n",
        "            result.append(stack[-1])\n",
        "\n",
        "        stack.append(arr[i])\n",
        "\n",
        "    result.reverse()\n",
        "    return result\n",
        "\n",
        "arr = [1, 1, 2, 3, 4, 2, 1]\n",
        "output = findNearestGreaterFrequency(arr)\n",
        "print(output)\n"
      ]
    },
    {
      "cell_type": "markdown",
      "source": [
        "## Question 2"
      ],
      "metadata": {
        "id": "Iu0kJy03EylZ"
      }
    },
    {
      "cell_type": "code",
      "source": [
        "def sortStack(stack):\n",
        "    temp_stack = []\n",
        "\n",
        "    while stack:\n",
        "        temp = stack.pop()\n",
        "\n",
        "        while temp_stack and temp_stack[-1] > temp:\n",
        "            stack.append(temp_stack.pop())\n",
        "\n",
        "        temp_stack.append(temp)\n",
        "\n",
        "    return temp_stack\n",
        "\n",
        "stack1 = [34, 3, 31, 98, 92, 23]\n",
        "output1 = sortStack(stack1)\n",
        "print(output1)\n",
        "\n",
        "\n"
      ],
      "metadata": {
        "colab": {
          "base_uri": "https://localhost:8080/"
        },
        "id": "8KXyuMRHEyxI",
        "outputId": "3af88227-cf6b-403d-d1b2-ae3c89b391f3"
      },
      "execution_count": 3,
      "outputs": [
        {
          "output_type": "stream",
          "name": "stdout",
          "text": [
            "[3, 23, 31, 34, 92, 98]\n"
          ]
        }
      ]
    },
    {
      "cell_type": "markdown",
      "source": [
        "## Question 3"
      ],
      "metadata": {
        "id": "HYv4R-e3EzBS"
      }
    },
    {
      "cell_type": "code",
      "source": [
        "def deleteMiddle(stack):\n",
        "    size = len(stack)\n",
        "    deleteMiddleHelper(stack, size, 1)\n",
        "\n",
        "def deleteMiddleHelper(stack, size, current):\n",
        "    if current == (size // 2) + 1:\n",
        "        stack.pop()\n",
        "        return\n",
        "\n",
        "    temp = stack.pop()\n",
        "    deleteMiddleHelper(stack, size, current + 1)\n",
        "    stack.append(temp)\n",
        "\n",
        "stack = [1, 2, 3, 4, 5]\n",
        "deleteMiddle(stack)\n",
        "print(stack)\n"
      ],
      "metadata": {
        "colab": {
          "base_uri": "https://localhost:8080/"
        },
        "id": "ob2EpTHeEzL3",
        "outputId": "68122f56-6725-49fa-beb3-7f0043451bac"
      },
      "execution_count": 4,
      "outputs": [
        {
          "output_type": "stream",
          "name": "stdout",
          "text": [
            "[1, 2, 4, 5]\n"
          ]
        }
      ]
    },
    {
      "cell_type": "markdown",
      "source": [
        "## Question 4"
      ],
      "metadata": {
        "id": "LctXpAVSEzUv"
      }
    },
    {
      "cell_type": "code",
      "source": [
        "def checkIncreasingOrder(queue):\n",
        "    stack = []\n",
        "    second_queue = []\n",
        "\n",
        "    stack.append(queue.pop(0))\n",
        "\n",
        "    while queue:\n",
        "        second_queue.append(queue.pop(0))\n",
        "\n",
        "    while stack:\n",
        "        second_queue.append(stack.pop())\n",
        "\n",
        "    prev = -1\n",
        "\n",
        "    while second_queue:\n",
        "        curr = second_queue.pop(0)\n",
        "        if prev > curr:\n",
        "            return \"No\"\n",
        "        prev = curr\n",
        "\n",
        "    return \"Yes\"\n",
        "\n",
        "queue = [5, 1, 2, 3, 4]\n",
        "output = checkIncreasingOrder(queue)\n",
        "print(output)\n"
      ],
      "metadata": {
        "colab": {
          "base_uri": "https://localhost:8080/"
        },
        "id": "bk-oOMQ8Ezdw",
        "outputId": "e76c5859-d02c-4dc2-a0b3-5157f9c83217"
      },
      "execution_count": 5,
      "outputs": [
        {
          "output_type": "stream",
          "name": "stdout",
          "text": [
            "Yes\n"
          ]
        }
      ]
    },
    {
      "cell_type": "markdown",
      "source": [
        "## Question 5"
      ],
      "metadata": {
        "id": "nBy1Gf7KEzn9"
      }
    },
    {
      "cell_type": "code",
      "source": [
        "def reverseNumber(number):\n",
        "    number_str = str(number)\n",
        "    stack = []\n",
        "\n",
        "    for char in number_str:\n",
        "        stack.append(char)\n",
        "\n",
        "    result_str = \"\"\n",
        "\n",
        "    while stack:\n",
        "        result_str += stack.pop()\n",
        "\n",
        "    reversed_number = int(result_str)\n",
        "    return reversed_number\n",
        "\n",
        "number1 = 365\n",
        "output1 = reverseNumber(number1)\n",
        "print(output1)\n",
        "\n"
      ],
      "metadata": {
        "colab": {
          "base_uri": "https://localhost:8080/"
        },
        "id": "Eev-HRNuEzw6",
        "outputId": "d585bde7-63b2-4cae-d43a-02a9f1ae5cf4"
      },
      "execution_count": 6,
      "outputs": [
        {
          "output_type": "stream",
          "name": "stdout",
          "text": [
            "563\n"
          ]
        }
      ]
    },
    {
      "cell_type": "markdown",
      "source": [
        "## Question 6"
      ],
      "metadata": {
        "id": "HwYde_uyEz5N"
      }
    },
    {
      "cell_type": "code",
      "source": [
        "# Python3 program to reverse first k\n",
        "# elements of a queue.\n",
        "from queue import Queue\n",
        "\n",
        "# Function to reverse the first K\n",
        "# elements of the Queue\n",
        "\n",
        "\n",
        "def reverseQueueFirstKElements(k, Queue):\n",
        "\tif (Queue.empty() == True or\n",
        "\t\t\tk > Queue.qsize()):\n",
        "\t\treturn\n",
        "\tif (k <= 0):\n",
        "\t\treturn\n",
        "\n",
        "\tStack = []\n",
        "\n",
        "\t# put the first K elements\n",
        "\t# into a Stack\n",
        "\tfor i in range(k):\n",
        "\t\tStack.append(Queue.queue[0])\n",
        "\t\tQueue.get()\n",
        "\n",
        "\t# Enqueue the contents of stack\n",
        "\t# at the back of the queue\n",
        "\twhile (len(Stack) != 0):\n",
        "\t\tQueue.put(Stack[-1])\n",
        "\t\tStack.pop()\n",
        "\n",
        "\t# Remove the remaining elements and\n",
        "\t# enqueue them at the end of the Queue\n",
        "\tfor i in range(Queue.qsize() - k):\n",
        "\t\tQueue.put(Queue.queue[0])\n",
        "\t\tQueue.get()\n",
        "\n",
        "# Utility Function to print the Queue\n",
        "\n",
        "\n",
        "def Print(Queue):\n",
        "\twhile (not Queue.empty()):\n",
        "\t\tprint(Queue.queue[0], end=\" \")\n",
        "\t\tQueue.get()\n",
        "\n",
        "\n",
        "# Driver code\n",
        "if __name__ == '__main__':\n",
        "\tQueue = Queue()\n",
        "\tQueue.put(10)\n",
        "\tQueue.put(20)\n",
        "\tQueue.put(30)\n",
        "\tQueue.put(40)\n",
        "\tQueue.put(50)\n",
        "\tQueue.put(60)\n",
        "\tQueue.put(70)\n",
        "\tQueue.put(80)\n",
        "\tQueue.put(90)\n",
        "\tQueue.put(100)\n",
        "\n",
        "\tk = 5\n",
        "\treverseQueueFirstKElements(k, Queue)\n",
        "\tPrint(Queue)\n",
        "\n",
        "# This code is contributed by PranchalK\n",
        "\n"
      ],
      "metadata": {
        "colab": {
          "base_uri": "https://localhost:8080/"
        },
        "id": "XH68NBtjE0DM",
        "outputId": "defa937d-1368-40e3-9920-768b8af4788a"
      },
      "execution_count": 9,
      "outputs": [
        {
          "output_type": "stream",
          "name": "stdout",
          "text": [
            "50 40 30 20 10 60 70 80 90 100 "
          ]
        }
      ]
    },
    {
      "cell_type": "markdown",
      "source": [
        "## Question 7"
      ],
      "metadata": {
        "id": "L-_yEdsHE0Lp"
      }
    },
    {
      "cell_type": "code",
      "source": [
        "def countWordsAfterPairwiseDestruction(sequence):\n",
        "    stack = []\n",
        "\n",
        "    for word in sequence:\n",
        "        if not stack or stack[-1] != word:\n",
        "            stack.append(word)\n",
        "        else:\n",
        "            stack.pop()\n",
        "\n",
        "    return len(stack)\n",
        "sequence = ['ab', 'aa', 'aa', 'bcd', 'ab']\n",
        "output = countWordsAfterPairwiseDestruction(sequence)\n",
        "print(output)\n"
      ],
      "metadata": {
        "colab": {
          "base_uri": "https://localhost:8080/"
        },
        "id": "3p1_uhuuE0Ub",
        "outputId": "147be9be-0141-4bf7-b18c-1d1b5c3eb749"
      },
      "execution_count": 11,
      "outputs": [
        {
          "output_type": "stream",
          "name": "stdout",
          "text": [
            "3\n"
          ]
        }
      ]
    },
    {
      "cell_type": "markdown",
      "source": [
        "## Question 8"
      ],
      "metadata": {
        "id": "MvLY5d7gE0do"
      }
    },
    {
      "cell_type": "code",
      "source": [
        "# Function to fill left smaller element for every\n",
        "# element of arr[0..n-1]. These values are filled\n",
        "# in SE[0..n-1]\n",
        "def leftsmaller(arr, n, SE):\n",
        "\n",
        "\t# create an empty stack\n",
        "\tsta = []\n",
        "\t# Traverse all array elements\n",
        "\t# compute nearest smaller elements of every element\n",
        "\tfor i in range(n):\n",
        "\n",
        "\t\t# Keep removing top element from S while the top\n",
        "\t\t# element is greater than or equal to arr[i]\n",
        "\t\twhile(sta != [] and sta[len(sta)-1] >= arr[i]):\n",
        "\t\t\tsta.pop()\n",
        "\n",
        "\t\t# Store the smaller element of current element\n",
        "\t\tif(sta != []):\n",
        "\t\t\tSE[i]=sta[len(sta)-1]\n",
        "\t\t# If all elements in S were greater than arr[i]\n",
        "\t\telse:\n",
        "\t\t\tSE[i]=0\n",
        "\n",
        "\t\t# push this element\n",
        "\t\tsta.append(arr[i])\n",
        "\n",
        "# Function returns maximum difference b/w Left &\n",
        "# right smaller element\n",
        "def findMaxDiff(arr, n):\n",
        "\tls=[0]*n # to store left smaller elements\n",
        "\trs=[0]*n # to store right smaller elements\n",
        "\n",
        "\t# find left smaller elements of every element\n",
        "\tleftsmaller(arr, n, ls)\n",
        "\n",
        "\t# find right smaller element of every element\n",
        "\t# by sending reverse of array\n",
        "\tleftsmaller(arr[::-1], n, rs)\n",
        "\n",
        "\t# find maximum absolute difference b/w LS & RRS\n",
        "\t# In the reversed array right smaller for arr[i] is\n",
        "\t# stored at RRS[n-i-1]\n",
        "\tres = -1\n",
        "\tfor i in range(n):\n",
        "\t\tres = max(res, abs(ls[i] - rs[n-1-i]))\n",
        "\t# return maximum difference b/w LS & RRS\n",
        "\treturn res\n",
        "\n",
        "\n",
        "# Driver Program\n",
        "if __name__=='__main__':\n",
        "\tarr = [2, 4, 8, 7, 7, 9, 3]\n",
        "\tprint(\"Maximum Diff :\", findMaxDiff(arr, len(arr)))\n",
        "\n",
        "#Contributed By: Harshit Sidhwa\n"
      ],
      "metadata": {
        "colab": {
          "base_uri": "https://localhost:8080/"
        },
        "id": "Y2zP3jOuE0p9",
        "outputId": "a34bd6cf-3e8c-4984-9191-920c509dc87d"
      },
      "execution_count": 13,
      "outputs": [
        {
          "output_type": "stream",
          "name": "stdout",
          "text": [
            "Maximum Diff : 4\n"
          ]
        }
      ]
    }
  ]
}