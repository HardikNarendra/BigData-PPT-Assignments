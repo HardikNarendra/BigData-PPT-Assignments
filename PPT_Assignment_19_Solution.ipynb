{
  "nbformat": 4,
  "nbformat_minor": 0,
  "metadata": {
    "colab": {
      "provenance": []
    },
    "kernelspec": {
      "name": "python3",
      "display_name": "Python 3"
    },
    "language_info": {
      "name": "python"
    }
  },
  "cells": [
    {
      "cell_type": "markdown",
      "source": [
        "# Assignment-19"
      ],
      "metadata": {
        "id": "8zbF8sz3VglI"
      }
    },
    {
      "cell_type": "markdown",
      "source": [
        "## Question-1"
      ],
      "metadata": {
        "id": "jusX_vEXVkpP"
      }
    },
    {
      "cell_type": "code",
      "execution_count": 3,
      "metadata": {
        "id": "nmjC_03z6RPO",
        "colab": {
          "base_uri": "https://localhost:8080/"
        },
        "outputId": "a4974577-93ad-4fba-aa40-ec6732683bf1"
      },
      "outputs": [
        {
          "output_type": "stream",
          "name": "stdout",
          "text": [
            "1 1 2 3 4 4 5 6 "
          ]
        }
      ],
      "source": [
        "# Python3 program to merge k\n",
        "# sorted arrays of size n each\n",
        "\n",
        "# A Linked List node\n",
        "\n",
        "\n",
        "class Node:\n",
        "\n",
        "\tdef __init__(self, x):\n",
        "\n",
        "\t\tself.data = x\n",
        "\t\tself.next = None\n",
        "\n",
        "# Function to print nodes in\n",
        "# a given linked list\n",
        "\n",
        "\n",
        "def printList(node):\n",
        "\n",
        "\twhile (node != None):\n",
        "\t\tprint(node.data,\n",
        "\t\t\tend=\" \")\n",
        "\t\tnode = node.next\n",
        "\n",
        "# The main function that\n",
        "# takes an array of lists\n",
        "# arr[0..last] and generates\n",
        "# the sorted output\n",
        "\n",
        "\n",
        "def mergeKLists(arr, last):\n",
        "\n",
        "\t# Traverse form second\n",
        "\t# list to last\n",
        "\tfor i in range(1, last + 1):\n",
        "\t\twhile (True):\n",
        "\t\t\t# head of both the lists,\n",
        "\t\t\t# 0 and ith list.\n",
        "\t\t\thead_0 = arr[0]\n",
        "\t\t\thead_i = arr[i]\n",
        "\n",
        "\t\t\t# Break if list ended\n",
        "\t\t\tif (head_i == None):\n",
        "\t\t\t\tbreak\n",
        "\n",
        "\t\t\t# Smaller than first\n",
        "\t\t\t# element\n",
        "\t\t\tif (head_0.data >=\n",
        "\t\t\t\t\thead_i.data):\n",
        "\t\t\t\tarr[i] = head_i.next\n",
        "\t\t\t\thead_i.next = head_0\n",
        "\t\t\t\tarr[0] = head_i\n",
        "\t\t\telse:\n",
        "\t\t\t\t# Traverse the first list\n",
        "\t\t\t\twhile (head_0.next != None):\n",
        "\t\t\t\t\t# Smaller than next\n",
        "\t\t\t\t\t# element\n",
        "\t\t\t\t\tif (head_0.next.data >=\n",
        "\t\t\t\t\t\t\thead_i.data):\n",
        "\t\t\t\t\t\tarr[i] = head_i.next\n",
        "\t\t\t\t\t\thead_i.next = head_0.next\n",
        "\t\t\t\t\t\thead_0.next = head_i\n",
        "\t\t\t\t\t\tbreak\n",
        "\t\t\t\t\t# go to next node\n",
        "\t\t\t\t\thead_0 = head_0.next\n",
        "\t\t\t\t\t# if last node\n",
        "\t\t\t\t\tif (head_0.next == None):\n",
        "\t\t\t\t\t\tarr[i] = head_i.next\n",
        "\t\t\t\t\t\thead_i.next = None\n",
        "\t\t\t\t\t\thead_0.next = head_i\n",
        "\t\t\t\t\t\thead_0.next.next = None\n",
        "\t\t\t\t\t\tbreak\n",
        "\treturn arr[0]\n",
        "\n",
        "\n",
        "# Driver code\n",
        "if __name__ == '__main__':\n",
        "\n",
        "\t# Number of linked\n",
        "\t# lists\n",
        "\tk = 3\n",
        "\n",
        "\t# Number of elements\n",
        "\t# in each list\n",
        "\tn = 4\n",
        "\n",
        "\t# an array of pointers\n",
        "\t# storing the head nodes\n",
        "\t# of the linked lists\n",
        "\tarr = [None for i in range(k)]\n",
        "\n",
        "\tarr[0] = Node(1)\n",
        "\tarr[0].next = Node(4)\n",
        "\tarr[0].next.next = Node(5)\n",
        "\n",
        "\n",
        "\tarr[1] = Node(1)\n",
        "\tarr[1].next = Node(3)\n",
        "\tarr[1].next.next = Node(4)\n",
        "\n",
        "\tarr[2] = Node(2)\n",
        "\tarr[2].next = Node(6)\n",
        "\n",
        "\n",
        "\n",
        "\t# Merge all lists\n",
        "\thead = mergeKLists(arr, k - 1)\n",
        "\n",
        "\tprintList(head)\n",
        "\n",
        "# This code is contributed by Mohit Kumar 29\n"
      ]
    },
    {
      "cell_type": "markdown",
      "source": [
        "## Question-2"
      ],
      "metadata": {
        "id": "2YipKM2ZVoYk"
      }
    },
    {
      "cell_type": "code",
      "source": [
        "def merge(v, ans, l, mid, h):\n",
        "\tt = [] # temporary array for merging both halves\n",
        "\ti = l\n",
        "\tj = mid+1\n",
        "\twhile (i < mid+1 and j <= h):\n",
        "\n",
        "\t\t# v[i][0] is greater than all\n",
        "\t\t# the elements from j till h.\n",
        "\t\tif v[i][0] > v[j][0]:\n",
        "\t\t\tans[v[i][1]] += (h-j+1)\n",
        "\t\t\tt.append(v[i])\n",
        "\t\t\ti += 1\n",
        "\t\telse:\n",
        "\t\t\tt.append(v[j])\n",
        "\t\t\tj += 1\n",
        "\n",
        "\t# if any elements left in left array\n",
        "\twhile (i <= mid):\n",
        "\t\tt.append(v[i])\n",
        "\t\ti += 1\n",
        "\n",
        "\t# if any elements left in right array\n",
        "\twhile j <= h:\n",
        "\t\tt.append(v[j])\n",
        "\t\tj += 1\n",
        "\n",
        "\t# putting elements back in main array in\n",
        "\t# descending order\n",
        "\tk = 0\n",
        "\ti = l\n",
        "\twhile (i <= h):\n",
        "\t\tv[i] = t[k]\n",
        "\t\ti += 1\n",
        "\t\tk += 1\n",
        "\n",
        "def mergesort(v, ans, i, j):\n",
        "\tif i < j:\n",
        "\t\tmid = (i+j)//2\n",
        "\n",
        "\t\t# calling mergesort for left half\n",
        "\t\tmergesort(v, ans, i, mid)\n",
        "\n",
        "\t\t# calling mergesort for right half\n",
        "\t\tmergesort(v, ans, mid + 1, j)\n",
        "\n",
        "\t\t# merging both halves and generating answer\n",
        "\t\tmerge(v, ans, i, mid, j)\n",
        "\n",
        "\n",
        "def constructLowerArray(arr, n):\n",
        "\tv = []\n",
        "\n",
        "\t# inserting elements and corresponding index as pair\n",
        "\tfor i in range(n):\n",
        "\t\tv.append([arr[i], i])\n",
        "\n",
        "\t# answer array for keeping count initialized by 0\n",
        "\tans = [0]*n\n",
        "\n",
        "\t# calling mergesort\n",
        "\tmergesort(v, ans, 0, n-1)\n",
        "\treturn ans\n",
        "\n",
        "# Driver Code\n",
        "arr = [5,2,6,1]\n",
        "n = len(arr)\n",
        "ans = constructLowerArray(arr, n)\n",
        "for x in ans:\n",
        "\tprint(x, end=\" \")\n",
        "\n",
        "\n"
      ],
      "metadata": {
        "colab": {
          "base_uri": "https://localhost:8080/"
        },
        "id": "PCMGBc_YVpHr",
        "outputId": "c954f7fe-c8d5-4a71-b7ea-1ca5c02c6432"
      },
      "execution_count": 5,
      "outputs": [
        {
          "output_type": "stream",
          "name": "stdout",
          "text": [
            "2 1 1 0 "
          ]
        }
      ]
    },
    {
      "cell_type": "markdown",
      "source": [
        "## Question-3"
      ],
      "metadata": {
        "id": "uwTDq20tVp00"
      }
    },
    {
      "cell_type": "code",
      "source": [
        "def sortArray(nums):\n",
        "    def partition(nums, low, high):\n",
        "        pivot = nums[high]\n",
        "        i = low - 1\n",
        "\n",
        "        for j in range(low, high):\n",
        "            if nums[j] < pivot:\n",
        "                i += 1\n",
        "                nums[i], nums[j] = nums[j], nums[i]\n",
        "\n",
        "        nums[i + 1], nums[high] = nums[high], nums[i + 1]\n",
        "        return i + 1\n",
        "\n",
        "    def quicksort(nums, low, high):\n",
        "        if low < high:\n",
        "            pivot_index = partition(nums, low, high)\n",
        "            quicksort(nums, low, pivot_index - 1)\n",
        "            quicksort(nums, pivot_index + 1, high)\n",
        "\n",
        "    quicksort(nums, 0, len(nums) - 1)\n",
        "    return nums\n",
        "\n",
        "\n",
        "nums = [5, 2, 3, 1]\n",
        "sorted_nums = sortArray(nums)\n",
        "print(sorted_nums)\n"
      ],
      "metadata": {
        "colab": {
          "base_uri": "https://localhost:8080/"
        },
        "id": "ho2qN3g6Vqs4",
        "outputId": "23061470-c7de-440b-aba6-080d09ffef2b"
      },
      "execution_count": 7,
      "outputs": [
        {
          "output_type": "stream",
          "name": "stdout",
          "text": [
            "[1, 2, 3, 5]\n"
          ]
        }
      ]
    },
    {
      "cell_type": "markdown",
      "source": [
        "## Question-4"
      ],
      "metadata": {
        "id": "Yy3jpqvlVrcc"
      }
    },
    {
      "cell_type": "code",
      "source": [
        "def moveZeroes(nums):\n",
        "    n = len(nums)\n",
        "    next_non_zero = 0  # Pointer for the next non-zero element\n",
        "\n",
        "    # Iterate through the array\n",
        "    for i in range(n):\n",
        "        if nums[i] != 0:\n",
        "            # If the current element is non-zero, move it to the next_non_zero position\n",
        "            nums[next_non_zero] = nums[i]\n",
        "            next_non_zero += 1\n",
        "\n",
        "    # Fill the remaining positions with zeros\n",
        "    while next_non_zero < n:\n",
        "        nums[next_non_zero] = 0\n",
        "        next_non_zero += 1\n",
        "\n",
        "    return nums\n",
        "\n",
        "arr1 = [1, 2, 0, 4, 3, 0, 5, 0]\n",
        "\n",
        "\n",
        "print(moveZeroes(arr1))\n",
        "\n"
      ],
      "metadata": {
        "colab": {
          "base_uri": "https://localhost:8080/"
        },
        "id": "Mge_UidfVsCD",
        "outputId": "61ab1dea-8f3e-49e0-fc69-8e584574ad39"
      },
      "execution_count": 9,
      "outputs": [
        {
          "output_type": "stream",
          "name": "stdout",
          "text": [
            "[1, 2, 4, 3, 5, 0, 0, 0]\n"
          ]
        }
      ]
    },
    {
      "cell_type": "markdown",
      "source": [
        "## Question-5"
      ],
      "metadata": {
        "id": "4Nr0eKOJVsX5"
      }
    },
    {
      "cell_type": "code",
      "source": [
        "# Python3 program to rearrange\n",
        "# positive and negative integers\n",
        "# in alternate fashion and\n",
        "# maintaining the order of positive\n",
        "# and negative numbers\n",
        "\n",
        "# rotates the array to right by once\n",
        "# from index 'outOfPlace to cur'\n",
        "\n",
        "\n",
        "def rightRotate(arr, n, outOfPlace, cur):\n",
        "\ttemp = arr[cur]\n",
        "\tfor i in range(cur, outOfPlace, -1):\n",
        "\t\tarr[i] = arr[i - 1]\n",
        "\tarr[outOfPlace] = temp\n",
        "\treturn arr\n",
        "\n",
        "\n",
        "def rearrange(arr, n):\n",
        "\toutOfPlace = -1\n",
        "\tfor index in range(n):\n",
        "\t\tif(outOfPlace >= 0):\n",
        "\n",
        "\t\t\t# if element at outOfPlace place in\n",
        "\t\t\t# negative and if element at index\n",
        "\t\t\t# is positive we can rotate the\n",
        "\t\t\t# array to right or if element\n",
        "\t\t\t# at outOfPlace place in positive and\n",
        "\t\t\t# if element at index is negative we\n",
        "\t\t\t# can rotate the array to right\n",
        "\t\t\tif((arr[index] >= 0 and arr[outOfPlace] < 0) or\n",
        "\t\t\t(arr[index] < 0 and arr[outOfPlace] >= 0)):\n",
        "\t\t\t\tarr = rightRotate(arr, n, outOfPlace, index)\n",
        "\t\t\t\tif(index-outOfPlace > 2):\n",
        "\t\t\t\t\toutOfPlace += 2\n",
        "\t\t\t\telse:\n",
        "\t\t\t\t\toutOfPlace = - 1\n",
        "\n",
        "\t\tif(outOfPlace == -1):\n",
        "\n",
        "\t\t\t# conditions for A[index] to\n",
        "\t\t\t# be in out of place\n",
        "\t\t\tif((arr[index] >= 0 and index % 2 == 0) or\n",
        "\t\t\t(arr[index] < 0 and index % 2 == 1)):\n",
        "\t\t\t\toutOfPlace = index\n",
        "\treturn arr\n",
        "\n",
        "\n",
        "# Driver Code\n",
        "arr = [1, 2, 3, -4, -1, 4]\n",
        "\n",
        "print(\"Given Array is:\")\n",
        "print(arr)\n",
        "\n",
        "print(\"\\nRearranged array is:\")\n",
        "print(rearrange(arr, len(arr)))\n",
        "\n"
      ],
      "metadata": {
        "colab": {
          "base_uri": "https://localhost:8080/"
        },
        "id": "LRRiHYVFVtHf",
        "outputId": "ea8eec8c-5907-45b5-bd8d-1acf57d70ff2"
      },
      "execution_count": 11,
      "outputs": [
        {
          "output_type": "stream",
          "name": "stdout",
          "text": [
            "Given Array is:\n",
            "[1, 2, 3, -4, -1, 4]\n",
            "\n",
            "Rearranged array is:\n",
            "[-4, 1, -1, 2, 3, 4]\n"
          ]
        }
      ]
    },
    {
      "cell_type": "markdown",
      "source": [
        "## Question-6"
      ],
      "metadata": {
        "id": "LkI78JNxVuOb"
      }
    },
    {
      "cell_type": "code",
      "source": [
        "# Python program to merge\n",
        "# two sorted arrays\n",
        "\n",
        "# Merge arr1[0..n1-1] and\n",
        "# arr2[0..n2-1] into\n",
        "# arr3[0..n1+n2-1]\n",
        "def mergeArrays(arr1, arr2, n1, n2):\n",
        "\tarr3 = [None] * (n1 + n2)\n",
        "\ti = 0\n",
        "\tj = 0\n",
        "\tk = 0\n",
        "\n",
        "\t# Traverse both array\n",
        "\twhile i < n1 and j < n2:\n",
        "\n",
        "\t\t# Check if current element\n",
        "\t\t# of first array is smaller\n",
        "\t\t# than current element of\n",
        "\t\t# second array. If yes,\n",
        "\t\t# store first array element\n",
        "\t\t# and increment first array\n",
        "\t\t# index. Otherwise do same\n",
        "\t\t# with second array\n",
        "\t\tif arr1[i] < arr2[j]:\n",
        "\t\t\tarr3[k] = arr1[i]\n",
        "\t\t\tk = k + 1\n",
        "\t\t\ti = i + 1\n",
        "\t\telse:\n",
        "\t\t\tarr3[k] = arr2[j]\n",
        "\t\t\tk = k + 1\n",
        "\t\t\tj = j + 1\n",
        "\n",
        "\n",
        "\t# Store remaining elements\n",
        "\t# of first array\n",
        "\twhile i < n1:\n",
        "\t\tarr3[k] = arr1[i];\n",
        "\t\tk = k + 1\n",
        "\t\ti = i + 1\n",
        "\n",
        "\t# Store remaining elements\n",
        "\t# of second array\n",
        "\twhile j < n2:\n",
        "\t\tarr3[k] = arr2[j];\n",
        "\t\tk = k + 1\n",
        "\t\tj = j + 1\n",
        "\tprint(\"Array after merging\")\n",
        "\tfor i in range(n1 + n2):\n",
        "\t\tprint(str(arr3[i]), end = \" \")\n",
        "\n",
        "# Driver code\n",
        "arr1 = [1, 3, 4, 5]\n",
        "n1 = len(arr1)\n",
        "\n",
        "arr2 = [2, 4, 6, 8]\n",
        "n2 = len(arr2)\n",
        "mergeArrays(arr1, arr2, n1, n2);\n",
        "\n"
      ],
      "metadata": {
        "colab": {
          "base_uri": "https://localhost:8080/"
        },
        "id": "D6EVF0hWVvIU",
        "outputId": "3e7716a1-4acf-4195-81f4-9c2d29f28c17"
      },
      "execution_count": 12,
      "outputs": [
        {
          "output_type": "stream",
          "name": "stdout",
          "text": [
            "Array after merging\n",
            "1 2 3 4 4 5 6 8 "
          ]
        }
      ]
    },
    {
      "cell_type": "markdown",
      "source": [
        "## Question-7"
      ],
      "metadata": {
        "id": "vE3sO6sIVwAY"
      }
    },
    {
      "cell_type": "code",
      "source": [
        "def intersection(nums1, nums2):\n",
        "    set1 = set(nums1)\n",
        "    set2 = set(nums2)\n",
        "\n",
        "    # Find the common elements using intersection\n",
        "    result_set = set1.intersection(set2)\n",
        "\n",
        "    # Convert the result set to a list\n",
        "    result = list(result_set)\n",
        "\n",
        "    return result\n",
        "nums1 = [1, 2, 2, 1]\n",
        "nums2 = [2, 2]\n",
        "print(intersection(nums1, nums2))\n"
      ],
      "metadata": {
        "colab": {
          "base_uri": "https://localhost:8080/"
        },
        "id": "5PM_AnI-Vwur",
        "outputId": "f0f5dcba-4797-4776-c36d-f6c915e18ea8"
      },
      "execution_count": 17,
      "outputs": [
        {
          "output_type": "stream",
          "name": "stdout",
          "text": [
            "[2]\n"
          ]
        }
      ]
    },
    {
      "cell_type": "markdown",
      "source": [
        "## Question-8\n"
      ],
      "metadata": {
        "id": "eS8rk_K2VxkU"
      }
    },
    {
      "cell_type": "code",
      "source": [
        "# A Python3 program to print union and intersection\n",
        "# of two unsorted arrays\n",
        "\n",
        "\n",
        "# Prints intersection of arr1[0..m-1] and arr2[0..n-1]\n",
        "\n",
        "\n",
        "def printIntersection(arr1, arr2, m, n):\n",
        "\n",
        "\t# Before finding intersection, make sure arr1[0..m-1]\n",
        "\t# is smaller\n",
        "\tif (m > n):\n",
        "\t\ttempp = arr1\n",
        "\t\tarr1 = arr2\n",
        "\t\tarr2 = tempp\n",
        "\n",
        "\t\ttemp = m\n",
        "\t\tm = n\n",
        "\t\tn = temp\n",
        "\n",
        "\t# Now arr1[] is smaller\n",
        "\n",
        "\t# Sort smaller array arr1[0..m-1]\n",
        "\tarr1.sort()\n",
        "\n",
        "\t# Search every element of bigger array in smaller\n",
        "\t# array and print the element if found\n",
        "\tfor i in range(0, n):\n",
        "\t\tif (binarySearch(arr1, 0, m - 1, arr2[i]) != -1):\n",
        "\t\t\tprint(arr2[i], end=\" \")\n",
        "\n",
        "# A recursive binary search function. It returns\n",
        "# location of x in given array arr[l..r] is present,\n",
        "# otherwise -1\n",
        "\n",
        "\n",
        "def binarySearch(arr, l, r, x):\n",
        "\n",
        "\tif (r >= l):\n",
        "\t\tmid = int(l + (r - l)/2)\n",
        "\n",
        "\t\t# If the element is present at the middle itself\n",
        "\t\tif (arr[mid] == x):\n",
        "\t\t\treturn mid\n",
        "\n",
        "\t\t# If element is smaller than mid, then it can only\n",
        "\t\t# be present in left subarray\n",
        "\t\tif (arr[mid] > x):\n",
        "\t\t\treturn binarySearch(arr, l, mid - 1, x)\n",
        "\n",
        "\t\t# Else the element can only be present in right subarray\n",
        "\t\treturn binarySearch(arr, mid + 1, r, x)\n",
        "\n",
        "\t# We reach here when element is not present in array\n",
        "\treturn -1\n",
        "\n",
        "\n",
        "# Driver code\n",
        "nums1 = [1,2,2,1]\n",
        "nums2 = [2,2]\n",
        "m = len(nums1)\n",
        "n = len(nums2)\n",
        "\n",
        "# Function call\n",
        "\n",
        "\n",
        "printIntersection(nums1, nums2, m, n)\n",
        "\n",
        "\n"
      ],
      "metadata": {
        "colab": {
          "base_uri": "https://localhost:8080/"
        },
        "id": "CUg_K01yVyiZ",
        "outputId": "81bbf223-c0e6-4fae-e1d6-ac2d48cc4114"
      },
      "execution_count": 16,
      "outputs": [
        {
          "output_type": "stream",
          "name": "stdout",
          "text": [
            "2 2 "
          ]
        }
      ]
    }
  ]
}