{
  "nbformat": 4,
  "nbformat_minor": 0,
  "metadata": {
    "colab": {
      "provenance": []
    },
    "kernelspec": {
      "name": "python3",
      "display_name": "Python 3"
    },
    "language_info": {
      "name": "python"
    }
  },
  "cells": [
    {
      "cell_type": "markdown",
      "source": [
        "# Assignment Questions 8\n",
        "\n",
        "\n",
        "###  **Question 1**\n",
        "\n",
        "Given two strings s1 and s2, return *the lowest **ASCII** sum of deleted characters to make two strings equal*.\n",
        "\n",
        "**Example 1:**\n",
        "\n",
        "**Input:** s1 = \"sea\", s2 = \"eat\"\n",
        "\n",
        "**Output:** 231\n",
        "\n",
        "**Explanation:** Deleting \"s\" from \"sea\" adds the ASCII value of \"s\" (115) to the sum.\n",
        "\n",
        "Deleting \"t\" from \"eat\" adds 116 to the sum.\n",
        "\n",
        "At the end, both strings are equal, and 115 + 116 = 231 is the minimum sum possible to achieve this.\n",
        "\n"
      ],
      "metadata": {
        "id": "LYFSrKZ1r8cQ"
      }
    },
    {
      "cell_type": "code",
      "source": [
        "class Solution:\n",
        "    def minimumDeleteSum(self,s1, s2):\n",
        "        dp = [[0 for j in range(len(s2)+1)] for i in range(len(s1)+1)]\n",
        "        for i in range(len(s1)-1,-1,-1):\n",
        "            for j in range(len(s2)-1,-1,-1):\n",
        "                if s1[i] == s2[j]:\n",
        "                    dp[i][j] = ord(s1[i]) + dp[i+1][j+1]\n",
        "                else:\n",
        "                    dp[i][j] = max(dp[i+1][j],dp[i][j+1])\n",
        "        total = 0\n",
        "        for c in s1:\n",
        "            total += ord(c)\n",
        "        for c in s2:\n",
        "            total += ord(c)\n",
        "        return total - dp[0][0]*2\n",
        "x = Solution()\n",
        "s1 = \"sea\"\n",
        "s2 = \"eat\"\n",
        "print(x.minimumDeleteSum(s1,s2))"
      ],
      "metadata": {
        "colab": {
          "base_uri": "https://localhost:8080/"
        },
        "id": "BStUJLeqr98A",
        "outputId": "02f07202-0008-4837-986f-bd2ed67b713c"
      },
      "execution_count": 2,
      "outputs": [
        {
          "output_type": "stream",
          "name": "stdout",
          "text": [
            "231\n"
          ]
        }
      ]
    },
    {
      "cell_type": "markdown",
      "source": [
        "## **Question 2**\n",
        "\n",
        "Given a string s containing only three types of characters: '(', ')' and '*', return true *if* s *is **valid***.\n",
        "\n",
        "The following rules define a **valid** string:\n",
        "\n",
        "- Any left parenthesis '(' must have a corresponding right parenthesis ')'.\n",
        "- Any right parenthesis ')' must have a corresponding left parenthesis '('.\n",
        "- Left parenthesis '(' must go before the corresponding right parenthesis ')'.\n",
        "- '*' could be treated as a single right parenthesis ')' or a single left parenthesis '(' or an empty string \"\".\n",
        "\n",
        "**Example 1:**\n",
        "\n",
        "**Input:** s = \"()\"\n",
        "\n",
        "**Output:**\n",
        "\n",
        "true\n",
        "\n",
        "</aside>"
      ],
      "metadata": {
        "id": "H_kClEV8r-bf"
      }
    },
    {
      "cell_type": "code",
      "source": [
        "class Solution:\n",
        "    def checkValidString(self, s):\n",
        "        st=[]\n",
        "        sr=[]\n",
        "        for i in range(len(s)):\n",
        "            if s[i]=='(':\n",
        "                st.append(i)\n",
        "            elif s[i]== '*':\n",
        "                sr.append(i)\n",
        "            else:\n",
        "                if st:\n",
        "                    st.pop()\n",
        "                elif sr:\n",
        "                    sr.pop()\n",
        "                else:\n",
        "                    return False\n",
        "        while st:\n",
        "            if len(sr)==0:\n",
        "                return False\n",
        "            elif st[-1]< sr[-1]:\n",
        "                st.pop()\n",
        "                sr.pop()\n",
        "            else:\n",
        "                return False\n",
        "        return True\n",
        "x = Solution()\n",
        "s = \"()\"\n",
        "x.checkValidString(s)"
      ],
      "metadata": {
        "colab": {
          "base_uri": "https://localhost:8080/"
        },
        "id": "pVXM8sSEr-rK",
        "outputId": "c90d4e7d-19a2-4af7-e8f5-6432e1c82886"
      },
      "execution_count": 3,
      "outputs": [
        {
          "output_type": "execute_result",
          "data": {
            "text/plain": [
              "True"
            ]
          },
          "metadata": {},
          "execution_count": 3
        }
      ]
    },
    {
      "cell_type": "markdown",
      "source": [
        "## **Question 3**\n",
        "\n",
        "Given two strings word1 and word2, return *the minimum number of **steps** required to make* word1 *and* word2 *the same*.\n",
        "\n",
        "In one **step**, you can delete exactly one character in either string.\n",
        "\n",
        "**Example 1:**\n",
        "\n",
        "**Input:** word1 = \"sea\", word2 = \"eat\"\n",
        "\n",
        "**Output:** 2\n",
        "\n",
        "**Explanation:** You need one step to make \"sea\" to \"ea\" and another step to make \"eat\" to \"ea\"."
      ],
      "metadata": {
        "id": "BN-okyj1r-7s"
      }
    },
    {
      "cell_type": "code",
      "source": [
        "class Solution:\n",
        "    def minDistance(self, word1, word2):\n",
        "        m, n = len(word1), len(word2)\n",
        "        dp = [[0] * (n + 1) for _ in range(m + 1)]\n",
        "\n",
        "        # fill in the dynamic programming table\n",
        "        for i in range(1, m + 1):\n",
        "            for j in range(1, n + 1):\n",
        "                if word1[i - 1] == word2[j - 1]:\n",
        "                    dp[i][j] = dp[i - 1][j - 1] + 1\n",
        "                else:\n",
        "                    dp[i][j] = max(dp[i - 1][j], dp[i][j - 1])\n",
        "\n",
        "        # return the minimum number of deletions required\n",
        "        return m + n - 2 * dp[m][n]\n",
        "x = Solution()\n",
        "word1 = \"sea\"\n",
        "word2 = \"eat\"\n",
        "print(x.minDistance(word1, word2))"
      ],
      "metadata": {
        "colab": {
          "base_uri": "https://localhost:8080/"
        },
        "id": "PZOmJ4afr_Fj",
        "outputId": "66c922c5-5bb5-44cd-c02e-8ec53793ac2c"
      },
      "execution_count": 4,
      "outputs": [
        {
          "output_type": "stream",
          "name": "stdout",
          "text": [
            "2\n"
          ]
        }
      ]
    },
    {
      "cell_type": "markdown",
      "source": [
        "## **Question 4**\n",
        "\n",
        "You need to construct a binary tree from a string consisting of parenthesis and integers.\n",
        "\n",
        "The whole input represents a binary tree. It contains an integer followed by zero, one or two pairs of parenthesis. The integer represents the root's value and a pair of parenthesis contains a child binary tree with the same structure.\n",
        "You always start to construct the **left** child node of the parent first if it exists.\n",
        "\n",
        "**Input:** s = \"4(2(3)(1))(6(5))\"\n",
        "\n",
        "**Output:** [4,2,6,3,1,5]"
      ],
      "metadata": {
        "id": "a2cZsjs7r_NE"
      }
    },
    {
      "cell_type": "code",
      "source": [
        "# Python3 program to conStruct a\n",
        "# binary tree from the given String\n",
        "\n",
        "# Helper class that allocates a new node\n",
        "\n",
        "\n",
        "class newNode:\n",
        "\tdef __init__(self, data):\n",
        "\t\tself.data = data\n",
        "\t\tself.left = self.right = None\n",
        "\n",
        "# This function is here just to test\n",
        "\n",
        "\n",
        "def preOrder(node):\n",
        "\tif (node == None):\n",
        "\t\treturn\n",
        "\tprint(node.data, end=' ')\n",
        "\tpreOrder(node.left)\n",
        "\tpreOrder(node.right)\n",
        "\n",
        "# function to return the index of\n",
        "# close parenthesis\n",
        "\n",
        "\n",
        "def findIndex(Str, si, ei):\n",
        "\tif (si > ei):\n",
        "\t\treturn -1\n",
        "\n",
        "\t# Inbuilt stack\n",
        "\ts = []\n",
        "\tfor i in range(si, ei + 1):\n",
        "\n",
        "\t\t# if open parenthesis, push it\n",
        "\t\tif (Str[i] == '('):\n",
        "\t\t\ts.append(Str[i])\n",
        "\n",
        "\t\t# if close parenthesis\n",
        "\t\telif (Str[i] == ')'):\n",
        "\t\t\tif (s[-1] == '('):\n",
        "\t\t\t\ts.pop(-1)\n",
        "\n",
        "\t\t\t\t# if stack is empty, this is\n",
        "\t\t\t\t# the required index\n",
        "\t\t\t\tif len(s) == 0:\n",
        "\t\t\t\t\treturn i\n",
        "\t# if not found return -1\n",
        "\treturn -1\n",
        "\n",
        "# function to conStruct tree from String\n",
        "\n",
        "\n",
        "def treeFromString(Str, si, ei):\n",
        "\n",
        "\t# Base case\n",
        "\tif (si > ei):\n",
        "\t\treturn None\n",
        "\n",
        "\t# new root\n",
        "\troot = newNode(ord(Str[si]) - ord('0'))\n",
        "\tindex = -1\n",
        "\n",
        "\t# if next char is '(' find the\n",
        "\t# index of its complement ')'\n",
        "\tif (si + 1 <= ei and Str[si + 1] == '('):\n",
        "\t\tindex = findIndex(Str, si + 1, ei)\n",
        "\n",
        "\t# if index found\n",
        "\tif (index != -1):\n",
        "\n",
        "\t\t# call for left subtree\n",
        "\t\troot.left = treeFromString(Str, si + 2,\n",
        "\t\t\t\t\t\t\t\tindex - 1)\n",
        "\n",
        "\t\t# call for right subtree\n",
        "\t\troot.right = treeFromString(Str, index + 2,\n",
        "\t\t\t\t\t\t\t\t\tei - 1)\n",
        "\treturn root\n",
        "\n",
        "\n",
        "# Driver Code\n",
        "if __name__ == '__main__':\n",
        "\ts = \"4(2(3)(1))(6(5))\"\n",
        "\troot = treeFromString(s, 0, len(s) - 1)\n",
        "\tpreOrder(root)\n",
        "\n",
        "\n"
      ],
      "metadata": {
        "colab": {
          "base_uri": "https://localhost:8080/"
        },
        "id": "mwI44Ucnr_U9",
        "outputId": "0af692e7-e8da-4eb9-a032-85bce6bb1c28"
      },
      "execution_count": 6,
      "outputs": [
        {
          "output_type": "stream",
          "name": "stdout",
          "text": [
            "4 2 3 1 6 5 "
          ]
        }
      ]
    },
    {
      "cell_type": "markdown",
      "source": [
        "## **Question 5**\n",
        "\n",
        "Given an array of characters chars, compress it using the following algorithm:\n",
        "\n",
        "Begin with an empty string s. For each group of **consecutive repeating characters** in chars:\n",
        "\n",
        "- If the group's length is 1, append the character to s.\n",
        "- Otherwise, append the character followed by the group's length.\n",
        "\n",
        "The compressed string s **should not be returned separately**, but instead, be stored **in the input character array chars**. Note that group lengths that are 10 or longer will be split into multiple characters in chars.\n",
        "\n",
        "After you are done **modifying the input array,** return *the new length of the array*.\n",
        "\n",
        "You must write an algorithm that uses only constant extra space.\n",
        "\n",
        "**Example 1:**\n",
        "\n",
        "**Input:** chars = [\"a\",\"a\",\"b\",\"b\",\"c\",\"c\",\"c\"]\n",
        "\n",
        "**Output:** Return 6, and the first 6 characters of the input array should be: [\"a\",\"2\",\"b\",\"2\",\"c\",\"3\"]\n",
        "\n",
        "**Explanation:**\n",
        "\n",
        "The groups are \"aa\", \"bb\", and \"ccc\". This compresses to \"a2b2c3\".\n",
        "\n"
      ],
      "metadata": {
        "id": "cdTpwpuSr_cQ"
      }
    },
    {
      "cell_type": "code",
      "source": [
        "class Solution:\n",
        "    def compress(self, chars):\n",
        "        s = \"\"\n",
        "        point1 = 0\n",
        "        point2 = 1\n",
        "        # chars = [\"a\",\"b\",\"b\"]\n",
        "\n",
        "        if len(chars)==1:\n",
        "            return len(chars)\n",
        "        for i in range(1,len(chars)):\n",
        "\n",
        "            # print(chars[i])\n",
        "            if chars[point1] == chars[i]:\n",
        "                # print(chars[i])\n",
        "                # print(i,chars[i])\n",
        "                point2 += 1\n",
        "                # print(point2)\n",
        "                if(i==len(chars)-1):\n",
        "                    s+=chars[len(chars)-1]+str(point2)\n",
        "\n",
        "            elif chars[point1]!= chars[i]:\n",
        "                if(point2!=1):\n",
        "                    s += chars[point1] + str(point2)\n",
        "                else:\n",
        "                    s+=chars[point1]\n",
        "\n",
        "                point1 = i\n",
        "                point2 = 1\n",
        "\n",
        "                if(i==len(chars)-1):\n",
        "                    if(point2!=1):\n",
        "                        s+=chars[len(chars)-1]+str(point2)\n",
        "                    else:\n",
        "                        s+=chars[len(chars)-1]\n",
        "\n",
        "\n",
        "        for i in range(len(s)):\n",
        "            chars[i]=s[i]\n",
        "        return len(s)\n",
        "c =Solution()\n",
        "chars = [\"a\",\"a\",\"b\",\"b\",\"c\",\"c\",\"c\"]\n",
        "print(c.compress(chars))"
      ],
      "metadata": {
        "colab": {
          "base_uri": "https://localhost:8080/"
        },
        "id": "kpDp4uw4r_kB",
        "outputId": "68d8832b-408f-48c6-c453-5a4f8181f0a1"
      },
      "execution_count": 7,
      "outputs": [
        {
          "output_type": "stream",
          "name": "stdout",
          "text": [
            "6\n"
          ]
        }
      ]
    },
    {
      "cell_type": "markdown",
      "source": [
        "## **Question 6**\n",
        "\n",
        "Given two strings s and p, return *an array of all the start indices of* p*'s anagrams in* s. You may return the answer in **any order**.\n",
        "\n",
        "An **Anagram** is a word or phrase formed by rearranging the letters of a different word or phrase, typically using all the original letters exactly once.\n",
        "\n",
        "**Example 1:**\n",
        "\n",
        "**Input:** s = \"cbaebabacd\", p = \"abc\"\n",
        "\n",
        "**Output:** [0,6]\n",
        "\n",
        "**Explanation:**\n",
        "\n",
        "The substring with start index = 0 is \"cba\", which is an anagram of \"abc\".\n",
        "\n",
        "The substring with start index = 6 is \"bac\", which is an anagram of \"abc\".\n"
      ],
      "metadata": {
        "id": "tTL9BWhor_sY"
      }
    },
    {
      "cell_type": "code",
      "source": [
        "from collections import Counter\n",
        "from typing import List\n",
        "\n",
        "class Solution:\n",
        "    def findAnagrams(self, s, p):\n",
        "        ans = []\n",
        "        count = Counter(p)\n",
        "        required = len(p)\n",
        "\n",
        "        for r, c in enumerate(s):\n",
        "            count[c] -= 1\n",
        "            if count[c] >= 0:\n",
        "                required -= 1\n",
        "            if r >= len(p):\n",
        "                left_char = s[r - len(p)]\n",
        "                count[left_char] += 1\n",
        "                if count[left_char] > 0:\n",
        "                    required += 1\n",
        "            if required == 0:\n",
        "                ans.append(r - len(p) + 1)\n",
        "\n",
        "        return ans\n",
        "x = Solution()\n",
        "s = \"cbaebabacd\"\n",
        "p = \"abc\"\n",
        "print(x.findAnagrams(s,p))"
      ],
      "metadata": {
        "colab": {
          "base_uri": "https://localhost:8080/"
        },
        "id": "Ql9gh9VXr_z2",
        "outputId": "61ac4dd4-3ced-4f58-9977-ddb4d589cdae"
      },
      "execution_count": 8,
      "outputs": [
        {
          "output_type": "stream",
          "name": "stdout",
          "text": [
            "[0, 6]\n"
          ]
        }
      ]
    },
    {
      "cell_type": "markdown",
      "source": [
        "## **Question 7**\n",
        "\n",
        "Given an encoded string, return its decoded string.\n",
        "\n",
        "The encoding rule is: k[encoded_string], where the encoded_string inside the square brackets is being repeated exactly k times. Note that k is guaranteed to be a positive integer.\n",
        "\n",
        "You may assume that the input string is always valid; there are no extra white spaces, square brackets are well-formed, etc. Furthermore, you may assume that the original data does not contain any digits and that digits are only for those repeat numbers, k. For example, there will not be input like 3a or 2[4].\n",
        "\n",
        "The test cases are generated so that the length of the output will never exceed 105.\n",
        "\n",
        "**Example 1:**\n",
        "\n",
        "**Input:** s = \"3[a]2[bc]\"\n",
        "\n",
        "**Output:** \"aaabcbc\"\n",
        "\n",
        "</aside>"
      ],
      "metadata": {
        "id": "SmKJfxLwr_9F"
      }
    },
    {
      "cell_type": "code",
      "source": [
        "class Solution:\n",
        "    def decodeString(self, s):\n",
        "\n",
        "        stack=[]\n",
        "\n",
        "        for c in s:\n",
        "            if c!=']':\n",
        "                stack.append(c)\n",
        "            else:\n",
        "                res=''\n",
        "                while stack[-1]!='[':\n",
        "                    res+=stack.pop()\n",
        "                stack.pop()\n",
        "                n=''\n",
        "                while len(stack)!=0 and stack[-1].isdigit()==True:\n",
        "                    n+=stack.pop()\n",
        "                stack.append(res*int(n[::-1]))\n",
        "\n",
        "        return ''.join([word[::-1] for word in stack])\n",
        "x = Solution()\n",
        "s = \"3[a]2[bc]\"\n",
        "print(x.decodeString(s))\n",
        "\n",
        "\n",
        "\n",
        ""
      ],
      "metadata": {
        "colab": {
          "base_uri": "https://localhost:8080/"
        },
        "id": "i-BuD5VDsAEC",
        "outputId": "5da09ade-4db1-4adf-c525-281ea14c5cf3"
      },
      "execution_count": 9,
      "outputs": [
        {
          "output_type": "stream",
          "name": "stdout",
          "text": [
            "aaabcbc\n"
          ]
        }
      ]
    },
    {
      "cell_type": "markdown",
      "source": [
        "## **Question 8**\n",
        "\n",
        "Given two strings s and goal, return true *if you can swap two letters in* s *so the result is equal to* goal*, otherwise, return* false*.*\n",
        "\n",
        "Swapping letters is defined as taking two indices i and j (0-indexed) such that i != j and swapping the characters at s[i] and s[j].\n",
        "\n",
        "- For example, swapping at indices 0 and 2 in \"abcd\" results in \"cbad\".\n",
        "\n",
        "**Example 1:**\n",
        "\n",
        "**Input:** s = \"ab\", goal = \"ba\"\n",
        "\n",
        "**Output:** true\n",
        "\n",
        "**Explanation:** You can swap s[0] = 'a' and s[1] = 'b' to get \"ba\", which is equal to goal.\n",
        "\n",
        "</aside>"
      ],
      "metadata": {
        "id": "TyUSU7uVsALH"
      }
    },
    {
      "cell_type": "code",
      "source": [
        "class Solution:\n",
        "    def buddyStrings(self, s, goal):\n",
        "        c1=Counter(s)\n",
        "        c2=Counter(goal)\n",
        "        if c1!=c2:\n",
        "            return False\n",
        "\n",
        "        diff=sum([1 for i in range(len(s)) if s[i]!=goal[i]])\n",
        "        if diff==2:\n",
        "            return True\n",
        "\n",
        "        elif diff==0:\n",
        "            return any([cont>1 for char,cont in c1.items()])\n",
        "\n",
        "        else:\n",
        "            return False\n",
        "x = Solution()\n",
        "s = \"ab\"\n",
        "goal = \"ba\"\n",
        "print(x.buddyStrings(s,goal))"
      ],
      "metadata": {
        "colab": {
          "base_uri": "https://localhost:8080/"
        },
        "id": "8SMu9bhzsAgo",
        "outputId": "0fc6b6e1-0499-41aa-a907-7e098862e813"
      },
      "execution_count": 10,
      "outputs": [
        {
          "output_type": "stream",
          "name": "stdout",
          "text": [
            "True\n"
          ]
        }
      ]
    }
  ]
}