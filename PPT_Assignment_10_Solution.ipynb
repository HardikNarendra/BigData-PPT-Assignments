{
  "nbformat": 4,
  "nbformat_minor": 0,
  "metadata": {
    "colab": {
      "provenance": []
    },
    "kernelspec": {
      "name": "python3",
      "display_name": "Python 3"
    },
    "language_info": {
      "name": "python"
    }
  },
  "cells": [
    {
      "cell_type": "markdown",
      "source": [
        "# Assignment 10\n"
      ],
      "metadata": {
        "id": "egrZldv76C1U"
      }
    },
    {
      "cell_type": "code",
      "source": [
        "#question1\n",
        "def isPowerOfThree(n) :\n",
        "        return  False if n<=0  else isPowerOfThree(n//3) if(n%3==0) else n==1\n",
        "\n",
        "n = 27\n",
        "print(isPowerOfThree(n))\n",
        "n=0\n",
        "print(isPowerOfThree(n))"
      ],
      "metadata": {
        "colab": {
          "base_uri": "https://localhost:8080/"
        },
        "id": "MmouvifK6GFF",
        "outputId": "2e976e78-1dc9-40cf-f670-66e07fac7ced"
      },
      "execution_count": 2,
      "outputs": [
        {
          "output_type": "stream",
          "name": "stdout",
          "text": [
            "True\n",
            "False\n"
          ]
        }
      ]
    },
    {
      "cell_type": "code",
      "source": [
        "#question2\n",
        "class Solution:\n",
        "    def lastRemaining(self, n):\n",
        "        if n < 3:\n",
        "            return n\n",
        "        if n % 2 == 1:\n",
        "            return self.lastRemaining(n-1)\n",
        "        elif n % 4 == 2:\n",
        "            return 4 * self.lastRemaining((n-2)//4)\n",
        "        else:\n",
        "            return 4 * self.lastRemaining(n//4) - 2\n",
        "x= Solution()\n",
        "n=9\n",
        "print(x.lastRemaining(n))\n",
        "n=1\n",
        "print(x.lastRemaining(n))"
      ],
      "metadata": {
        "colab": {
          "base_uri": "https://localhost:8080/"
        },
        "id": "NjaJNNtG6yr9",
        "outputId": "46836ced-74f3-4ac3-82d6-acbfd77c111c"
      },
      "execution_count": 4,
      "outputs": [
        {
          "output_type": "stream",
          "name": "stdout",
          "text": [
            "6\n",
            "1\n"
          ]
        }
      ]
    },
    {
      "cell_type": "code",
      "source": [
        "#question3\n",
        "# Python3 program to generate power set\n",
        "def powerSet(string, index, curr):\n",
        "\n",
        "\t# string : Stores input string\n",
        "\t# curr : Stores current subset\n",
        "\t# index : Index in current subset, curr\n",
        "\tif index == len(string):\n",
        "\t\tprint(curr)\n",
        "\t\treturn\n",
        "\n",
        "\tpowerSet(string, index + 1,\n",
        "\t\t\tcurr + string[index])\n",
        "\tpowerSet(string, index + 1, curr)\n",
        "\n",
        "\n",
        "# Driver Code\n",
        "if __name__ == \"__main__\":\n",
        "\n",
        "\tset1 = \"abc\"\n",
        "\tindex = 0\n",
        "\tcurr = \"\"\n",
        "\tpowerSet(set1, index, curr)\n",
        "\n",
        "\n"
      ],
      "metadata": {
        "colab": {
          "base_uri": "https://localhost:8080/"
        },
        "id": "0gOXKryj7oss",
        "outputId": "02c8a1ea-abb9-4115-8f5f-746afc4f9643"
      },
      "execution_count": 6,
      "outputs": [
        {
          "output_type": "stream",
          "name": "stdout",
          "text": [
            "abc\n",
            "ab\n",
            "ac\n",
            "a\n",
            "bc\n",
            "b\n",
            "c\n",
            "\n"
          ]
        }
      ]
    },
    {
      "cell_type": "code",
      "source": [
        "#question4\n",
        "# Python program to calculate\n",
        "# length of a string using\n",
        "# recursion\n",
        "str = \"GEEKSFORGEEKS\"\n",
        "\n",
        "# Function to\n",
        "# calculate length\n",
        "def string_length(str) :\n",
        "\n",
        "\t# if we reach at the\n",
        "\t# end of the string\n",
        "\tif str == '':\n",
        "\t\treturn 0\n",
        "\telse :\n",
        "\t\treturn 1 + string_length(str[1:])\n",
        "\n",
        "# Driver Code\n",
        "print (string_length(str))\n",
        "\n",
        "\n"
      ],
      "metadata": {
        "colab": {
          "base_uri": "https://localhost:8080/"
        },
        "id": "ESfpodcD8LFD",
        "outputId": "c84c3cda-7209-4c17-efce-bbcf0a8c65a4"
      },
      "execution_count": 7,
      "outputs": [
        {
          "output_type": "stream",
          "name": "stdout",
          "text": [
            "13\n"
          ]
        }
      ]
    },
    {
      "cell_type": "code",
      "source": [
        "#question5\n",
        "\n",
        "# Python program to count all substrings with same\n",
        "# first and last characters.\n",
        "\n",
        "# Returns true if first and last characters\n",
        "# of s are same.\n",
        "def checkEquality(s):\n",
        "\treturn (ord(s[0]) == ord(s[len(s) - 1]));\n",
        "\n",
        "def countSubstringWithEqualEnds(s):\n",
        "\tresult = 0;\n",
        "\tn = len(s);\n",
        "\n",
        "\t# Starting point of substring\n",
        "\tfor i in range(n):\n",
        "\n",
        "\t# Length of substring\n",
        "\t\tfor j in range(1,n-i+1):\n",
        "\n",
        "\t\t# Check if current substring has same\n",
        "\t\t# starting and ending characters.\n",
        "\t\t\tif (checkEquality(s[i:i+j])):\n",
        "\t\t\t\tresult+=1;\n",
        "\n",
        "\treturn result;\n",
        "\n",
        "# Driver code\n",
        "S = \"abcab\";\n",
        "print(countSubstringWithEqualEnds(S));\n"
      ],
      "metadata": {
        "colab": {
          "base_uri": "https://localhost:8080/"
        },
        "id": "VDm9HQ018nVJ",
        "outputId": "edb66580-2b33-46f3-f112-4e8ee063207c"
      },
      "execution_count": 8,
      "outputs": [
        {
          "output_type": "stream",
          "name": "stdout",
          "text": [
            "7\n"
          ]
        }
      ]
    },
    {
      "cell_type": "code",
      "source": [
        "#question6\n",
        "# Recursive Python function to solve tower of hanoi\n",
        "\n",
        "def TowerOfHanoi(n, from_rod, to_rod, aux_rod):\n",
        "\tif n == 0:\n",
        "\t\treturn\n",
        "\tTowerOfHanoi(n-1, from_rod, aux_rod, to_rod)\n",
        "\tprint(\"Move disk\", n, \"from rod\", from_rod, \"to rod\", to_rod)\n",
        "\tTowerOfHanoi(n-1, aux_rod, to_rod, from_rod)\n",
        "\n",
        "\n",
        "# Driver code\n",
        "N = 2\n",
        "\n",
        "# A, C, B are the name of rods\n",
        "TowerOfHanoi(N, '1', '3', '2')\n",
        "\n"
      ],
      "metadata": {
        "colab": {
          "base_uri": "https://localhost:8080/"
        },
        "id": "Td63P_Ny9Bww",
        "outputId": "5e72f016-26d8-4312-e07c-8935c95b0008"
      },
      "execution_count": 10,
      "outputs": [
        {
          "output_type": "stream",
          "name": "stdout",
          "text": [
            "Move disk 1 from rod 1 to rod 2\n",
            "Move disk 2 from rod 1 to rod 3\n",
            "Move disk 1 from rod 2 to rod 3\n"
          ]
        }
      ]
    },
    {
      "cell_type": "code",
      "source": [
        "#question7\n",
        "# Python3 program to print all permutations with\n",
        "# duplicates allowed\n",
        "\n",
        "\n",
        "def toString(List):\n",
        "\treturn ''.join(List)\n",
        "\n",
        "# Function to print permutations of string\n",
        "# This function takes three parameters:\n",
        "# 1. String\n",
        "# 2. Starting index of the string\n",
        "# 3. Ending index of the string.\n",
        "\n",
        "\n",
        "def permute(a, l, r):\n",
        "\tif l == r:\n",
        "\t\tprint(toString(a))\n",
        "\telse:\n",
        "\t\tfor i in range(l, r):\n",
        "\t\t\ta[l], a[i] = a[i], a[l]\n",
        "\t\t\tpermute(a, l+1, r)\n",
        "\t\t\ta[l], a[i] = a[i], a[l] # backtrack\n",
        "\n",
        "\n",
        "# Driver code\n",
        "str1 = \"cd\"\n",
        "n = len(str1)\n",
        "a = list(str1)\n",
        "\n",
        "# Function call\n",
        "permute(a, 0, n)\n"
      ],
      "metadata": {
        "colab": {
          "base_uri": "https://localhost:8080/"
        },
        "id": "ix-83cUn9YOz",
        "outputId": "66f6ece9-e357-4c48-9ffe-671516f8e9c0"
      },
      "execution_count": 11,
      "outputs": [
        {
          "output_type": "stream",
          "name": "stdout",
          "text": [
            "cd\n",
            "dc\n"
          ]
        }
      ]
    },
    {
      "cell_type": "code",
      "source": [
        "#question8\n",
        "# Iterative Python3 program to count\n",
        "# total number of consonants\n",
        "\n",
        "# Function to check for consonant\n",
        "def isConsonant(ch):\n",
        "\n",
        "\t# To handle lower case\n",
        "\tch = ch.upper()\n",
        "\n",
        "\treturn not (ch == 'A' or ch == 'E' or\n",
        "\t\t\t\tch == 'I' or ch == 'O' or\n",
        "\t\t\t\tch == 'U') and ord(ch) >= 65 and ord(ch) <= 90\n",
        "\n",
        "def totalConsonants(string):\n",
        "\n",
        "\tcount = 0\n",
        "\n",
        "\tfor i in range(len(string)):\n",
        "\n",
        "\t\t# To check is character is Consonant\n",
        "\t\tif (isConsonant(string[i])):\n",
        "\t\t\tcount += 1\n",
        "\n",
        "\treturn count\n",
        "\n",
        "# Driver code\n",
        "string = \"abc de\"\n",
        "print(totalConsonants(string))\n",
        "\n"
      ],
      "metadata": {
        "colab": {
          "base_uri": "https://localhost:8080/"
        },
        "id": "UXwZY6Sh9sie",
        "outputId": "a29216b5-30e3-4091-ed3f-cf9e4f7762f5"
      },
      "execution_count": 12,
      "outputs": [
        {
          "output_type": "stream",
          "name": "stdout",
          "text": [
            "3\n"
          ]
        }
      ]
    }
  ]
}