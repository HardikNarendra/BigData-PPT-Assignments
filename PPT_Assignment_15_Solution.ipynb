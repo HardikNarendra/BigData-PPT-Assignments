{
  "nbformat": 4,
  "nbformat_minor": 0,
  "metadata": {
    "colab": {
      "provenance": []
    },
    "kernelspec": {
      "name": "python3",
      "display_name": "Python 3"
    },
    "language_info": {
      "name": "python"
    }
  },
  "cells": [
    {
      "cell_type": "markdown",
      "source": [
        "# Assignment  15"
      ],
      "metadata": {
        "id": "ExPWy6qEARLz"
      }
    },
    {
      "cell_type": "markdown",
      "source": [
        "## Question 1"
      ],
      "metadata": {
        "id": "NDC56NWRAXFB"
      }
    },
    {
      "cell_type": "code",
      "execution_count": 2,
      "metadata": {
        "id": "ZRBmvkQi6Elb",
        "colab": {
          "base_uri": "https://localhost:8080/"
        },
        "outputId": "8a99ef30-057c-48f2-f1b4-d55db51619ce"
      },
      "outputs": [
        {
          "output_type": "stream",
          "name": "stdout",
          "text": [
            "1 -- 3\n",
            "2 -- 4\n",
            "3 -- 4\n",
            "4 -- -1\n"
          ]
        }
      ],
      "source": [
        "# Python program to print next greater element using stack\n",
        "\n",
        "# Stack Functions to be used by printNGE()\n",
        "\n",
        "\n",
        "def createStack():\n",
        "\tstack = []\n",
        "\treturn stack\n",
        "\n",
        "\n",
        "def isEmpty(stack):\n",
        "\treturn len(stack) == 0\n",
        "\n",
        "\n",
        "def push(stack, x):\n",
        "\tstack.append(x)\n",
        "\n",
        "\n",
        "def pop(stack):\n",
        "\tif isEmpty(stack):\n",
        "\t\tprint(\"Error : stack underflow\")\n",
        "\telse:\n",
        "\t\treturn stack.pop()\n",
        "\n",
        "\n",
        "'''prints element and NGE pair for all elements of\n",
        "arr[] '''\n",
        "\n",
        "\n",
        "def printNGE(arr):\n",
        "\ts = createStack()\n",
        "\telement = 0\n",
        "\tnext = 0\n",
        "\n",
        "\t# push the first element to stack\n",
        "\tpush(s, arr[0])\n",
        "\n",
        "\t# iterate for rest of the elements\n",
        "\tfor i in range(1, len(arr), 1):\n",
        "\t\tnext = arr[i]\n",
        "\n",
        "\t\tif isEmpty(s) == False:\n",
        "\n",
        "\t\t\t# if stack is not empty, then pop an element from stack\n",
        "\t\t\telement = pop(s)\n",
        "\n",
        "\t\t\t'''If the popped element is smaller than next, then\n",
        "\t\t\t\ta) print the pair\n",
        "\t\t\t\tb) keep popping while elements are smaller and\n",
        "\t\t\t\tstack is not empty '''\n",
        "\t\t\twhile element < next:\n",
        "\t\t\t\tprint(str(element) + \" -- \" + str(next))\n",
        "\t\t\t\tif isEmpty(s) == True:\n",
        "\t\t\t\t\tbreak\n",
        "\t\t\t\telement = pop(s)\n",
        "\n",
        "\t\t\t'''If element is greater than next, then push\n",
        "\t\t\tthe element back '''\n",
        "\t\t\tif element > next:\n",
        "\t\t\t\tpush(s, element)\n",
        "\n",
        "\t\t'''push next to stack so that we can find\n",
        "\t\tnext greater for it '''\n",
        "\t\tpush(s, next)\n",
        "\n",
        "\t'''After iterating over the loop, the remaining\n",
        "\telements in stack do not have the next greater\n",
        "\telement, so print -1 for them '''\n",
        "\n",
        "\twhile isEmpty(s) == False:\n",
        "\t\telement = pop(s)\n",
        "\t\tnext = -1\n",
        "\t\tprint(str(element) + \" -- \" + str(next))\n",
        "\n",
        "\n",
        "# Driver code\n",
        "arr = [1, 3, 2, 4]\n",
        "printNGE(arr)\n",
        "\n"
      ]
    },
    {
      "cell_type": "markdown",
      "source": [
        "## Question 2"
      ],
      "metadata": {
        "id": "Mabt4TgSAb3w"
      }
    },
    {
      "cell_type": "code",
      "source": [
        "def find_nearest_smaller(a):\n",
        "    stack = []\n",
        "    result = []\n",
        "\n",
        "    for num in a:\n",
        "        while stack and stack[-1] >= num:\n",
        "            stack.pop()\n",
        "\n",
        "        if not stack:\n",
        "            result.append(-1)\n",
        "        else:\n",
        "            result.append(stack[-1])\n",
        "\n",
        "        stack.append(num)\n",
        "\n",
        "    return result\n",
        "\n",
        "n = 3\n",
        "a = [1, 6, 2]\n",
        "output = find_nearest_smaller(a)\n",
        "print(output)\n"
      ],
      "metadata": {
        "colab": {
          "base_uri": "https://localhost:8080/"
        },
        "id": "mOGxPz7vAcLX",
        "outputId": "00410158-a8fb-4648-f1b7-f82fd69a34f0"
      },
      "execution_count": 5,
      "outputs": [
        {
          "output_type": "stream",
          "name": "stdout",
          "text": [
            "[-1, 1, 1]\n"
          ]
        }
      ]
    },
    {
      "cell_type": "markdown",
      "source": [
        "## Question 3"
      ],
      "metadata": {
        "id": "Ooer5mecAcVV"
      }
    },
    {
      "cell_type": "code",
      "source": [
        "class Stack:\n",
        "    def __init__(self):\n",
        "        self.q1 = []\n",
        "        self.q2 = []\n",
        "\n",
        "    def push(self, val):\n",
        "        self.q1.append(val)\n",
        "\n",
        "    def pop(self):\n",
        "        if not self.q1 and not self.q2:\n",
        "            return \"Error: Stack is empty\"\n",
        "\n",
        "        while len(self.q1) > 1:\n",
        "            self.q2.append(self.q1.pop(0))\n",
        "\n",
        "        return self.q1.pop(0)\n",
        "\n",
        "    def top(self):\n",
        "        if not self.q1 and not self.q2:\n",
        "            return \"Error: Stack is empty\"\n",
        "\n",
        "        if self.q2:\n",
        "            return self.q2[0]\n",
        "\n",
        "        while len(self.q1) > 1:\n",
        "            self.q2.append(self.q1.pop(0))\n",
        "\n",
        "        self.q2.append(self.q1.pop(0))\n",
        "        self.q1, self.q2 = self.q2, self.q1\n",
        "\n",
        "        return self.q2[0]\n",
        "\n",
        "\n",
        "stack = Stack()\n",
        "stack.push(2)\n",
        "stack.push(3)\n",
        "print(stack.pop())  # Output: 3\n",
        "stack.push(4)\n",
        "print(stack.pop())  # Output: 4\n"
      ],
      "metadata": {
        "colab": {
          "base_uri": "https://localhost:8080/"
        },
        "id": "8vjY-Xl7Acdo",
        "outputId": "60e3bbca-e017-47c8-c9e1-2494ce055e15"
      },
      "execution_count": 6,
      "outputs": [
        {
          "output_type": "stream",
          "name": "stdout",
          "text": [
            "3\n",
            "4\n"
          ]
        }
      ]
    },
    {
      "cell_type": "markdown",
      "source": [
        "## Question 4\n"
      ],
      "metadata": {
        "id": "t_R5DwtSAcqb"
      }
    },
    {
      "cell_type": "code",
      "source": [
        "def insertAtBottom(stack, element):\n",
        "    if not stack:\n",
        "        stack.append(element)\n",
        "    else:\n",
        "        top = stack.pop()\n",
        "        insertAtBottom(stack, element)\n",
        "        stack.append(top)\n",
        "\n",
        "def reverseStack(stack):\n",
        "    if len(stack) <= 1:\n",
        "        return\n",
        "    top = stack.pop()\n",
        "    reverseStack(stack)\n",
        "    insertAtBottom(stack, top)\n",
        "\n",
        "# Testing the algorithm with the provided example\n",
        "St = [3, 2, 1, 7, 6]\n",
        "reverseStack(St)\n",
        "print(St)\n"
      ],
      "metadata": {
        "colab": {
          "base_uri": "https://localhost:8080/"
        },
        "id": "YYUN27ptAcza",
        "outputId": "3e99c57c-7b02-407d-f60a-1f3b68669eb0"
      },
      "execution_count": 7,
      "outputs": [
        {
          "output_type": "stream",
          "name": "stdout",
          "text": [
            "[6, 7, 1, 2, 3]\n"
          ]
        }
      ]
    },
    {
      "cell_type": "markdown",
      "source": [
        "## Question 5"
      ],
      "metadata": {
        "id": "qAz0JZsJAdSe"
      }
    },
    {
      "cell_type": "code",
      "source": [
        "def reverseString(S):\n",
        "    stack = []\n",
        "    for char in S:\n",
        "        stack.append(char)\n",
        "\n",
        "    result = \"\"\n",
        "    while stack:\n",
        "        result += stack.pop()\n",
        "\n",
        "    return result\n",
        "\n",
        "S = \"GeeksforGeeks\"\n",
        "output = reverseString(S)\n",
        "print(output)\n"
      ],
      "metadata": {
        "colab": {
          "base_uri": "https://localhost:8080/"
        },
        "id": "wZl9EyxKAday",
        "outputId": "8d66e97a-d13d-4c8c-b954-7d1b4cf4b7be"
      },
      "execution_count": 8,
      "outputs": [
        {
          "output_type": "stream",
          "name": "stdout",
          "text": [
            "skeeGrofskeeG\n"
          ]
        }
      ]
    },
    {
      "cell_type": "markdown",
      "source": [
        "## Question 6"
      ],
      "metadata": {
        "id": "jBDyGI-8AdjE"
      }
    },
    {
      "cell_type": "code",
      "source": [
        "def evaluatePostfix(S):\n",
        "    stack = []\n",
        "\n",
        "    for char in S:\n",
        "        if char.isdigit():\n",
        "            stack.append(int(char))\n",
        "        else:\n",
        "            operand2 = stack.pop()\n",
        "            operand1 = stack.pop()\n",
        "\n",
        "            if char == '*':\n",
        "                result = operand1 * operand2\n",
        "            elif char == '/':\n",
        "                result = operand1 / operand2\n",
        "            elif char == '+':\n",
        "                result = operand1 + operand2\n",
        "            elif char == '-':\n",
        "                result = operand1 - operand2\n",
        "\n",
        "            stack.append(result)\n",
        "\n",
        "    return stack.pop()\n",
        "\n",
        "# Testing the algorithm with the provided example\n",
        "S = \"231*+9-\"\n",
        "output = evaluatePostfix(S)\n",
        "print(output)"
      ],
      "metadata": {
        "colab": {
          "base_uri": "https://localhost:8080/"
        },
        "id": "8c5DpL3ZAdsf",
        "outputId": "786333a1-6a1d-49f9-f16e-7f53a23ecccf"
      },
      "execution_count": 9,
      "outputs": [
        {
          "output_type": "stream",
          "name": "stdout",
          "text": [
            "-4\n"
          ]
        }
      ]
    },
    {
      "cell_type": "markdown",
      "source": [
        "## Question 7"
      ],
      "metadata": {
        "id": "5fxnhNUdAd07"
      }
    },
    {
      "cell_type": "code",
      "source": [
        "class MinStack:\n",
        "    def __init__(self):\n",
        "        self.stack = []\n",
        "        self.min_stack = []\n",
        "\n",
        "    def push(self, val):\n",
        "        self.stack.append(val)\n",
        "\n",
        "        if not self.min_stack or val <= self.min_stack[-1]:\n",
        "            self.min_stack.append(val)\n",
        "\n",
        "    def pop(self):\n",
        "        if self.stack:\n",
        "            popped_val = self.stack.pop()\n",
        "\n",
        "            if popped_val == self.min_stack[-1]:\n",
        "                self.min_stack.pop()\n",
        "\n",
        "    def top(self):\n",
        "        if self.stack:\n",
        "            return self.stack[-1]\n",
        "\n",
        "    def getMin(self):\n",
        "        if self.min_stack:\n",
        "            return self.min_stack[-1]\n",
        "\n",
        "\n",
        "minStack = MinStack()\n",
        "minStack.push(-2)\n",
        "minStack.push(0)\n",
        "minStack.push(-3)\n",
        "print(minStack.getMin())  # Output: -3\n",
        "minStack.pop()\n",
        "print(minStack.top())     # Output: 0\n",
        "print(minStack.getMin())  # Output: -2\n"
      ],
      "metadata": {
        "colab": {
          "base_uri": "https://localhost:8080/"
        },
        "id": "a_jENDqmAd_V",
        "outputId": "500a578d-3141-462a-bb7a-60c519edfdc8"
      },
      "execution_count": 10,
      "outputs": [
        {
          "output_type": "stream",
          "name": "stdout",
          "text": [
            "-3\n",
            "0\n",
            "-2\n"
          ]
        }
      ]
    },
    {
      "cell_type": "markdown",
      "source": [
        "## Question 8"
      ],
      "metadata": {
        "id": "Xe9PwoyoAeHb"
      }
    },
    {
      "cell_type": "code",
      "source": [
        "def trap(height):\n",
        "    stack = []\n",
        "    total_water = 0\n",
        "\n",
        "    for i in range(len(height)):\n",
        "        while stack and height[i] > height[stack[-1]]:\n",
        "            prev_height = height[stack.pop()]\n",
        "\n",
        "            if not stack:\n",
        "                break\n",
        "\n",
        "            distance = i - stack[-1] - 1\n",
        "            water = distance * (min(height[i], height[stack[-1]]) - prev_height)\n",
        "            total_water += water\n",
        "\n",
        "        stack.append(i)\n",
        "\n",
        "    return total_water\n",
        "\n",
        "height = [0, 1, 0, 2, 1, 0, 1, 3, 2, 1, 2, 1]\n",
        "output = trap(height)\n",
        "print(output)\n"
      ],
      "metadata": {
        "colab": {
          "base_uri": "https://localhost:8080/"
        },
        "id": "YAAlBqb2AeO0",
        "outputId": "d9927205-1872-4c8d-bb8b-bb3def11e64a"
      },
      "execution_count": 11,
      "outputs": [
        {
          "output_type": "stream",
          "name": "stdout",
          "text": [
            "6\n"
          ]
        }
      ]
    }
  ]
}