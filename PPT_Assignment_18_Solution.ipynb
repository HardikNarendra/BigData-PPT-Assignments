{
  "nbformat": 4,
  "nbformat_minor": 0,
  "metadata": {
    "colab": {
      "provenance": []
    },
    "kernelspec": {
      "name": "python3",
      "display_name": "Python 3"
    },
    "language_info": {
      "name": "python"
    }
  },
  "cells": [
    {
      "cell_type": "markdown",
      "source": [
        "# Assignment 18\n",
        "\n"
      ],
      "metadata": {
        "id": "-hGKIJVRP6nU"
      }
    },
    {
      "cell_type": "markdown",
      "source": [
        "## Question-1"
      ],
      "metadata": {
        "id": "ySWID2VtRKiq"
      }
    },
    {
      "cell_type": "code",
      "execution_count": 1,
      "metadata": {
        "id": "WuxuM2R76OK6",
        "colab": {
          "base_uri": "https://localhost:8080/"
        },
        "outputId": "7000b5d1-11e7-4037-d3f8-aa4f92d9cf11"
      },
      "outputs": [
        {
          "output_type": "stream",
          "name": "stdout",
          "text": [
            "[[1, 6], [8, 10], [15, 18]]\n"
          ]
        }
      ],
      "source": [
        "def merge(intervals):\n",
        "    if not intervals:\n",
        "        return []\n",
        "\n",
        "    intervals.sort(key=lambda x: x[0])\n",
        "    result = [intervals[0]]\n",
        "\n",
        "    for interval in intervals[1:]:\n",
        "        if interval[0] <= result[-1][1]:\n",
        "            result[-1][1] = max(result[-1][1], interval[1])\n",
        "        else:\n",
        "            result.append(interval)\n",
        "\n",
        "    return result\n",
        "\n",
        "intervals = [[1, 3], [2, 6], [8, 10], [15, 18]]\n",
        "output = merge(intervals)\n",
        "print(output)\n"
      ]
    },
    {
      "cell_type": "markdown",
      "source": [
        "## Question-2"
      ],
      "metadata": {
        "id": "aizJsqHVROUn"
      }
    },
    {
      "cell_type": "code",
      "source": [
        "def sortColors(nums):\n",
        "    low, mid, high = 0, 0, len(nums) - 1\n",
        "\n",
        "    while mid <= high:\n",
        "        if nums[mid] == 0:\n",
        "            nums[mid], nums[low] = nums[low], nums[mid]\n",
        "            low += 1\n",
        "            mid += 1\n",
        "        elif nums[mid] == 1:\n",
        "            mid += 1\n",
        "        else:\n",
        "            nums[mid], nums[high] = nums[high], nums[mid]\n",
        "            high -= 1\n",
        "\n",
        "    return nums\n",
        "nums = [2, 0, 2, 1, 1, 0]\n",
        "output = sortColors(nums)\n",
        "print(output)\n"
      ],
      "metadata": {
        "colab": {
          "base_uri": "https://localhost:8080/"
        },
        "id": "clL5uM6nRRZl",
        "outputId": "f2054690-dc90-4afd-c127-2442c3ca5a1e"
      },
      "execution_count": 2,
      "outputs": [
        {
          "output_type": "stream",
          "name": "stdout",
          "text": [
            "[0, 0, 1, 1, 2, 2]\n"
          ]
        }
      ]
    },
    {
      "cell_type": "markdown",
      "source": [
        "## Question-3"
      ],
      "metadata": {
        "id": "b1dqUihGRSG5"
      }
    },
    {
      "cell_type": "code",
      "source": [
        "def firstBadVersion(n):\n",
        "    left = 1\n",
        "    right = n\n",
        "\n",
        "    while left < right:\n",
        "        mid = left + (right - left) // 2\n",
        "\n",
        "        if isBadVersion(mid):\n",
        "            right = mid\n",
        "        else:\n",
        "            left = mid + 1\n",
        "\n",
        "    return left\n",
        "def isBadVersion(version):\n",
        "    return version >= 4\n",
        "n = 5\n",
        "output = firstBadVersion(n)\n",
        "print(output)\n"
      ],
      "metadata": {
        "colab": {
          "base_uri": "https://localhost:8080/"
        },
        "id": "OsX65MxpRTFH",
        "outputId": "5ea276e8-a086-4738-c375-b2ca02190f8c"
      },
      "execution_count": 3,
      "outputs": [
        {
          "output_type": "stream",
          "name": "stdout",
          "text": [
            "4\n"
          ]
        }
      ]
    },
    {
      "cell_type": "markdown",
      "source": [
        "## Question-4"
      ],
      "metadata": {
        "id": "umSR5p5fRTjb"
      }
    },
    {
      "cell_type": "code",
      "source": [
        "def maximumGap(nums):\n",
        "    if len(nums) < 2:\n",
        "        return 0\n",
        "\n",
        "    # Find the minimum and maximum values in the array\n",
        "    min_val = min(nums)\n",
        "    max_val = max(nums)\n",
        "\n",
        "    # Calculate the size of each bucket\n",
        "    bucket_size = max(1, (max_val - min_val) // (len(nums) - 1))\n",
        "\n",
        "    # Calculate the number of buckets\n",
        "    num_buckets = (max_val - min_val) // bucket_size + 1\n",
        "\n",
        "    # Initialize the buckets\n",
        "    buckets = [[float('inf'), float('-inf')] for _ in range(num_buckets)]\n",
        "\n",
        "    # Assign each number to the appropriate bucket\n",
        "    for num in nums:\n",
        "        index = (num - min_val) // bucket_size\n",
        "        buckets[index][0] = min(buckets[index][0], num)\n",
        "        buckets[index][1] = max(buckets[index][1], num)\n",
        "\n",
        "    # Calculate the maximum gap\n",
        "    max_gap = 0\n",
        "    prev_max = min_val\n",
        "\n",
        "    for bucket in buckets:\n",
        "        if bucket[0] == float('inf') or bucket[1] == float('-inf'):\n",
        "            continue\n",
        "        max_gap = max(max_gap, bucket[0] - prev_max)\n",
        "        prev_max = bucket[1]\n",
        "\n",
        "    return max_gap\n",
        "\n",
        "nums = [3, 6, 9, 1]\n",
        "output = maximumGap(nums)\n",
        "print(output)\n"
      ],
      "metadata": {
        "colab": {
          "base_uri": "https://localhost:8080/"
        },
        "id": "bGs3N_YbRUqb",
        "outputId": "7081783a-e2ce-42c5-abeb-995232158a87"
      },
      "execution_count": 4,
      "outputs": [
        {
          "output_type": "stream",
          "name": "stdout",
          "text": [
            "3\n"
          ]
        }
      ]
    },
    {
      "cell_type": "markdown",
      "source": [
        "## Question-5"
      ],
      "metadata": {
        "id": "M49rNL5FRVSO"
      }
    },
    {
      "cell_type": "code",
      "source": [
        "def containsDuplicate(nums):\n",
        "    num_set = set()\n",
        "\n",
        "    for num in nums:\n",
        "        if num in num_set:\n",
        "            return True\n",
        "        num_set.add(num)\n",
        "\n",
        "    return False\n",
        "nums = [1, 2, 3, 1]\n",
        "output = containsDuplicate(nums)\n",
        "print(output)\n"
      ],
      "metadata": {
        "colab": {
          "base_uri": "https://localhost:8080/"
        },
        "id": "TLX50PtURWMq",
        "outputId": "85f74acb-f87b-4561-f495-ebdfc8c6bca3"
      },
      "execution_count": 5,
      "outputs": [
        {
          "output_type": "stream",
          "name": "stdout",
          "text": [
            "True\n"
          ]
        }
      ]
    },
    {
      "cell_type": "markdown",
      "source": [
        "## Question-6"
      ],
      "metadata": {
        "id": "CdluD2AkRW5H"
      }
    },
    {
      "cell_type": "code",
      "source": [
        "def findMinArrowShots(points):\n",
        "    if not points:\n",
        "        return 0\n",
        "\n",
        "    # Sort balloons based on end coordinates\n",
        "    points.sort(key=lambda x: x[1])\n",
        "\n",
        "    arrows = 1\n",
        "    end = points[0][1]\n",
        "\n",
        "    for i in range(1, len(points)):\n",
        "        # If the start coordinate is greater than the current end coordinate,\n",
        "        # shoot a new arrow and update the current end coordinate\n",
        "        if points[i][0] > end:\n",
        "            arrows += 1\n",
        "            end = points[i][1]\n",
        "\n",
        "    return arrows\n",
        "\n",
        "points = [[10, 16], [2, 8], [1, 6], [7, 12]]\n",
        "output = findMinArrowShots(points)\n",
        "print(output)\n"
      ],
      "metadata": {
        "colab": {
          "base_uri": "https://localhost:8080/"
        },
        "id": "kYNUTwKERX4P",
        "outputId": "2b2481eb-3b74-4983-c76f-537eb6b8a356"
      },
      "execution_count": 6,
      "outputs": [
        {
          "output_type": "stream",
          "name": "stdout",
          "text": [
            "2\n"
          ]
        }
      ]
    },
    {
      "cell_type": "markdown",
      "source": [
        "## Question-7"
      ],
      "metadata": {
        "id": "y7eqbiBnRYSQ"
      }
    },
    {
      "cell_type": "code",
      "source": [
        "def lengthOfLIS(nums):\n",
        "    if not nums:\n",
        "        return 0\n",
        "\n",
        "    n = len(nums)\n",
        "    dp = [1] * n\n",
        "\n",
        "    for i in range(1, n):\n",
        "        for j in range(i):\n",
        "            if nums[i] > nums[j]:\n",
        "                dp[i] = max(dp[i], dp[j] + 1)\n",
        "\n",
        "    return max(dp)\n",
        "nums = [10, 9, 2, 5, 3, 7, 101, 18]\n",
        "output = lengthOfLIS(nums)\n",
        "print(output)\n"
      ],
      "metadata": {
        "colab": {
          "base_uri": "https://localhost:8080/"
        },
        "id": "IcgrpNRtRZEN",
        "outputId": "4e64bf10-33a0-47b7-825f-d58ab0f43f3d"
      },
      "execution_count": 7,
      "outputs": [
        {
          "output_type": "stream",
          "name": "stdout",
          "text": [
            "4\n"
          ]
        }
      ]
    },
    {
      "cell_type": "markdown",
      "source": [
        "## Question-8"
      ],
      "metadata": {
        "id": "8oDlves1RZY5"
      }
    },
    {
      "cell_type": "code",
      "source": [
        "def find132pattern(nums):\n",
        "    stack = []\n",
        "    second_largest = float('-inf')\n",
        "\n",
        "    for i in range(len(nums) - 1, -1, -1):\n",
        "        if nums[i] < second_largest:\n",
        "            return True\n",
        "\n",
        "        while stack and nums[i] > stack[-1]:\n",
        "            second_largest = stack.pop()\n",
        "\n",
        "        stack.append(nums[i])\n",
        "\n",
        "    return False\n",
        "nums = [1, 2, 3, 4]\n",
        "output = find132pattern(nums)\n",
        "print(output)\n"
      ],
      "metadata": {
        "colab": {
          "base_uri": "https://localhost:8080/"
        },
        "id": "sU4muiJsRaX8",
        "outputId": "fb5f6574-6c37-45a3-d688-3372e99b7347"
      },
      "execution_count": 8,
      "outputs": [
        {
          "output_type": "stream",
          "name": "stdout",
          "text": [
            "False\n"
          ]
        }
      ]
    }
  ]
}