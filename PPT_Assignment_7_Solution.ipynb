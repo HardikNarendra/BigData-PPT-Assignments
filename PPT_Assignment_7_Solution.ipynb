{
  "nbformat": 4,
  "nbformat_minor": 0,
  "metadata": {
    "colab": {
      "provenance": []
    },
    "kernelspec": {
      "name": "python3",
      "display_name": "Python 3"
    },
    "language_info": {
      "name": "python"
    }
  },
  "cells": [
    {
      "cell_type": "markdown",
      "source": [
        "# Assignment_7\n",
        "\n",
        "## **Question 1**\n",
        "\n",
        "Given two strings s and t, *determine if they are isomorphic*.\n",
        "\n",
        "Two strings s and t are isomorphic if the characters in s can be replaced to get t.\n",
        "\n",
        "All occurrences of a character must be replaced with another character while preserving the order of characters. No two characters may map to the same character, but a character may map to itself.\n",
        "\n",
        "**Example 1:**\n",
        "\n",
        "**Input:** s = \"egg\", t = \"add\"\n",
        "\n",
        "**Output:** true\n"
      ],
      "metadata": {
        "id": "-9ohXnfGaJuY"
      }
    },
    {
      "cell_type": "code",
      "source": [
        "class Solution(object):\n",
        "    def isIsomorphic(self, s, t):\n",
        "        map1 = []\n",
        "        map2 = []\n",
        "        for idx in s:\n",
        "            map1.append(s.index(idx))\n",
        "        for idx in t:\n",
        "            map2.append(t.index(idx))\n",
        "        if map1 == map2:\n",
        "            return True\n",
        "        return False\n",
        "x = Solution()\n",
        "s = \"egg\"\n",
        "t = \"add\"\n",
        "x.isIsomorphic(s,t)"
      ],
      "metadata": {
        "id": "b6F3TQxkaS96",
        "colab": {
          "base_uri": "https://localhost:8080/"
        },
        "outputId": "ac11851b-a610-441e-fdb9-b46c68faed1f"
      },
      "execution_count": 1,
      "outputs": [
        {
          "output_type": "execute_result",
          "data": {
            "text/plain": [
              "True"
            ]
          },
          "metadata": {},
          "execution_count": 1
        }
      ]
    },
    {
      "cell_type": "markdown",
      "source": [
        "\n",
        "## **Question 2**\n",
        "\n",
        "Given a string num which represents an integer, return true *if* num *is a **strobogrammatic number***.\n",
        "\n",
        "A **strobogrammatic number** is a number that looks the same when rotated 180 degrees (looked at upside down).\n",
        "\n",
        "**Example 1:**\n",
        "\n",
        "**Input:** num = \"69\"\n",
        "\n",
        "**Output:**\n",
        "\n",
        "true\n"
      ],
      "metadata": {
        "id": "hcWFoFhpaluG"
      }
    },
    {
      "cell_type": "code",
      "source": [
        "# Python program to print all\n",
        "# Strobogrammatic number of length n\n",
        "\n",
        "# strobogrammatic function\n",
        "def strobogrammatic_num(n):\n",
        "\n",
        "\tresult = numdef(n, n)\n",
        "\treturn result\n",
        "\n",
        "# definition function\n",
        "def numdef(n, length):\n",
        "\n",
        "\tif n == 0: return [\"\"]\n",
        "\tif n == 1: return [\"1\", \"0\", \"8\"]\n",
        "\n",
        "\tmiddles = numdef(n - 2, length)\n",
        "\tresult = []\n",
        "\n",
        "\tfor middle in middles:\n",
        "\t\tif n != length:\n",
        "\t\t\tresult.append(\"0\" + middle + \"0\")\n",
        "\n",
        "\t\tresult.append(\"8\" + middle + \"8\")\n",
        "\t\tresult.append(\"1\" + middle + \"1\")\n",
        "\t\tresult.append(\"9\" + middle + \"6\")\n",
        "\t\tresult.append(\"6\" + middle + \"9\")\n",
        "\treturn result\n",
        "\n",
        "# Driver Code\n",
        "if __name__ == '__main__':\n",
        "\n",
        "\t# Print all Strobogrammatic\n",
        "\t# number for n = 3\n",
        "\tprint(strobogrammatic_num(3))\n"
      ],
      "metadata": {
        "id": "7bklcWg7aqhv",
        "colab": {
          "base_uri": "https://localhost:8080/"
        },
        "outputId": "ed800617-e3b8-47ed-8753-0f22ae6ef7c2"
      },
      "execution_count": 2,
      "outputs": [
        {
          "output_type": "stream",
          "name": "stdout",
          "text": [
            "['818', '111', '916', '619', '808', '101', '906', '609', '888', '181', '986', '689']\n"
          ]
        }
      ]
    },
    {
      "cell_type": "markdown",
      "source": [
        "## **Question 3**\n",
        "\n",
        "Given two non-negative integers, num1 and num2 represented as string, return *the sum of* num1 *and* num2 *as a string*.\n",
        "\n",
        "You must solve the problem without using any built-in library for handling large integers (such as BigInteger). You must also not convert the inputs to integers directly.\n",
        "\n",
        "**Example 1:**\n",
        "\n",
        "**Input:** num1 = \"11\", num2 = \"123\"\n",
        "\n",
        "**Output:**\n",
        "\n",
        "\"134\""
      ],
      "metadata": {
        "id": "6jZTPo6CarRa"
      }
    },
    {
      "cell_type": "code",
      "source": [
        "def addStrings(num1, num2):\n",
        "        num1, num2 = num1[::-1], num2[::-1]\n",
        "        num3 = ''\n",
        "        carry = i = 0\n",
        "        l1, l2 = len(num1), len(num2)\n",
        "        l3 = max(l1, l2)\n",
        "        while i < l3 or carry:\n",
        "            dig1  = int(num1[i]) if i < l1 else 0\n",
        "            dig2  = int(num2[i]) if i < l2 else 0\n",
        "            dig3  = (dig1 + dig2 + carry) % 10\n",
        "            carry = (dig1 + dig2 + carry) // 10\n",
        "            num3 += str(dig3)\n",
        "            i    += 1\n",
        "        return num3[::-1]\n",
        "num1 = \"11\"\n",
        "num2 = \"123\"\n",
        "print(addStrings(num1,num2))\n",
        ""
      ],
      "metadata": {
        "id": "icIemtMhayVE",
        "colab": {
          "base_uri": "https://localhost:8080/"
        },
        "outputId": "e7b4d25a-49f4-45f5-9403-a835916beb8e"
      },
      "execution_count": 3,
      "outputs": [
        {
          "output_type": "stream",
          "name": "stdout",
          "text": [
            "134\n"
          ]
        }
      ]
    },
    {
      "cell_type": "markdown",
      "source": [
        "# **Question 4**\n",
        "\n",
        "Given a string s, reverse the order of characters in each word within a sentence while still preserving whitespace and initial word order.\n",
        "\n",
        "**Example 1:**\n",
        "\n",
        "**Input:** s = \"Let's take LeetCode contest\"\n",
        "\n",
        "**Output:** \"s'teL ekat edoCteeL tsetnoc\"\n",
        "\n"
      ],
      "metadata": {
        "id": "atx-16C8ay48"
      }
    },
    {
      "cell_type": "code",
      "source": [
        "def reverseWords(s):\n",
        "        words=s.split()\n",
        "        ans = \"\"\n",
        "        for  i in range(len(words)):\n",
        "            ans += words[i][::-1]\n",
        "            if i != len(words)-1:\n",
        "                ans+=\" \"\n",
        "        return ans\n",
        "s = \"Let's take LeetCode contest\"\n",
        "print(reverseWords(s))"
      ],
      "metadata": {
        "id": "UgfLenRKa3QN",
        "colab": {
          "base_uri": "https://localhost:8080/"
        },
        "outputId": "28177268-8e31-4373-cd46-d69f0f816364"
      },
      "execution_count": 5,
      "outputs": [
        {
          "output_type": "stream",
          "name": "stdout",
          "text": [
            "s'teL ekat edoCteeL tsetnoc\n"
          ]
        }
      ]
    },
    {
      "cell_type": "markdown",
      "source": [
        "## **Question 5**\n",
        "\n",
        "Given a string s and an integer k, reverse the first k characters for every 2k characters counting from the start of the string.\n",
        "\n",
        "If there are fewer than k characters left, reverse all of them. If there are less than 2k but greater than or equal to k characters, then reverse the first k characters and leave the other as original.\n",
        "\n",
        "**Example 1:**\n",
        "\n",
        "**Input:** s = \"abcdefg\", k = 2\n",
        "\n",
        "**Output:**\n",
        "\n",
        "\"bacdfeg\""
      ],
      "metadata": {
        "id": "HLO9RbJta38p"
      }
    },
    {
      "cell_type": "code",
      "source": [
        "def reverseStr(s, k):\n",
        "        tab=[]\n",
        "        for i in range(len(s)):\n",
        "            if (i//k)%2==0:\n",
        "               tab.insert(i-i%k,s[i])\n",
        "            else:\n",
        "                tab.append(s[i])\n",
        "        res=\"\"\n",
        "        for t in tab:\n",
        "            res+=t\n",
        "        return res\n",
        "s = \"abcdefg\"\n",
        "k = 2\n",
        "print(reverseStr(s, k))\n",
        ""
      ],
      "metadata": {
        "id": "MEpVsD0ka8PU",
        "colab": {
          "base_uri": "https://localhost:8080/"
        },
        "outputId": "f32464d5-9207-4b9d-8e89-45f869e67cb2"
      },
      "execution_count": 6,
      "outputs": [
        {
          "output_type": "stream",
          "name": "stdout",
          "text": [
            "bacdfeg\n"
          ]
        }
      ]
    },
    {
      "cell_type": "markdown",
      "source": [
        "## **Question 6**\n",
        "\n",
        "Given two strings s and goal, return true *if and only if* s *can become* goal *after some number of **shifts** on* s.\n",
        "\n",
        "A **shift** on s consists of moving the leftmost character of s to the rightmost position.\n",
        "\n",
        "- For example, if s = \"abcde\", then it will be \"bcdea\" after one shift.\n",
        "\n",
        "**Example 1:**\n",
        "\n",
        "**Input:** s = \"abcde\", goal = \"cdeab\"\n",
        "\n",
        "**Output:**\n",
        "\n",
        "true"
      ],
      "metadata": {
        "id": "buFEJ2bpa_hC"
      }
    },
    {
      "cell_type": "code",
      "source": [
        "def rotateString(s, goal):\n",
        "        for i in range(len(s) + 1):\n",
        "            if s[i:] + s[:i] == goal:\n",
        "                return True\n",
        "        return False\n",
        "s = \"abcde\"\n",
        "goal = \"cdeab\"\n",
        "print(rotateString(s, goal))"
      ],
      "metadata": {
        "id": "UtPodqDLbCXc",
        "colab": {
          "base_uri": "https://localhost:8080/"
        },
        "outputId": "6fcff3f1-6ce7-453f-8cf8-3b26a6831f07"
      },
      "execution_count": 7,
      "outputs": [
        {
          "output_type": "stream",
          "name": "stdout",
          "text": [
            "True\n"
          ]
        }
      ]
    },
    {
      "cell_type": "markdown",
      "source": [
        "## **Question 7**\n",
        "\n",
        "Given two strings s and t, return true *if they are equal when both are typed into empty text editors*. '#' means a backspace character.\n",
        "\n",
        "Note that after backspacing an empty text, the text will continue empty.\n",
        "\n",
        "**Example 1:**\n",
        "\n",
        "**Input:** s = \"ab#c\", t = \"ad#c\"\n",
        "\n",
        "**Output:** true\n",
        "\n",
        "**Explanation:**\n",
        "\n",
        "Both s and t become \"ac\"."
      ],
      "metadata": {
        "id": "uyn_mcpxbCyP"
      }
    },
    {
      "cell_type": "code",
      "source": [
        "def backspaceCompare(s, t):\n",
        "        s_backspaced = []\n",
        "        t_backspaced = []\n",
        "\n",
        "        for i in range(len(s)):\n",
        "            if s[i] == '#':\n",
        "                if s_backspaced:\n",
        "                    s_backspaced.pop()\n",
        "            else:\n",
        "                s_backspaced.append(s[i])\n",
        "\n",
        "        for i in range(len(t)):\n",
        "            if t[i] == '#':\n",
        "                if t_backspaced:\n",
        "                    t_backspaced.pop()\n",
        "            else:\n",
        "                t_backspaced.append(t[i])\n",
        "\n",
        "        return s_backspaced == t_backspaced\n",
        "\n",
        "s = \"ab#c\"\n",
        "t = \"ad#c\"\n",
        "print(backspaceCompare(s, t))"
      ],
      "metadata": {
        "id": "ayWXhAWibHwD",
        "colab": {
          "base_uri": "https://localhost:8080/"
        },
        "outputId": "2d44954d-a76a-4a08-db21-16ab20fb4769"
      },
      "execution_count": 8,
      "outputs": [
        {
          "output_type": "stream",
          "name": "stdout",
          "text": [
            "True\n"
          ]
        }
      ]
    },
    {
      "cell_type": "markdown",
      "source": [
        "# **Question 8**\n",
        "\n",
        "You are given an array coordinates, coordinates[i] = [x, y], where [x, y] represents the coordinate of a point. Check if these points make a straight line in the XY plane.\n",
        "\n",
        "**Example 1:**\n",
        "\n",
        "**Input:** coordinates = [[1,2],[2,3],[3,4],[4,5],[5,6],[6,7]]\n",
        "\n",
        "**Output:** true"
      ],
      "metadata": {
        "id": "OQyJo8tIbNpW"
      }
    },
    {
      "cell_type": "code",
      "source": [
        "def checkStraightLine(coordinates):\n",
        "        x0, y0 = coordinates[0]\n",
        "        x1, y1 = coordinates[1]\n",
        "\n",
        "        for i in range(2, len(coordinates)):\n",
        "            x, y = coordinates[i]\n",
        "            if (x - x0) * (y1 - y0) != (y - y0) * (x1 - x0):\n",
        "                return False\n",
        "\n",
        "        return True\n",
        "coordinates = [[1,2],[2,3],[3,4],[4,5],[5,6],[6,7]]\n",
        "print(checkStraightLine(coordinates))"
      ],
      "metadata": {
        "id": "sBYpPtldbT9C",
        "colab": {
          "base_uri": "https://localhost:8080/"
        },
        "outputId": "69fce36b-2690-4951-b9d7-222685600898"
      },
      "execution_count": 9,
      "outputs": [
        {
          "output_type": "stream",
          "name": "stdout",
          "text": [
            "True\n"
          ]
        }
      ]
    }
  ]
}