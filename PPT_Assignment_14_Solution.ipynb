{
  "nbformat": 4,
  "nbformat_minor": 0,
  "metadata": {
    "colab": {
      "provenance": []
    },
    "kernelspec": {
      "name": "python3",
      "display_name": "Python 3"
    },
    "language_info": {
      "name": "python"
    }
  },
  "cells": [
    {
      "cell_type": "markdown",
      "source": [
        "#Assignment 14\n"
      ],
      "metadata": {
        "id": "8EMrKtgguwqj"
      }
    },
    {
      "cell_type": "markdown",
      "source": [
        "## Question 1"
      ],
      "metadata": {
        "id": "TNg3K1l_u1Rb"
      }
    },
    {
      "cell_type": "code",
      "execution_count": 1,
      "metadata": {
        "id": "n50H9ehy5_oq",
        "colab": {
          "base_uri": "https://localhost:8080/"
        },
        "outputId": "f45b0353-ab51-409b-da85-c431f3f67c87"
      },
      "outputs": [
        {
          "output_type": "stream",
          "name": "stdout",
          "text": [
            "Loop detected and removed\n",
            "1 3 4 "
          ]
        }
      ],
      "source": [
        "class Node:\n",
        "    def __init__(self, data):\n",
        "        self.data = data\n",
        "        self.next = None\n",
        "\n",
        "def detectAndRemoveLoop(head):\n",
        "    if not head or not head.next:\n",
        "        return False\n",
        "\n",
        "    tortoise = head\n",
        "    hare = head\n",
        "\n",
        "    # Detect loop\n",
        "    while hare and hare.next:\n",
        "        tortoise = tortoise.next\n",
        "        hare = hare.next.next\n",
        "        if tortoise == hare:\n",
        "            break\n",
        "\n",
        "    # No loop found\n",
        "    if hare is None or hare.next is None:\n",
        "        return False\n",
        "\n",
        "    # Move hare to head\n",
        "    hare = head\n",
        "\n",
        "    # Find starting point of the loop\n",
        "    while tortoise.next != hare.next:\n",
        "        tortoise = tortoise.next\n",
        "        hare = hare.next\n",
        "\n",
        "    # Unlink the last node of the loop\n",
        "    tortoise.next = None\n",
        "\n",
        "    return True\n",
        "\n",
        "\n",
        "head = Node(1)\n",
        "head.next = Node(3)\n",
        "head.next.next = Node(4)\n",
        "head.next.next.next = head.next\n",
        "\n",
        "loopDetected = detectAndRemoveLoop(head)\n",
        "\n",
        "if loopDetected:\n",
        "    print(\"Loop detected and removed\")\n",
        "else:\n",
        "    print(\"No loop found\")\n",
        "\n",
        "# Print the modified linked list\n",
        "current = head\n",
        "while current:\n",
        "    print(current.data, end=\" \")\n",
        "    current = current.next\n"
      ]
    },
    {
      "cell_type": "markdown",
      "source": [
        "## Question 2"
      ],
      "metadata": {
        "id": "tkLIZIq7u4Od"
      }
    },
    {
      "cell_type": "code",
      "source": [
        "class Node:\n",
        "    def __init__(self, data):\n",
        "        self.data = data\n",
        "        self.next = None\n",
        "\n",
        "def addOne(head):\n",
        "    if not head:\n",
        "        return None\n",
        "\n",
        "    # Reverse the linked list\n",
        "    current = head\n",
        "    prev = None\n",
        "\n",
        "    while current:\n",
        "        next = current.next\n",
        "        current.next = prev\n",
        "        prev = current\n",
        "        current = next\n",
        "\n",
        "    head = prev\n",
        "\n",
        "    # Add 1 to the value\n",
        "    carry = 1\n",
        "    current = head\n",
        "\n",
        "    while current:\n",
        "        sum = current.data + carry\n",
        "        current.data = sum % 10\n",
        "        carry = sum // 10\n",
        "        current = current.next\n",
        "\n",
        "    # Reverse the linked list again\n",
        "    current = head\n",
        "    prev = None\n",
        "\n",
        "    while current:\n",
        "        next = current.next\n",
        "        current.next = prev\n",
        "        prev = current\n",
        "        current = next\n",
        "\n",
        "    head = prev\n",
        "\n",
        "    return head\n",
        "\n",
        "\n",
        "\n",
        "head = Node(4)\n",
        "head.next = Node(5)\n",
        "head.next.next = Node(6)\n",
        "\n",
        "newHead = addOne(head)\n",
        "\n",
        "# Print the modified linked list\n",
        "current = newHead\n",
        "while current:\n",
        "    print(current.data, end=\"\")\n",
        "    current = current.next\n",
        "\n",
        "print()\n"
      ],
      "metadata": {
        "colab": {
          "base_uri": "https://localhost:8080/"
        },
        "id": "K1WtJ4HCuu7y",
        "outputId": "27e70b65-2974-4049-df48-3472ed68593b"
      },
      "execution_count": 2,
      "outputs": [
        {
          "output_type": "stream",
          "name": "stdout",
          "text": [
            "457\n"
          ]
        }
      ]
    },
    {
      "cell_type": "markdown",
      "source": [
        "## Question 3"
      ],
      "metadata": {
        "id": "Ejylu7o7u5mp"
      }
    },
    {
      "cell_type": "code",
      "source": [
        "class Node:\n",
        "    def __init__(self, data):\n",
        "        self.data = data\n",
        "        self.next = None\n",
        "        self.bottom = None\n",
        "\n",
        "def mergeSortedLists(head1, head2):\n",
        "    if not head1:\n",
        "        return head2\n",
        "    if not head2:\n",
        "        return head1\n",
        "\n",
        "    if head1.data <= head2.data:\n",
        "        newHead = head1\n",
        "        current1 = head1.bottom\n",
        "        current2 = head2\n",
        "    else:\n",
        "        newHead = head2\n",
        "        current1 = head1\n",
        "        current2 = head2.bottom\n",
        "\n",
        "    temp = newHead\n",
        "\n",
        "    while current1 and current2:\n",
        "        if current1.data <= current2.data:\n",
        "            temp.bottom = current1\n",
        "            current1 = current1.bottom\n",
        "        else:\n",
        "            temp.bottom = current2\n",
        "            current2 = current2.bottom\n",
        "        temp = temp.bottom\n",
        "\n",
        "    if current1:\n",
        "        temp.bottom = current1\n",
        "    if current2:\n",
        "        temp.bottom = current2\n",
        "\n",
        "    return newHead\n",
        "\n",
        "def flattenLinkedList(head):\n",
        "    if not head or not head.next:\n",
        "        return head\n",
        "\n",
        "    head.next = flattenLinkedList(head.next)\n",
        "\n",
        "    head = mergeSortedLists(head, head.next)\n",
        "\n",
        "    return head\n",
        "\n",
        "\n",
        "\n",
        "head = Node(5)\n",
        "head.next = Node(10)\n",
        "head.next.bottom = Node(7)\n",
        "head.next.next = Node(19)\n",
        "head.next.next.bottom = Node(20)\n",
        "head.next.next.next = Node(28)\n",
        "head.next.next.next.bottom = Node(22)\n",
        "head.next.next.next.next = Node(35)\n",
        "head.next.next.next.next.bottom = Node(50)\n",
        "head.next.bottom.bottom = Node(8)\n",
        "head.next.bottom.bottom.bottom = Node(30)\n",
        "head.next.next.bottom = Node(40)\n",
        "head.next.next.bottom.bottom = Node(45)\n",
        "\n",
        "newHead = flattenLinkedList(head)\n",
        "\n",
        "# Print the flattened linked list\n",
        "current = newHead\n",
        "while current:\n",
        "    print(current.data, end=\" \")\n",
        "    current = current.bottom\n",
        "\n"
      ],
      "metadata": {
        "colab": {
          "base_uri": "https://localhost:8080/"
        },
        "id": "X9vrv103uvM7",
        "outputId": "c1f8f7fc-22f4-48ad-ffe4-b942e5e3a61a"
      },
      "execution_count": 5,
      "outputs": [
        {
          "output_type": "stream",
          "name": "stdout",
          "text": [
            "5 10 7 8 19 28 22 30 35 40 45 50 "
          ]
        }
      ]
    },
    {
      "cell_type": "markdown",
      "source": [
        "## Question 4"
      ],
      "metadata": {
        "id": "Um0E_tz-u71o"
      }
    },
    {
      "cell_type": "code",
      "source": [
        "# Example usage\n",
        "class Node:\n",
        "    def __init__(self, data):\n",
        "        self.data = data\n",
        "        self.next = None\n",
        "        self.random = None\n",
        "\n",
        "def printList(head):\n",
        "    current = head\n",
        "    while current:\n",
        "        print(current.data, end=\" \")\n",
        "        current = current.next\n",
        "    print()\n",
        "\n",
        "def printRandomList(head):\n",
        "    current = head\n",
        "    while current:\n",
        "        if current.random:\n",
        "            print(current.data, \"-->\", current.random.data)\n",
        "        else:\n",
        "            print(current.data, \"--> None\")\n",
        "        current = current.next\n",
        "\n",
        "# Create the original linked list\n",
        "head = Node(1)\n",
        "head.next = Node(3)\n",
        "head.next.next = Node(5)\n",
        "head.next.next.next = Node(9)\n",
        "\n",
        "# Set the random pointers\n",
        "head.random = head\n",
        "head.next.random = head.next.next.next\n",
        "\n",
        "print(\"Original Linked List:\")\n",
        "printList(head)\n",
        "printRandomList(head)\n",
        "\n",
        "# Create a copy of the linked list\n",
        "newHead = copyRandomList(head)\n",
        "\n",
        "print(\"Copied Linked List:\")\n",
        "printList(newHead)\n",
        "printRandomList(newHead)\n"
      ],
      "metadata": {
        "colab": {
          "base_uri": "https://localhost:8080/"
        },
        "id": "foprvhZ8uvUM",
        "outputId": "98747bc9-db94-448d-c29d-f8c897de2a0b"
      },
      "execution_count": 7,
      "outputs": [
        {
          "output_type": "stream",
          "name": "stdout",
          "text": [
            "Original Linked List:\n",
            "1 3 5 9 \n",
            "1 --> 1\n",
            "3 --> 9\n",
            "5 --> None\n",
            "9 --> None\n",
            "Copied Linked List:\n",
            "1 3 5 9 \n",
            "1 --> 1\n",
            "3 --> 9\n",
            "5 --> None\n",
            "9 --> None\n"
          ]
        }
      ]
    },
    {
      "cell_type": "markdown",
      "source": [
        "## Question 5"
      ],
      "metadata": {
        "id": "KfIabNRGu9W0"
      }
    },
    {
      "cell_type": "code",
      "source": [
        "class ListNode:\n",
        "    def __init__(self, val=0, next=None):\n",
        "        self.val = val\n",
        "        self.next = next\n",
        "\n",
        "\n",
        "def oddEvenList(head):\n",
        "    if not head or not head.next:\n",
        "        return head\n",
        "\n",
        "    oddHead = oddTail = head\n",
        "    evenHead = evenTail = head.next\n",
        "\n",
        "    current = head.next.next\n",
        "    index = 3\n",
        "\n",
        "    while current:\n",
        "        if index % 2 != 0:\n",
        "            oddTail.next = current\n",
        "            oddTail = oddTail.next\n",
        "        else:\n",
        "            evenTail.next = current\n",
        "            evenTail = evenTail.next\n",
        "\n",
        "        current = current.next\n",
        "        index += 1\n",
        "\n",
        "    oddTail.next = evenHead\n",
        "    evenTail.next = None\n",
        "\n",
        "    return oddHead\n",
        "\n",
        "\n",
        "# Create the linked list [1,2,3,4,5]\n",
        "head = ListNode(1)\n",
        "head.next = ListNode(2)\n",
        "head.next.next = ListNode(3)\n",
        "head.next.next.next = ListNode(4)\n",
        "head.next.next.next.next = ListNode(5)\n",
        "\n",
        "# Reorder the list\n",
        "reordered_list = oddEvenList(head)\n",
        "\n",
        "# Print the reordered list\n",
        "while reordered_list:\n",
        "    print(reordered_list.val, end=\" \")\n",
        "    reordered_list = reordered_list.next\n",
        "\n",
        "\n"
      ],
      "metadata": {
        "colab": {
          "base_uri": "https://localhost:8080/"
        },
        "id": "jV8i0DvBuvbC",
        "outputId": "4e7639f6-30a5-4c87-dd01-2932d2491699"
      },
      "execution_count": 8,
      "outputs": [
        {
          "output_type": "stream",
          "name": "stdout",
          "text": [
            "1 3 5 2 4 "
          ]
        }
      ]
    },
    {
      "cell_type": "markdown",
      "source": [
        "## Question 6"
      ],
      "metadata": {
        "id": "GMxfzYrpu-mM"
      }
    },
    {
      "cell_type": "code",
      "source": [
        "class ListNode:\n",
        "    def __init__(self, val=0, next=None):\n",
        "        self.val = val\n",
        "        self.next = next\n",
        "\n",
        "\n",
        "def leftShiftLinkedList(head, k):\n",
        "    if not head or not head.next or k == 0:\n",
        "        return head\n",
        "\n",
        "    # Find the length of the linked list\n",
        "    length = 1\n",
        "    current = head\n",
        "    while current.next:\n",
        "        length += 1\n",
        "        current = current.next\n",
        "\n",
        "    # Calculate the effective rotation count\n",
        "    k = k % length\n",
        "\n",
        "    if k == 0:\n",
        "        return head\n",
        "\n",
        "    # Find the kth node from the beginning\n",
        "    kth_node = head\n",
        "    for _ in range(k):\n",
        "        kth_node = kth_node.next\n",
        "\n",
        "    # Set the new head and tail of the list\n",
        "    new_head = kth_node.next\n",
        "    current.next = head\n",
        "\n",
        "    # Set the next node of the (k-1)th node as None\n",
        "    kth_node.next = None\n",
        "\n",
        "    return new_head\n",
        "\n",
        "\n",
        "# Create the linked list [2, 4, 7, 8, 9]\n",
        "head = ListNode(2)\n",
        "head.next = ListNode(4)\n",
        "head.next.next = ListNode(7)\n",
        "head.next.next.next = ListNode(8)\n",
        "head.next.next.next.next = ListNode(9)\n",
        "\n",
        "# Left-shift the list by 3 nodes\n",
        "shifted_list = leftShiftLinkedList(head, 3)\n",
        "\n",
        "# Print the shifted list\n",
        "while shifted_list:\n",
        "    print(shifted_list.val, end=\" \")\n",
        "    shifted_list = shifted_list.next\n"
      ],
      "metadata": {
        "colab": {
          "base_uri": "https://localhost:8080/"
        },
        "id": "uhWcUkTHuviF",
        "outputId": "1db53724-8c59-4e52-cca6-e0143cc36804"
      },
      "execution_count": 9,
      "outputs": [
        {
          "output_type": "stream",
          "name": "stdout",
          "text": [
            "9 2 4 7 8 "
          ]
        }
      ]
    },
    {
      "cell_type": "markdown",
      "source": [
        "## Question 7"
      ],
      "metadata": {
        "id": "YWzB5IVmu_pe"
      }
    },
    {
      "cell_type": "code",
      "source": [
        "class ListNode:\n",
        "    def __init__(self, val=0, next=None):\n",
        "        self.val = val\n",
        "        self.next = next\n",
        "\n",
        "\n",
        "def nextLargerNodes(head):\n",
        "    stack = []\n",
        "    result = []\n",
        "    current = head\n",
        "    index = 0\n",
        "\n",
        "    while current:\n",
        "        result.append(0)\n",
        "\n",
        "        while stack and current.val > stack[-1][1]:\n",
        "            stack_index, stack_value = stack.pop()\n",
        "            result[stack_index] = current.val\n",
        "\n",
        "        stack.append((index, current.val))\n",
        "        current = current.next\n",
        "        index += 1\n",
        "\n",
        "    return result\n",
        "\n",
        "\n",
        "# Create the linked list [2, 1, 5]\n",
        "head = ListNode(2)\n",
        "head.next = ListNode(1)\n",
        "head.next.next = ListNode(5)\n",
        "\n",
        "# Find the next greater nodes\n",
        "next_greater_nodes = nextLargerNodes(head)\n",
        "\n",
        "# Print the result\n",
        "print(next_greater_nodes)\n",
        "\n"
      ],
      "metadata": {
        "colab": {
          "base_uri": "https://localhost:8080/"
        },
        "id": "WQx0uOkkuvof",
        "outputId": "bb7c82d8-5c52-4195-ec48-ffb0cbbc1454"
      },
      "execution_count": 15,
      "outputs": [
        {
          "output_type": "stream",
          "name": "stdout",
          "text": [
            "[5, 5, 0]\n"
          ]
        }
      ]
    },
    {
      "cell_type": "markdown",
      "source": [
        "## Question 8"
      ],
      "metadata": {
        "id": "sDSBKRW9vBDw"
      }
    },
    {
      "cell_type": "code",
      "source": [
        "class ListNode:\n",
        "    def __init__(self, val=0, next=None):\n",
        "        self.val = val\n",
        "        self.next = next\n",
        "\n",
        "\n",
        "def removeZeroSumSublists(head):\n",
        "        fake = ListNode(0, head)\n",
        "\n",
        "        d = {0: fake}\n",
        "\n",
        "        prefix_sum = 0\n",
        "        while head:\n",
        "            prefix_sum += head.val\n",
        "            d[prefix_sum] = head\n",
        "            head = head.next\n",
        "\n",
        "        head = fake\n",
        "        prefix_sum = 0\n",
        "        while head:\n",
        "            prefix_sum += head.val\n",
        "            head.next = d[prefix_sum].next\n",
        "            head = head.next\n",
        "\n",
        "        return fake.next\n",
        "\n",
        "\n",
        "# Example 1\n",
        "# Create the linked list [1, 2, -3, 3, 1]\n",
        "print(\"Example 1- output\")\n",
        "head = ListNode(1)\n",
        "head.next = ListNode(2)\n",
        "head.next.next = ListNode(-3)\n",
        "head.next.next.next = ListNode(3)\n",
        "head.next.next.next.next = ListNode(1)\n",
        "\n",
        "# Remove zero-sum sublists\n",
        "new_head = removeZeroSumSublists(head)\n",
        "\n",
        "# Print the final linked list\n",
        "while new_head:\n",
        "    print(new_head.val, end=\" \")\n",
        "    new_head = new_head.next\n",
        "\n",
        "# Output: 3 1\n",
        "\n",
        "\n",
        "# Example 2\n",
        "# Create the linked list [1, 2, 3, -3, 4]\n",
        "print(\"\\n\")\n",
        "print(\"Example 2- output\")\n",
        "head = ListNode(1)\n",
        "head.next = ListNode(2)\n",
        "head.next.next = ListNode(3)\n",
        "head.next.next.next = ListNode(-3)\n",
        "head.next.next.next.next = ListNode(4)\n",
        "\n",
        "# Remove zero-sum sublists\n",
        "new_head = removeZeroSumSublists(head)\n",
        "\n",
        "# Print the final linked list\n",
        "while new_head:\n",
        "    print(new_head.val, end=\" \")\n",
        "    new_head = new_head.next\n",
        "\n",
        "# Output: 1 2 4\n"
      ],
      "metadata": {
        "colab": {
          "base_uri": "https://localhost:8080/"
        },
        "id": "M6gYjQAYuvuu",
        "outputId": "0fe34520-a06f-4e80-8f78-4ec0ca7ffb9a"
      },
      "execution_count": 22,
      "outputs": [
        {
          "output_type": "stream",
          "name": "stdout",
          "text": [
            "Example 1- output\n",
            "3 1 \n",
            "\n",
            "Example 2- output\n",
            "1 2 4 "
          ]
        }
      ]
    }
  ]
}