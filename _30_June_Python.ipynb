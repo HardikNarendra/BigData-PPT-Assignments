{
  "nbformat": 4,
  "nbformat_minor": 0,
  "metadata": {
    "colab": {
      "provenance": []
    },
    "kernelspec": {
      "name": "python3",
      "display_name": "Python 3"
    },
    "language_info": {
      "name": "python"
    }
  },
  "cells": [
    {
      "cell_type": "markdown",
      "source": [
        "# 1) Check if a given string is an anagram."
      ],
      "metadata": {
        "id": "jUJREIm2aVrx"
      }
    },
    {
      "cell_type": "code",
      "source": [
        "#function to check anagram of strings\n",
        "def check_anagram(string1,string2):\n",
        "\n",
        "  if (sorted(string1) == sorted(string2)):\n",
        "    print(\"Strings are anagram of each other\")\n",
        "\n",
        "  else:\n",
        "    print(\"Strings are not anagram\")\n",
        "\n",
        "#Driver code\n",
        "string1 = input(\"Enter string1:\")\n",
        "string2 = input(\"Enter string2:\")\n",
        "check_anagram(string1,string2)"
      ],
      "metadata": {
        "id": "-mlo7cn7bB-P",
        "colab": {
          "base_uri": "https://localhost:8080/"
        },
        "outputId": "123bf7e3-cc22-4a18-8e0a-33371063b1c7"
      },
      "execution_count": 3,
      "outputs": [
        {
          "output_type": "stream",
          "name": "stdout",
          "text": [
            "Enter string1:hardik\n",
            "Enter string2:arhkid\n",
            "Strings are anagram of each other\n"
          ]
        }
      ]
    },
    {
      "cell_type": "markdown",
      "source": [
        "#2) Find the maximum and minimum values in a dictionary."
      ],
      "metadata": {
        "id": "dZ-kD9ciHo9T"
      }
    },
    {
      "cell_type": "code",
      "source": [
        "dict1={'x':10 , 'y':45 , 'z':100 ,'w': 1, 'p':84}\n",
        "\n",
        "#initialising max and min to the first element\n",
        "max = dict1['x']\n",
        "min = dict1['x']\n",
        "\n",
        "# for loop for finding max and min\n",
        "for i in dict1.keys():\n",
        "\n",
        "      if dict1[i] <= min:\n",
        "        min = dict1[i]\n",
        "\n",
        "      elif dict1[i] > max:\n",
        "        max = dict1[i]\n",
        "print(\"Maximum:\",max)\n",
        "print(\"Minimum:\",min)"
      ],
      "metadata": {
        "colab": {
          "base_uri": "https://localhost:8080/"
        },
        "id": "irrXQSeIHsOg",
        "outputId": "b8f6fdfa-c22b-4f79-cc9d-9580e5f125b1"
      },
      "execution_count": 34,
      "outputs": [
        {
          "output_type": "stream",
          "name": "stdout",
          "text": [
            "Maximum: 100\n",
            "Minimum: 1\n"
          ]
        }
      ]
    },
    {
      "cell_type": "markdown",
      "source": [
        "# 3)  Find the average of a list of numbers.\n"
      ],
      "metadata": {
        "id": "T0OmQmkRYbaj"
      }
    },
    {
      "cell_type": "code",
      "source": [
        "list1 = [1,5,4,2,8,9]\n",
        "print(\"Average of the list of numbers is:\", sum(list1) / len(list1))"
      ],
      "metadata": {
        "colab": {
          "base_uri": "https://localhost:8080/"
        },
        "id": "REKrtJgSYgOF",
        "outputId": "91b8a69c-037c-4df1-c3d2-71ee4bfde6c7"
      },
      "execution_count": 5,
      "outputs": [
        {
          "output_type": "stream",
          "name": "stdout",
          "text": [
            "Average of the list of numbers is: 4.833333333333333\n"
          ]
        }
      ]
    },
    {
      "cell_type": "markdown",
      "source": [
        "# 4) Remove all vowels from a string."
      ],
      "metadata": {
        "id": "ZrAzqsEpYik0"
      }
    },
    {
      "cell_type": "code",
      "source": [
        "#function to find vowels\n",
        "def find_vowel(string,vowels):\n",
        "\n",
        "  # creating a empty list for append a non-vowel\n",
        "  string1=\"\"\n",
        "\n",
        "  for char in string:\n",
        "    if char not in vowels:\n",
        "      string1 = string1 + char\n",
        "\n",
        "  return string1\n",
        "\n",
        "#driver code\n",
        "vowels = ['a','e','i','o','u']\n",
        "print(\"String after removing vowel is:\",find_vowel('abcd',vowels))"
      ],
      "metadata": {
        "colab": {
          "base_uri": "https://localhost:8080/"
        },
        "id": "71nIjGf2Yq-u",
        "outputId": "02800001-9104-4ad2-a915-0ecaf58daa65"
      },
      "execution_count": 10,
      "outputs": [
        {
          "output_type": "stream",
          "name": "stdout",
          "text": [
            "String after removing vowel is: bcd\n"
          ]
        }
      ]
    },
    {
      "cell_type": "markdown",
      "source": [
        "# 5) Function to calculate the factorial of a number using recursion.\n"
      ],
      "metadata": {
        "id": "K8RWY-VCYrqd"
      }
    },
    {
      "cell_type": "code",
      "source": [
        "#function to calculate factorial\n",
        "def fact(n):\n",
        "  if n <= 1:\n",
        "    return 1\n",
        "  else:\n",
        "    return n * fact(n-1)\n",
        "\n",
        "#driver code\n",
        "n=int(input(\"Enter the number:\"))\n",
        "print(\"Factorial of the number is:\",fact(n))"
      ],
      "metadata": {
        "colab": {
          "base_uri": "https://localhost:8080/"
        },
        "id": "MTKidD23YxAu",
        "outputId": "a5a157fd-0210-48b3-cfc9-1107cbefaa0e"
      },
      "execution_count": 13,
      "outputs": [
        {
          "output_type": "stream",
          "name": "stdout",
          "text": [
            "Enter the number:5\n",
            "Factorial of the number is: 120\n"
          ]
        }
      ]
    },
    {
      "cell_type": "markdown",
      "source": [
        "# 6) Merge two unsorted lists into a single sorted list using the merge sort algorithm."
      ],
      "metadata": {
        "id": "7SP5G5SiYxgd"
      }
    },
    {
      "cell_type": "code",
      "source": [
        "# Python program for implementation of MergeSort\n",
        "\n",
        "\n",
        "def mergeSort(arr):\n",
        "\tif len(arr) > 1:\n",
        "\n",
        "\t\t# Finding the mid of the array\n",
        "\t\tmid = len(arr)//2\n",
        "\n",
        "\t\t# Dividing the array elements\n",
        "\t\tL = arr[:mid]\n",
        "\n",
        "\t\t# Into 2 halves\n",
        "\t\tR = arr[mid:]\n",
        "\n",
        "\t\t# Sorting the first half\n",
        "\t\tmergeSort(L)\n",
        "\n",
        "\t\t# Sorting the second half\n",
        "\t\tmergeSort(R)\n",
        "\n",
        "\t\ti = j = k = 0\n",
        "\n",
        "\t\t# Copy data to temp arrays L[] and R[]\n",
        "\t\twhile i < len(L) and j < len(R):\n",
        "\t\t\tif L[i] <= R[j]:\n",
        "\t\t\t\tarr[k] = L[i]\n",
        "\t\t\t\ti += 1\n",
        "\t\t\telse:\n",
        "\t\t\t\tarr[k] = R[j]\n",
        "\t\t\t\tj += 1\n",
        "\t\t\tk += 1\n",
        "\n",
        "\t\t# Checking if any element was left\n",
        "\t\twhile i < len(L):\n",
        "\t\t\tarr[k] = L[i]\n",
        "\t\t\ti += 1\n",
        "\t\t\tk += 1\n",
        "\n",
        "\t\twhile j < len(R):\n",
        "\t\t\tarr[k] = R[j]\n",
        "\t\t\tj += 1\n",
        "\t\t\tk += 1\n",
        "\n",
        "\n",
        "# Code to print the list\n",
        "def printList(arr):\n",
        "\tfor i in range(len(arr)):\n",
        "\t\tprint(arr[i], end=\" \")\n",
        "\tprint()\n",
        "\n",
        "\n",
        "# Driver Code\n",
        "if __name__ == '__main__':\n",
        "  list1 = [1,2,5,4,9]\n",
        "  list2 = [12,11,8,10,6]\n",
        "  list3 = list1 + list2\n",
        "  mergeSort(list3)\n",
        "  print(\"List after sorting and merging is\")\n",
        "  printList(list3)"
      ],
      "metadata": {
        "colab": {
          "base_uri": "https://localhost:8080/"
        },
        "id": "PI6-jX5oY6qo",
        "outputId": "3e35fdec-2245-4c06-f242-c69dc9e371cd"
      },
      "execution_count": 19,
      "outputs": [
        {
          "output_type": "stream",
          "name": "stdout",
          "text": [
            "List after sorting and merging is\n",
            "1 2 4 5 6 8 9 10 11 12 \n"
          ]
        }
      ]
    },
    {
      "cell_type": "markdown",
      "source": [
        "# 7)  Find the GCD (Greatest Common Divisor) of two numbers.\n"
      ],
      "metadata": {
        "id": "hWjZgV8XY7bV"
      }
    },
    {
      "cell_type": "code",
      "source": [
        "# function to find GCD of two numbers\n",
        "def GCD(n1,n2):\n",
        "\tif(n2 == 0):\n",
        "\t\treturn n1\n",
        "\telse:\n",
        "\t\treturn GCD(n2, n1 % n2)\n",
        "\n",
        "# Driver code\n",
        "a = 100\n",
        "b = 45\n",
        "print(\"The gcd of 100 and 45 is : \", end=\"\")\n",
        "print(GCD(a, b))\n"
      ],
      "metadata": {
        "colab": {
          "base_uri": "https://localhost:8080/"
        },
        "id": "YYXC_jn7Y_8W",
        "outputId": "b878d6ad-1fa1-4c8e-8efa-9de61fc8f918"
      },
      "execution_count": 28,
      "outputs": [
        {
          "output_type": "stream",
          "name": "stdout",
          "text": [
            "The gcd of 100 and 45 is : 5\n"
          ]
        }
      ]
    },
    {
      "cell_type": "markdown",
      "source": [
        "# 8) Find the second-largest element in a list"
      ],
      "metadata": {
        "id": "NuA76if3ZEJn"
      }
    },
    {
      "cell_type": "code",
      "source": [
        "#function to find second largest element\n",
        "def sec_largest(list1):\n",
        "\n",
        "  set1=set(list1)\n",
        "  list1=list(set1)\n",
        "  list1.sort()\n",
        "\n",
        "  return list1[-2]\n",
        "\n",
        "#driver code\n",
        "list1=[10,54,100,21,47,85,31,1,100,165,85,23,14,54]\n",
        "print(\"Second largest element is:\",sec_largest(list1))"
      ],
      "metadata": {
        "colab": {
          "base_uri": "https://localhost:8080/"
        },
        "id": "k8VF6Jd1ZI4v",
        "outputId": "4f423166-ebb7-4929-b041-8574eba916d7"
      },
      "execution_count": 27,
      "outputs": [
        {
          "output_type": "stream",
          "name": "stdout",
          "text": [
            "Second largest element is: 100\n"
          ]
        }
      ]
    },
    {
      "cell_type": "markdown",
      "source": [
        "# 9) Find the longest common subsequence between two strings using dynamic programming."
      ],
      "metadata": {
        "id": "ob8zyOqOZJXt"
      }
    },
    {
      "cell_type": "code",
      "source": [
        "def lcs(s1, s2):\n",
        "    matrix = [[\"\" for x in range(len(s2))] for x in range(len(s1))]\n",
        "    for i in range(len(s1)):\n",
        "        for j in range(len(s2)):\n",
        "            if s1[i] == s2[j]:\n",
        "                if i == 0 or j == 0:\n",
        "                    matrix[i][j] = s1[i]\n",
        "                else:\n",
        "                    matrix[i][j] = matrix[i-1][j-1] + s1[i]\n",
        "            else:\n",
        "                matrix[i][j] = max(matrix[i-1][j], matrix[i][j-1], key=len)\n",
        "\n",
        "    cs = matrix[-1][-1]\n",
        "\n",
        "    return len(cs), cs\n",
        "\n",
        "print(lcs(\"abcdaf\", \"acbcf\"))\n"
      ],
      "metadata": {
        "colab": {
          "base_uri": "https://localhost:8080/"
        },
        "id": "30ewEg_pZVAh",
        "outputId": "832602aa-f543-4ed4-ec57-db2d5b8bb62a"
      },
      "execution_count": 1,
      "outputs": [
        {
          "output_type": "stream",
          "name": "stdout",
          "text": [
            "(4, 'abcf')\n"
          ]
        }
      ]
    }
  ]
}