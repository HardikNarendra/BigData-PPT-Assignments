{
  "nbformat": 4,
  "nbformat_minor": 0,
  "metadata": {
    "colab": {
      "provenance": []
    },
    "kernelspec": {
      "name": "python3",
      "display_name": "Python 3"
    },
    "language_info": {
      "name": "python"
    }
  },
  "cells": [
    {
      "cell_type": "markdown",
      "source": [
        "# Assignment11\n"
      ],
      "metadata": {
        "id": "z2fPHWtI-ffu"
      }
    },
    {
      "cell_type": "code",
      "execution_count": 7,
      "metadata": {
        "id": "0ghCYIRZ5ygm",
        "colab": {
          "base_uri": "https://localhost:8080/"
        },
        "outputId": "4bb8928f-1a89-4663-a64d-1704e46b3846"
      },
      "outputs": [
        {
          "output_type": "stream",
          "name": "stdout",
          "text": [
            "2\n"
          ]
        }
      ],
      "source": [
        "# question-1\n",
        "class Solution(object):\n",
        "    def mySqrt(self, x):\n",
        "        # For special cases when x is 0 or 1, return x.\n",
        "        if x == 0 or x == 1:\n",
        "            return x\n",
        "\n",
        "        # Initialize the search range for the square root.\n",
        "        start = 1\n",
        "        end = x\n",
        "        mid = -1\n",
        "\n",
        "        # Perform binary search to find the square root of x.\n",
        "        while start <= end:\n",
        "            # Calculate the middle point using \"start + (end - start) / 2\" to avoid integer overflow.\n",
        "            mid = start + (end - start) / 2\n",
        "\n",
        "            # If the square of the middle value is greater than x, move the \"end\" to the left (mid - 1).\n",
        "            if mid * mid > x:\n",
        "                end = mid - 1\n",
        "            elif mid * mid == x:\n",
        "                # If the square of the middle value is equal to x, we found the square root.\n",
        "                return mid\n",
        "            else:\n",
        "                # If the square of the middle value is less than x, move the \"start\" to the right (mid + 1).\n",
        "                start = mid + 1\n",
        "\n",
        "        # The loop ends when \"start\" becomes greater than \"end\", and \"end\" is the integer value of the square root.\n",
        "        # However, since we might have been using integer division in the calculations,\n",
        "        # we round down the value of \"end\" to the nearest integer to get the correct square root.\n",
        "        return int(round(end))\n",
        "\n",
        "a =  Solution()\n",
        "x = 4\n",
        "print(a.mySqrt(x))"
      ]
    },
    {
      "cell_type": "code",
      "source": [
        "# question-2\n",
        "def findPeakElement(nums):\n",
        "    s,e,n = 0,len(nums)-1 ,len(nums);\n",
        "    # test case of array of len 1 and 2\n",
        "    if n==1:return 0 ;\n",
        "    if n==2:\n",
        "        if nums[1]>nums[0]:return 1;\n",
        "        if nums[0]>nums[1]:return 0;\n",
        "    while s<=e:\n",
        "        m = int(s+(e-s)/2);\n",
        "        if m>0 and m<n-1:\n",
        "            if(nums[m]>nums[m-1] and nums[m]>nums[m+1]): return m;\n",
        "            elif nums[m]<nums[m-1]:e=m-1;\n",
        "            elif nums[m]<nums[m+1]:s=m+1;\n",
        "        elif m==0:\n",
        "            if nums[m]>nums[m+1]:return 0;\n",
        "            else : s=m+1;\n",
        "        elif m==n-1:\n",
        "            if nums[m]>nums[m-1]:return n-1;\n",
        "            else :e=m-1;\n",
        "    return -1;\n",
        "nums = [1,2,3,1]\n",
        "print(findPeakElement(nums))"
      ],
      "metadata": {
        "colab": {
          "base_uri": "https://localhost:8080/"
        },
        "id": "cVzY74mk-o4S",
        "outputId": "b087ba62-e164-4f1a-f5db-18d2c604fb8b"
      },
      "execution_count": 11,
      "outputs": [
        {
          "output_type": "stream",
          "name": "stdout",
          "text": [
            "2\n"
          ]
        }
      ]
    },
    {
      "cell_type": "code",
      "source": [
        "# question-3\n",
        "class Solution:\n",
        "    def missingNumber(self, nums):\n",
        "        nums.sort()\n",
        "        s = 0\n",
        "        e = len(nums) - 1\n",
        "        while s <= e:\n",
        "            mid = s + (e - s) // 2\n",
        "            if nums[mid] == mid:\n",
        "                s = mid + 1\n",
        "            else:\n",
        "                e = mid - 1\n",
        "        return s\n",
        "s = Solution()\n",
        "nums = [3,0,1]\n",
        "print(s.missingNumber(nums))"
      ],
      "metadata": {
        "colab": {
          "base_uri": "https://localhost:8080/"
        },
        "id": "ZISISqDh-o_X",
        "outputId": "8d0ff448-1d86-4721-df4e-796a360e3e33"
      },
      "execution_count": 12,
      "outputs": [
        {
          "output_type": "stream",
          "name": "stdout",
          "text": [
            "2\n"
          ]
        }
      ]
    },
    {
      "cell_type": "code",
      "source": [
        "# question-4\n",
        "class Solution:\n",
        "    def findDuplicate(self, nums):\n",
        "        n = len(nums)\n",
        "        # result is in range[1, n-1]\n",
        "        left, right = 1, n - 1\n",
        "        # binary search\n",
        "        while left < right:\n",
        "            mid = (left + right) // 2\n",
        "            # count the number which are less than or equal to mid\n",
        "            cnt = 0\n",
        "            for i in range(n):\n",
        "                if nums[i] <= mid:\n",
        "                    cnt += 1\n",
        "\n",
        "            if cnt > mid:\n",
        "                right = mid\n",
        "            else:\n",
        "                left = mid + 1\n",
        "        return right\n",
        "s = Solution()\n",
        "nums = [1,3,4,2,2]\n",
        "print(s.findDuplicate(nums))"
      ],
      "metadata": {
        "colab": {
          "base_uri": "https://localhost:8080/"
        },
        "id": "MhaTyoIm-pGe",
        "outputId": "39ac1f61-9274-4e03-ee59-61cae3abd2b7"
      },
      "execution_count": 14,
      "outputs": [
        {
          "output_type": "stream",
          "name": "stdout",
          "text": [
            "2\n"
          ]
        }
      ]
    },
    {
      "cell_type": "code",
      "source": [
        "# question-5\n",
        "class Solution:\n",
        "    def intersection(self, nums1, nums2):\n",
        "        nums1.sort()\n",
        "        nums2.sort()\n",
        "        if nums1[0] == nums2[-1]:\n",
        "            return [nums1[0]]\n",
        "        if nums1[-1] == nums2[0]:\n",
        "            return [nums2[0]]\n",
        "        ar = []\n",
        "        prev = -1\n",
        "        for i in range(len(nums1)):\n",
        "            comm = self.getCommon(nums2, nums1[i])\n",
        "            if comm > prev:\n",
        "                ar.append(comm)\n",
        "                prev = comm\n",
        "        ans = [0] * len(ar)\n",
        "        for i in range(len(ans)):\n",
        "            ans[i] = ar[i]\n",
        "        return ans\n",
        "\n",
        "    def getCommon(self, arr, val):\n",
        "        i = 0\n",
        "        j = len(arr) - 1\n",
        "        while i <= j:\n",
        "            mid = i + ((j - i) // 2)\n",
        "            if arr[mid] == val:\n",
        "                return val\n",
        "            elif arr[mid] < val:\n",
        "                i = mid + 1\n",
        "            else:\n",
        "                j = mid - 1\n",
        "        return -1\n",
        "nums1 = [1,2,2,1]\n",
        "nums2 = [2,2]\n",
        "s = Solution()\n",
        "print(s.intersection(nums1,nums2))"
      ],
      "metadata": {
        "colab": {
          "base_uri": "https://localhost:8080/"
        },
        "id": "9ZSCrS_w-pNF",
        "outputId": "68ca2b64-5c20-44fa-d5c7-518bdad3a465"
      },
      "execution_count": 15,
      "outputs": [
        {
          "output_type": "stream",
          "name": "stdout",
          "text": [
            "[2]\n"
          ]
        }
      ]
    },
    {
      "cell_type": "code",
      "source": [
        "# question-6\n",
        "class Solution:\n",
        "    def findMin(self, nums):\n",
        "        left, right = 0, len(nums) - 1\n",
        "        while left < right:\n",
        "            mid = left + (right - left) // 2\n",
        "            if nums[mid] > nums[right]:\n",
        "                left = mid + 1\n",
        "            else:\n",
        "                right = mid\n",
        "        return nums[left]\n",
        "s = Solution()\n",
        "nums = [3,4,5,1,2]\n",
        "print(s.findMin(nums))"
      ],
      "metadata": {
        "colab": {
          "base_uri": "https://localhost:8080/"
        },
        "id": "x6sn7zWv-pTR",
        "outputId": "932212e4-3135-48ea-d193-4a1d9459cf2c"
      },
      "execution_count": 17,
      "outputs": [
        {
          "output_type": "stream",
          "name": "stdout",
          "text": [
            "1\n"
          ]
        }
      ]
    },
    {
      "cell_type": "code",
      "source": [
        "# question-7\n",
        "class Solution:\n",
        "    def searchRange(self, nums, target):\n",
        "        start = -1\n",
        "        end = -1\n",
        "        l, r = 0, len(nums) - 1\n",
        "\n",
        "        while (l <= r):\n",
        "            mid = l + (r - l) // 2\n",
        "            if (nums[mid] < target):\n",
        "                l = mid + 1\n",
        "            elif (nums[mid] > target):\n",
        "                r = mid - 1\n",
        "            else:\n",
        "                r1 = mid + 1\n",
        "                l1 = mid - 1\n",
        "                if (l1 >= l and r1 <= r and nums[r1] == target and nums[l1] != target):\n",
        "                    start = l\n",
        "                    l = mid\n",
        "                elif (l1 >= l and r1 <= r and  nums[l1] == target and nums[r1] != target):\n",
        "                    end = r\n",
        "                    r = mid\n",
        "                else:\n",
        "                    if (nums[l] == nums[r] == target):\n",
        "                        return [l, r]\n",
        "                    elif (nums[l] != target):\n",
        "                        l += 1\n",
        "                    elif (nums[r] != target):\n",
        "                        r -= 1\n",
        "        return [start, end]\n",
        "\n",
        "y = Solution()\n",
        "nums = [5,7,7,8,8,10]\n",
        "target = 8\n",
        "print(y.searchRange(nums,target))"
      ],
      "metadata": {
        "colab": {
          "base_uri": "https://localhost:8080/"
        },
        "id": "1np8pj8e-pZQ",
        "outputId": "2f1e4f7d-f26f-45ef-b121-2c50c31a4e2d"
      },
      "execution_count": 18,
      "outputs": [
        {
          "output_type": "stream",
          "name": "stdout",
          "text": [
            "[3, 4]\n"
          ]
        }
      ]
    },
    {
      "cell_type": "code",
      "source": [
        "# question-8\n",
        "class Solution:\n",
        "    def intersect(self, nums1, nums2):\n",
        "        res = []\n",
        "        for e in nums1:\n",
        "            ans, pos = self.search(e, nums2)\n",
        "            if ans:\n",
        "                del nums2[pos]#will make BS more quick\n",
        "                res.append(e)\n",
        "        return res\n",
        "\n",
        "    def search(self, value, a):\n",
        "        a.sort()\n",
        "        l , r = 0 , len(a)-1\n",
        "        while l<=r:\n",
        "            m = l+(r-l)//2\n",
        "            if a[m]==value:\n",
        "                return True, m\n",
        "            elif a[m]<value:\n",
        "                l=m+1\n",
        "            else:\n",
        "                r=m-1\n",
        "        return None, -1\n",
        "j = Solution()\n",
        "nums1 = [1,2,2,1]\n",
        "nums2 = [2,2]\n",
        "print(j.intersect(nums1,nums2))"
      ],
      "metadata": {
        "colab": {
          "base_uri": "https://localhost:8080/"
        },
        "id": "ua3yqaVT-pea",
        "outputId": "61b28a0c-5484-4656-adc7-77f3ce1ef6dc"
      },
      "execution_count": 19,
      "outputs": [
        {
          "output_type": "stream",
          "name": "stdout",
          "text": [
            "[2, 2]\n"
          ]
        }
      ]
    }
  ]
}