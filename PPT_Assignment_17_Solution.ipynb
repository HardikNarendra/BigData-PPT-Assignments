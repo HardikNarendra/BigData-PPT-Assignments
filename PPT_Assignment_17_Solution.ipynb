{
  "nbformat": 4,
  "nbformat_minor": 0,
  "metadata": {
    "colab": {
      "provenance": []
    },
    "kernelspec": {
      "name": "python3",
      "display_name": "Python 3"
    },
    "language_info": {
      "name": "python"
    }
  },
  "cells": [
    {
      "cell_type": "markdown",
      "source": [
        "# Assignment 17"
      ],
      "metadata": {
        "id": "PJ-RFEcxKJ7o"
      }
    },
    {
      "cell_type": "markdown",
      "source": [
        "## Question-1"
      ],
      "metadata": {
        "id": "uvU4UdiJKTkK"
      }
    },
    {
      "cell_type": "code",
      "execution_count": 1,
      "metadata": {
        "id": "eQT2VYSV6K4r",
        "colab": {
          "base_uri": "https://localhost:8080/"
        },
        "outputId": "8978820a-1a0d-41df-d853-f5794b274a1b"
      },
      "outputs": [
        {
          "output_type": "stream",
          "name": "stdout",
          "text": [
            "0\n"
          ]
        }
      ],
      "source": [
        "def firstUniqChar(s):\n",
        "    char_count = {}\n",
        "\n",
        "    # Count the frequency of each character\n",
        "    for char in s:\n",
        "        if char in char_count:\n",
        "            char_count[char] += 1\n",
        "        else:\n",
        "            char_count[char] = 1\n",
        "\n",
        "    # Find the first non-repeating character\n",
        "    for i, char in enumerate(s):\n",
        "        if char_count[char] == 1:\n",
        "            return i\n",
        "\n",
        "    return -1\n",
        "\n",
        "s = \"leetcode\"\n",
        "output = firstUniqChar(s)\n",
        "print(output)\n"
      ]
    },
    {
      "cell_type": "markdown",
      "source": [
        "## Question-2"
      ],
      "metadata": {
        "id": "PEt7N6UhKXQP"
      }
    },
    {
      "cell_type": "code",
      "source": [
        "def maxSubarraySumCircular(nums):\n",
        "    max_linear = kadane(nums)\n",
        "    total_sum = sum(nums)\n",
        "    nums_reversed = [-num for num in nums]\n",
        "    min_linear = kadane(nums_reversed)\n",
        "    max_circular = total_sum - min_linear\n",
        "\n",
        "    if max_circular == 0:\n",
        "        return max_linear\n",
        "\n",
        "    return max(max_linear, max_circular)\n",
        "\n",
        "def kadane(nums):\n",
        "    max_sum = float('-inf')\n",
        "    current_sum = 0\n",
        "\n",
        "    for num in nums:\n",
        "        current_sum = max(num, current_sum + num)\n",
        "        max_sum = max(max_sum, current_sum)\n",
        "\n",
        "    return max_sum\n",
        "nums = [1, -2, 3, -2]\n",
        "output = maxSubarraySumCircular(nums)\n",
        "print(output)\n"
      ],
      "metadata": {
        "colab": {
          "base_uri": "https://localhost:8080/"
        },
        "id": "bJgMuow-KXdH",
        "outputId": "1aefd884-b638-421b-a7f0-715898ff5968"
      },
      "execution_count": 2,
      "outputs": [
        {
          "output_type": "stream",
          "name": "stdout",
          "text": [
            "3\n"
          ]
        }
      ]
    },
    {
      "cell_type": "markdown",
      "source": [
        "## Question-3"
      ],
      "metadata": {
        "id": "I_34PX5hKXlJ"
      }
    },
    {
      "cell_type": "code",
      "source": [
        "from collections import deque\n",
        "\n",
        "def countStudents(students, sandwiches):\n",
        "    unable_to_eat = 0\n",
        "    queue = deque(students)\n",
        "    stack = sandwiches[::-1]\n",
        "\n",
        "    while queue and stack:\n",
        "        if queue[0] == stack[-1]:\n",
        "            queue.popleft()\n",
        "            stack.pop()\n",
        "            unable_to_eat = 0\n",
        "        else:\n",
        "            queue.append(queue.popleft())\n",
        "            unable_to_eat += 1\n",
        "\n",
        "        if unable_to_eat == len(queue):\n",
        "            break\n",
        "\n",
        "    return len(queue)\n",
        "\n",
        "students = [1, 1, 0, 0]\n",
        "sandwiches = [0, 1, 0, 1]\n",
        "output = countStudents(students, sandwiches)\n",
        "print(output)\n"
      ],
      "metadata": {
        "colab": {
          "base_uri": "https://localhost:8080/"
        },
        "id": "aG4egPjpKXrs",
        "outputId": "e0f8c8b4-0a70-434c-8729-38eee49db575"
      },
      "execution_count": 3,
      "outputs": [
        {
          "output_type": "stream",
          "name": "stdout",
          "text": [
            "0\n"
          ]
        }
      ]
    },
    {
      "cell_type": "markdown",
      "source": [
        "## Question-4"
      ],
      "metadata": {
        "id": "Z2Rxp7kLKXyw"
      }
    },
    {
      "cell_type": "code",
      "source": [
        "class RecentCounter:\n",
        "    def __init__(self):\n",
        "        self.requests = []\n",
        "\n",
        "    def ping(self, t: int) -> int:\n",
        "        self.requests.append(t)\n",
        "        start_time = t - 3000\n",
        "        count = 0\n",
        "\n",
        "        for request_time in self.requests:\n",
        "            if request_time >= start_time:\n",
        "                count += 1\n",
        "\n",
        "        return count\n",
        "recentCounter = RecentCounter()\n",
        "output = [None, recentCounter.ping(1), recentCounter.ping(100), recentCounter.ping(3001), recentCounter.ping(3002)]\n",
        "print(output)\n"
      ],
      "metadata": {
        "colab": {
          "base_uri": "https://localhost:8080/"
        },
        "id": "Jqj3LuEjKX5V",
        "outputId": "5e082f43-a1a6-446d-a0ec-d144263fc0de"
      },
      "execution_count": 4,
      "outputs": [
        {
          "output_type": "stream",
          "name": "stdout",
          "text": [
            "[None, 1, 2, 3, 3]\n"
          ]
        }
      ]
    },
    {
      "cell_type": "markdown",
      "source": [
        "## Question-5"
      ],
      "metadata": {
        "id": "yN-xjhHmKYAR"
      }
    },
    {
      "cell_type": "code",
      "source": [
        "def findTheWinner(n, k):\n",
        "    friends = list(range(1, n + 1))\n",
        "    current = 0\n",
        "\n",
        "    while len(friends) > 1:\n",
        "        current = (current + k - 1) % len(friends)\n",
        "        friends.pop(current)\n",
        "\n",
        "    return friends[0]\n",
        "\n",
        "n = 6\n",
        "k = 5\n",
        "output = findTheWinner(n, k)\n",
        "print(output)\n"
      ],
      "metadata": {
        "colab": {
          "base_uri": "https://localhost:8080/"
        },
        "id": "sRlu8QxdKYGU",
        "outputId": "5dfe6023-ce70-4176-c461-77385541636d"
      },
      "execution_count": 6,
      "outputs": [
        {
          "output_type": "stream",
          "name": "stdout",
          "text": [
            "1\n"
          ]
        }
      ]
    },
    {
      "cell_type": "markdown",
      "source": [
        "## Question-6"
      ],
      "metadata": {
        "id": "53c5qbQ0KYNQ"
      }
    },
    {
      "cell_type": "code",
      "source": [
        "def deckRevealedIncreasing(deck):\n",
        "    deck.sort(reverse=True)\n",
        "    result = []\n",
        "\n",
        "    for card in deck:\n",
        "        if result:\n",
        "            result.insert(0, result.pop())\n",
        "        result.insert(0, card)\n",
        "\n",
        "    return result\n",
        "\n",
        "deck = [17, 13, 11, 2, 3, 5, 7]\n",
        "output = deckRevealedIncreasing(deck)\n",
        "print(output)\n"
      ],
      "metadata": {
        "colab": {
          "base_uri": "https://localhost:8080/"
        },
        "id": "5b7D98WrKYUR",
        "outputId": "83943284-04fe-4d3a-d84d-1f93a5afafa3"
      },
      "execution_count": 8,
      "outputs": [
        {
          "output_type": "stream",
          "name": "stdout",
          "text": [
            "[2, 13, 3, 11, 5, 17, 7]\n"
          ]
        }
      ]
    },
    {
      "cell_type": "markdown",
      "source": [
        "## Question-7"
      ],
      "metadata": {
        "id": "IR2QaTbUKYbV"
      }
    },
    {
      "cell_type": "code",
      "source": [
        "from collections import deque\n",
        "\n",
        "class FrontMiddleBackQueue:\n",
        "    def __init__(self):\n",
        "        self.frontDeque = deque()\n",
        "        self.backDeque = deque()\n",
        "\n",
        "    def pushFront(self, val: int) -> None:\n",
        "        self.frontDeque.appendleft(val)\n",
        "\n",
        "    def pushMiddle(self, val: int) -> None:\n",
        "        if len(self.frontDeque) == len(self.backDeque) or len(self.backDeque) > len(self.frontDeque):\n",
        "            self.frontDeque.append(self.backDeque.popleft())\n",
        "        self.backDeque.appendleft(val)\n",
        "        if len(self.frontDeque) > len(self.backDeque) + 1:\n",
        "            self.backDeque.append(self.frontDeque.pop())\n",
        "\n",
        "    def pushBack(self, val: int) -> None:\n",
        "        self.backDeque.append(val)\n",
        "\n",
        "    def popFront(self) -> int:\n",
        "        if self.frontDeque:\n",
        "            return self.frontDeque.popleft()\n",
        "        elif self.backDeque:\n",
        "            return self.backDeque.popleft()\n",
        "        else:\n",
        "            return -1\n",
        "\n",
        "    def popMiddle(self) -> int:\n",
        "        if len(self.frontDeque) > len(self.backDeque):\n",
        "            return self.frontDeque.pop()\n",
        "        else:\n",
        "            return self.backDeque.popleft() if self.backDeque else -1\n",
        "\n",
        "    def popBack(self) -> int:\n",
        "        if self.backDeque:\n",
        "            return self.backDeque.pop()\n",
        "        elif self.frontDeque:\n",
        "            return self.frontDeque.pop()\n",
        "        else:\n",
        "            return -1\n",
        "\n",
        "\n",
        "q = FrontMiddleBackQueue()\n",
        "output = [\n",
        "    None,\n",
        "    q.pushFront(1),\n",
        "    q.pushBack(2),\n",
        "    q.pushMiddle(3),\n",
        "    q.pushMiddle(4),\n",
        "    q.popFront(),\n",
        "    q.popMiddle(),\n",
        "    q.popMiddle(),\n",
        "    q.popBack(),\n",
        "    q.popFront()\n",
        "]\n",
        "print(output)\n"
      ],
      "metadata": {
        "colab": {
          "base_uri": "https://localhost:8080/"
        },
        "id": "kD_vdFnTKYiJ",
        "outputId": "a6128131-8f4e-4d76-e521-c0af2df7295d"
      },
      "execution_count": 10,
      "outputs": [
        {
          "output_type": "stream",
          "name": "stdout",
          "text": [
            "[None, None, None, None, None, 1, 4, 3, 2, -1]\n"
          ]
        }
      ]
    },
    {
      "cell_type": "markdown",
      "source": [
        "## Question-8"
      ],
      "metadata": {
        "id": "5tWaXyvNKYpF"
      }
    },
    {
      "cell_type": "code",
      "source": [
        "class DataStream:\n",
        "    def __init__(self, value: int, k: int):\n",
        "        self.value = value\n",
        "        self.k = k\n",
        "        self.stream = []\n",
        "\n",
        "    def consec(self, num: int) -> bool:\n",
        "        self.stream.append(num)\n",
        "        if len(self.stream) > self.k:\n",
        "            self.stream = self.stream[-self.k:]\n",
        "        return len(self.stream) == self.k and all(x == self.value for x in self.stream)\n",
        "dataStream = DataStream(4, 3)\n",
        "output = [\n",
        "    None,\n",
        "    dataStream.consec(4),\n",
        "    dataStream.consec(4),\n",
        "    dataStream.consec(4),\n",
        "    dataStream.consec(3)\n",
        "]\n",
        "print(output)\n"
      ],
      "metadata": {
        "colab": {
          "base_uri": "https://localhost:8080/"
        },
        "id": "hW4iPpR7KYvQ",
        "outputId": "fc3ccccc-2a94-4d93-e70f-2e3fa72e22be"
      },
      "execution_count": 14,
      "outputs": [
        {
          "output_type": "stream",
          "name": "stdout",
          "text": [
            "[None, False, False, True, False]\n"
          ]
        }
      ]
    }
  ]
}