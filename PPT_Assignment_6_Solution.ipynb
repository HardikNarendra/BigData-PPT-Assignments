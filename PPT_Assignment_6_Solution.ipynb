{
  "nbformat": 4,
  "nbformat_minor": 0,
  "metadata": {
    "colab": {
      "provenance": []
    },
    "kernelspec": {
      "name": "python3",
      "display_name": "Python 3"
    },
    "language_info": {
      "name": "python"
    }
  },
  "cells": [
    {
      "cell_type": "markdown",
      "source": [
        "\n",
        "## **Question 1**\n",
        "\n",
        "A permutation perm of n + 1 integers of all the integers in the range [0, n] can be represented as a string s of length n where:\n",
        "\n",
        "- s[i] == 'I' if perm[i] < perm[i + 1], and\n",
        "- s[i] == 'D' if perm[i] > perm[i + 1].\n",
        "\n",
        "Given a string s, reconstruct the permutation perm and return it. If there are multiple valid permutations perm, return **any of them**.\n",
        "\n",
        "**Example 1:**\n",
        "\n",
        "**Input:** s = \"IDID\"\n",
        "\n",
        "**Output:**\n",
        "\n",
        "[0,4,1,3,2]\n"
      ],
      "metadata": {
        "id": "D7Q3OWJm3edI"
      }
    },
    {
      "cell_type": "code",
      "source": [
        "class Solution(object):\n",
        "    def diStringMatch(self, s):\n",
        "        perm =[]\n",
        "        big = len(s)\n",
        "        small = 0\n",
        "        for char in s:\n",
        "            if char == 'I':\n",
        "                perm.append(small)\n",
        "                small += 1\n",
        "            else:\n",
        "                perm.append(big)\n",
        "                big -= 1\n",
        "        if s[-1] == 'I':\n",
        "            perm.append(small)\n",
        "        else:\n",
        "            perm.append(big)\n",
        "        return perm\n",
        "x1 = Solution()\n",
        "print(x1.diStringMatch('IDID'))"
      ],
      "metadata": {
        "colab": {
          "base_uri": "https://localhost:8080/"
        },
        "id": "9NJm0b9H3kcC",
        "outputId": "86c6dbe7-5d77-424c-b92c-a7fe4fd417ef"
      },
      "execution_count": 1,
      "outputs": [
        {
          "output_type": "stream",
          "name": "stdout",
          "text": [
            "[0, 4, 1, 3, 2]\n"
          ]
        }
      ]
    },
    {
      "cell_type": "markdown",
      "source": [
        "## **Question 2**\n",
        "\n",
        "You are given an m x n integer matrix matrix with the following two properties:\n",
        "\n",
        "- Each row is sorted in non-decreasing order.\n",
        "- The first integer of each row is greater than the last integer of the previous row.\n",
        "\n",
        "Given an integer target, return true *if* target *is in* matrix *or* false *otherwise*.\n",
        "\n",
        "You must write a solution in O(log(m * n)) time complexity.\n",
        "\n",
        "**Example 1:**\n",
        "**Input:** matrix = [[1,3,5,7],[10,11,16,20],[23,30,34,60]], target = 3\n",
        "\n",
        "**Output:** true"
      ],
      "metadata": {
        "id": "5FJ2HaT07zeW"
      }
    },
    {
      "cell_type": "code",
      "source": [
        "class Solution:\n",
        "    def searchMatrix(self, matrix, target):\n",
        "        l = 0\n",
        "        r = len(matrix)\n",
        "        #finding the correct row of the matrix which may consist the target\n",
        "        for i in range(len(matrix)):\n",
        "            if matrix[i][len(matrix[i])-1] >= target:\n",
        "                break\n",
        "        # using binary search for searching element in that row\n",
        "        l,r = 0 , len(matrix[i])-1\n",
        "        while l <= r:\n",
        "            m = (l+r)//2\n",
        "            if matrix[i][m] > target:\n",
        "                r = m-1\n",
        "            elif matrix[i][m] < target:\n",
        "                l = m+1\n",
        "            else: return True\n",
        "        return False\n",
        "x1 = Solution()\n",
        "matrix = [[1,3,5,7],[10,11,16,20],[23,30,34,60]]\n",
        "target = 3\n",
        "x1.searchMatrix(matrix,target)"
      ],
      "metadata": {
        "colab": {
          "base_uri": "https://localhost:8080/"
        },
        "id": "ds6iJbaD8XHN",
        "outputId": "cf0fc77e-b6fa-4ea1-b1d9-e21f5d48d0f0"
      },
      "execution_count": 2,
      "outputs": [
        {
          "output_type": "execute_result",
          "data": {
            "text/plain": [
              "True"
            ]
          },
          "metadata": {},
          "execution_count": 2
        }
      ]
    },
    {
      "cell_type": "markdown",
      "source": [
        "## **Question 3**\n",
        "\n",
        "Given an array of integers arr, return *true if and only if it is a valid mountain array*.\n",
        "\n",
        "Recall that arr is a mountain array if and only if:\n",
        "\n",
        "- arr.length >= 3\n",
        "- There exists some i with 0 < i < arr.length - 1 such that:\n",
        "    - arr[0] < arr[1] < ... < arr[i - 1] < arr[i]\n",
        "    - arr[i] > arr[i + 1] > ... > arr[arr.length - 1]\n",
        "    \n",
        "**Example 1:**\n",
        "\n",
        "**Input:** arr = [2,1]\n",
        "\n",
        "**Output:**\n",
        "\n",
        "false"
      ],
      "metadata": {
        "id": "OvfMEEea_YE_"
      }
    },
    {
      "cell_type": "code",
      "source": [
        "class Solution(object):\n",
        "    def validMountainArray(self,arr):\n",
        "        if len(arr) < 3: return False\n",
        "        l = 0\n",
        "        r = len(arr) - 1\n",
        "        while l + 1 < len(arr) - 1 and arr[l] < arr[l + 1]:\n",
        "            l += 1\n",
        "        while r - 1 > 0 and arr[r] < arr[r - 1]:\n",
        "            r -= 1\n",
        "        return l == r\n",
        "\n",
        "x1 = Solution()\n",
        "arr = [2,1]\n",
        "x1.validMountainArray(arr)"
      ],
      "metadata": {
        "colab": {
          "base_uri": "https://localhost:8080/"
        },
        "id": "xoMLRs9f_hu5",
        "outputId": "a1720e3f-d1d5-488b-82e9-e8a36ae497b9"
      },
      "execution_count": 3,
      "outputs": [
        {
          "output_type": "execute_result",
          "data": {
            "text/plain": [
              "False"
            ]
          },
          "metadata": {},
          "execution_count": 3
        }
      ]
    },
    {
      "cell_type": "markdown",
      "source": [
        "## **Question 4**\n",
        "\n",
        "Given a binary array nums, return *the maximum length of a contiguous subarray with an equal number of* 0 *and* 1.\n",
        "\n",
        "**Example 1:**\n",
        "\n",
        "**Input:** nums = [0,1]\n",
        "\n",
        "**Output:** 2\n",
        "\n",
        "**Explanation:**\n",
        "\n",
        "[0, 1] is the longest contiguous subarray with an equal number of 0 and 1.\n"
      ],
      "metadata": {
        "id": "emEOpBk0CUC-"
      }
    },
    {
      "cell_type": "code",
      "source": [
        "class Solution:\n",
        "    def findMaxLength(self, nums):\n",
        "        m,c=0,0\n",
        "        d={0:-1}\n",
        "        for i in range(len(nums)):\n",
        "            if nums[i]==0:\n",
        "                c-=1\n",
        "            else:\n",
        "                c+=1\n",
        "            if c in d:\n",
        "                m=max(m,i-d[c])\n",
        "            else:\n",
        "                d[c]=i\n",
        "        return m\n",
        "\n",
        "x1 = Solution()\n",
        "nums = [0,1]\n",
        "print(x1.findMaxLength(nums))"
      ],
      "metadata": {
        "colab": {
          "base_uri": "https://localhost:8080/"
        },
        "id": "YehrZAL-CY0u",
        "outputId": "b22775e8-94f7-4bd9-b967-f7e0c84a772a"
      },
      "execution_count": 4,
      "outputs": [
        {
          "output_type": "stream",
          "name": "stdout",
          "text": [
            "2\n"
          ]
        }
      ]
    },
    {
      "cell_type": "markdown",
      "source": [
        "## **Question 5**\n",
        "\n",
        "The **product sum** of two equal-length arrays a and b is equal to the sum of a[i] * b[i] for all 0 <= i < a.length (**0-indexed**).\n",
        "\n",
        "- For example, if a = [1,2,3,4] and b = [5,2,3,1], the **product sum** would be 1*5 + 2*2 + 3*3 + 4*1 = 22.\n",
        "\n",
        "Given two arrays nums1 and nums2 of length n, return *the **minimum product sum** if you are allowed to **rearrange** the **order** of the elements in* nums1.\n",
        "\n",
        "**Example 1:**\n",
        "\n",
        "**Input:** nums1 = [5,3,4,2], nums2 = [4,2,2,5]\n",
        "\n",
        "**Output:** 40\n",
        "\n",
        "**Explanation:**\n",
        "\n",
        "We can rearrange nums1 to become [3,5,4,2]. The product sum of [3,5,4,2] and [4,2,2,5] is 3*4 + 5*2 + 4*2 + 2*5 = 40.\n",
        "\n"
      ],
      "metadata": {
        "id": "omPGw28vE8q8"
      }
    },
    {
      "cell_type": "code",
      "source": [
        "class Solution:\n",
        "    def minProductSum(self, nums1, nums2):\n",
        "        nums1.sort()\n",
        "        nums2.sort()\n",
        "        n, res = len(nums1), 0\n",
        "        for i in range(n):\n",
        "            res += nums1[i] * nums2[n - i - 1]\n",
        "        return res\n",
        "x1=Solution()\n",
        "nums1 = [5,3,4,2]\n",
        "nums2 = [4,2,2,5]\n",
        "x1.minProductSum(nums1,nums2)"
      ],
      "metadata": {
        "colab": {
          "base_uri": "https://localhost:8080/"
        },
        "id": "Qv6ertYTFDLS",
        "outputId": "959c1a14-4e20-445c-fe94-55e06f8b17b7"
      },
      "execution_count": 5,
      "outputs": [
        {
          "output_type": "execute_result",
          "data": {
            "text/plain": [
              "40"
            ]
          },
          "metadata": {},
          "execution_count": 5
        }
      ]
    },
    {
      "cell_type": "markdown",
      "source": [
        "## **Question 6**\n",
        "\n",
        "An integer array original is transformed into a **doubled** array changed by appending **twice the value** of every element in original, and then randomly **shuffling** the resulting array.\n",
        "\n",
        "Given an array changed, return original *if* changed *is a **doubled** array. If* changed *is not a **doubled** array, return an empty array. The elements in* original *may be returned in **any** order*.\n",
        "\n",
        "**Example 1:**\n",
        "\n",
        "**Input:** changed = [1,3,4,2,6,8]\n",
        "\n",
        "**Output:** [1,3,4]\n",
        "\n",
        "**Explanation:** One possible original array could be [1,3,4]:\n",
        "\n",
        "- Twice the value of 1 is 1 * 2 = 2.\n",
        "- Twice the value of 3 is 3 * 2 = 6.\n",
        "- Twice the value of 4 is 4 * 2 = 8.\n",
        "\n",
        "Other original arrays could be [4,3,1] or [3,1,4].\n",
        "\n"
      ],
      "metadata": {
        "id": "btdsVfilGufu"
      }
    },
    {
      "cell_type": "code",
      "source": [
        "from collections import Counter\n",
        "class Solution:\n",
        "    def findOriginalArray(self, changed):\n",
        "        c = Counter(changed)\n",
        "\n",
        "        zeros, m = divmod(c[0], 2)\n",
        "        if m: return []\n",
        "        ans = [0]*zeros\n",
        "\n",
        "        for n in sorted(c.keys()):\n",
        "            if c[n] > c[2*n]: return []\n",
        "            c[2*n]-= c[n]\n",
        "            ans.extend([n]*c[n])\n",
        "\n",
        "        return ans\n",
        "x1=Solution()\n",
        "changed = [1,3,4,2,6,8]\n",
        "x1.findOriginalArray(changed)"
      ],
      "metadata": {
        "colab": {
          "base_uri": "https://localhost:8080/"
        },
        "id": "xUVCyORkG1D6",
        "outputId": "72034c75-567f-4757-e70a-6d58770ddee1"
      },
      "execution_count": 8,
      "outputs": [
        {
          "output_type": "execute_result",
          "data": {
            "text/plain": [
              "[1, 3, 4]"
            ]
          },
          "metadata": {},
          "execution_count": 8
        }
      ]
    },
    {
      "cell_type": "markdown",
      "source": [
        "##  **Question 7**\n",
        "\n",
        "Given a positive integer n, generate an n x n matrix filled with elements from 1 to n2 in spiral order.\n",
        "\n",
        "**Example 1:**\n",
        "\n",
        "**Input:** n = 3\n",
        "\n",
        "**Output:** [[1,2,3],[8,9,4],[7,6,5]]"
      ],
      "metadata": {
        "id": "rTg3Klu2JcGg"
      }
    },
    {
      "cell_type": "code",
      "source": [
        "class Solution:\n",
        "    def generateMatrix(self, n):\n",
        "        matrix = [[0] * n for _ in range(n)]\n",
        "        up, down, left, right = 0, n-1, 0, n-1\n",
        "\n",
        "        num = 1\n",
        "        while num <= (n * n):\n",
        "            for idx in range(left, right + 1):\n",
        "                matrix[up][idx] = num\n",
        "                num+=1\n",
        "\n",
        "            for idx in range(up + 1, down + 1):\n",
        "                matrix[idx][right] = num\n",
        "                num+=1\n",
        "\n",
        "            # not the same row\n",
        "            if up != down:\n",
        "                for idx in range(right - 1, left - 1, -1):\n",
        "                    matrix[down][idx] = num\n",
        "                    num+=1\n",
        "            #not the same column\n",
        "            if left != right:\n",
        "                for idx in range(down - 1, up, -1):\n",
        "                    matrix[idx][left] = num\n",
        "                    num+=1\n",
        "\n",
        "            left+=1\n",
        "            up+=1\n",
        "            right-=1\n",
        "            down-=1\n",
        "        return matrix\n",
        "x1 = Solution()\n",
        "n=3\n",
        "print(x1.generateMatrix(n))\n"
      ],
      "metadata": {
        "colab": {
          "base_uri": "https://localhost:8080/"
        },
        "id": "Dpr3_TB6JlWy",
        "outputId": "c1b700ad-dd69-4016-fefe-c40daa4636b3"
      },
      "execution_count": 9,
      "outputs": [
        {
          "output_type": "stream",
          "name": "stdout",
          "text": [
            "[[1, 2, 3], [8, 9, 4], [7, 6, 5]]\n"
          ]
        }
      ]
    },
    {
      "cell_type": "markdown",
      "source": [
        "## **Question 8**\n",
        "\n",
        "Given two [sparse matrices](https://en.wikipedia.org/wiki/Sparse_matrix) mat1 of size m x k and mat2 of size k x n, return the result of mat1 x mat2. You may assume that multiplication is always possible.\n",
        "\n",
        "**Example 1:**\n",
        "\n",
        "**Input:** mat1 = [[1,0,0],[-1,0,3]], mat2 = [[7,0,0],[0,0,0],[0,0,1]]\n",
        "\n",
        "**Output:**\n",
        "\n",
        "[[7,0,0],[-7,0,3]]\n"
      ],
      "metadata": {
        "id": "nxWwBE6eLOFO"
      }
    },
    {
      "cell_type": "code",
      "source": [
        "class Solution:\n",
        "    def multiply(self, mat1, mat2):\n",
        "        r1, c1, c2 = len(mat1), len(mat1[0]), len(mat2[0])\n",
        "        res = [[0] * c2 for _ in range(r1)]\n",
        "        for i in range(r1):\n",
        "            for j in range(c2):\n",
        "                for k in range(c1):\n",
        "                    res[i][j] += mat1[i][k] * mat2[k][j]\n",
        "        return res\n",
        "\n",
        "mat1 = [[1,0,0],[-1,0,3]]\n",
        "mat2 = [[7,0,0],[0,0,0],[0,0,1]]\n",
        "x1 = Solution()\n",
        "x1.multiply(mat1,mat2)"
      ],
      "metadata": {
        "colab": {
          "base_uri": "https://localhost:8080/"
        },
        "id": "MDUM3O_rLVnw",
        "outputId": "5106994c-9e50-42d8-e3bd-b75d635a6458"
      },
      "execution_count": 10,
      "outputs": [
        {
          "output_type": "execute_result",
          "data": {
            "text/plain": [
              "[[7, 0, 0], [-7, 0, 3]]"
            ]
          },
          "metadata": {},
          "execution_count": 10
        }
      ]
    },
    {
      "cell_type": "code",
      "source": [],
      "metadata": {
        "id": "VN9jvMyJMQ7k"
      },
      "execution_count": null,
      "outputs": []
    }
  ]
}