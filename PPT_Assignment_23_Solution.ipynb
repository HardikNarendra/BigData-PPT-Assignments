{
  "nbformat": 4,
  "nbformat_minor": 0,
  "metadata": {
    "colab": {
      "provenance": []
    },
    "kernelspec": {
      "name": "python3",
      "display_name": "Python 3"
    },
    "language_info": {
      "name": "python"
    }
  },
  "cells": [
    {
      "cell_type": "markdown",
      "source": [
        "# Assignment 23\n"
      ],
      "metadata": {
        "id": "aQhjgX_BqfoQ"
      }
    },
    {
      "cell_type": "markdown",
      "source": [
        "## Question-1"
      ],
      "metadata": {
        "id": "RdsNdDrFqirZ"
      }
    },
    {
      "cell_type": "code",
      "execution_count": 1,
      "metadata": {
        "id": "inB_ll3a6hF7",
        "colab": {
          "base_uri": "https://localhost:8080/"
        },
        "outputId": "c27898a9-edba-42a7-f3e2-03fecf55f96a"
      },
      "outputs": [
        {
          "output_type": "stream",
          "name": "stdout",
          "text": [
            "Height of tree is 3\n"
          ]
        }
      ],
      "source": [
        "# Python3 program to find the maximum depth of tree\n",
        "\n",
        "# A binary tree node\n",
        "\n",
        "\n",
        "class Node:\n",
        "\n",
        "\t# Constructor to create a new node\n",
        "\tdef __init__(self, data):\n",
        "\t\tself.data = data\n",
        "\t\tself.left = None\n",
        "\t\tself.right = None\n",
        "\n",
        "# Compute the \"maxDepth\" of a tree -- the number of nodes\n",
        "# along the longest path from the root node down to the\n",
        "# farthest leaf node\n",
        "\n",
        "\n",
        "def maxDepth(node):\n",
        "\tif node is None:\n",
        "\t\treturn 0\n",
        "\n",
        "\telse:\n",
        "\n",
        "\t\t# Compute the depth of each subtree\n",
        "\t\tlDepth = maxDepth(node.left)\n",
        "\t\trDepth = maxDepth(node.right)\n",
        "\n",
        "\t\t# Use the larger one\n",
        "\t\tif (lDepth > rDepth):\n",
        "\t\t\treturn lDepth+1\n",
        "\t\telse:\n",
        "\t\t\treturn rDepth+1\n",
        "\n",
        "\n",
        "# Driver program to test above function\n",
        "root = Node(1)\n",
        "root.left = Node(2)\n",
        "root.right = Node(3)\n",
        "root.left.left = Node(4)\n",
        "root.left.right = Node(5)\n",
        "\n",
        "\n",
        "print(\"Height of tree is %d\" % (maxDepth(root)))\n"
      ]
    },
    {
      "cell_type": "markdown",
      "source": [
        "## Question-2"
      ],
      "metadata": {
        "id": "tloI2RDMqlDJ"
      }
    },
    {
      "cell_type": "code",
      "source": [
        "# Python program to print left view of Binary Tree\n",
        "\n",
        "# A binary tree node\n",
        "class Node:\n",
        "\n",
        "\t# Constructor to create a new node\n",
        "\tdef __init__(self, data):\n",
        "\t\tself.data = data\n",
        "\t\tself.left = None\n",
        "\t\tself.right = None\n",
        "\n",
        "\n",
        "# Recursive function print left view of a binary tree\n",
        "def leftViewUtil(root, level, max_level):\n",
        "\n",
        "\t# Base Case\n",
        "\tif root is None:\n",
        "\t\treturn\n",
        "\n",
        "\t# If this is the first node of its level\n",
        "\tif (max_level[0] < level):\n",
        "\t\tprint (root.data, end = \" \")\n",
        "\t\tmax_level[0] = level\n",
        "\n",
        "\t# Recur for left and right subtree\n",
        "\tleftViewUtil(root.left, level + 1, max_level)\n",
        "\tleftViewUtil(root.right, level + 1, max_level)\n",
        "\n",
        "\n",
        "# A wrapper over leftViewUtil()\n",
        "def leftView(root):\n",
        "\tmax_level = [0]\n",
        "\tleftViewUtil(root, 1, max_level)\n",
        "\n",
        "\n",
        "# Driver program to test above function\n",
        "if __name__ == '__main__':\n",
        "\troot = Node(10)\n",
        "\troot.left = Node(2)\n",
        "\troot.right = Node(3)\n",
        "\troot.left.left = Node(7)\n",
        "\troot.left.right = Node(8)\n",
        "\troot.right.right = Node(15)\n",
        "\troot.right.left = Node(12)\n",
        "\troot.right.right.left = Node(14)\n",
        "\n",
        "\tleftView(root)\n"
      ],
      "metadata": {
        "colab": {
          "base_uri": "https://localhost:8080/"
        },
        "id": "ggftejL_qlrJ",
        "outputId": "27bdfdaa-74a9-4a76-e4a8-80be678b26a2"
      },
      "execution_count": 3,
      "outputs": [
        {
          "output_type": "stream",
          "name": "stdout",
          "text": [
            "10 2 7 14 "
          ]
        }
      ]
    },
    {
      "cell_type": "markdown",
      "source": [
        "## Question-3"
      ],
      "metadata": {
        "id": "VHpIch_Fql-U"
      }
    },
    {
      "cell_type": "code",
      "source": [
        "class Node:\n",
        "    def __init__(self, value):\n",
        "        self.value = value\n",
        "        self.left = None\n",
        "        self.right = None\n",
        "\n",
        "def printRightView(root):\n",
        "    if root is None:\n",
        "        return\n",
        "\n",
        "    queue = [(root, 0)]\n",
        "    right_view = {}\n",
        "\n",
        "    while queue:\n",
        "        node, level = queue.pop(0)\n",
        "\n",
        "        # Store the rightmost node at each level\n",
        "        right_view[level] = node.value\n",
        "\n",
        "        if node.left:\n",
        "            queue.append((node.left, level + 1))\n",
        "        if node.right:\n",
        "            queue.append((node.right, level + 1))\n",
        "\n",
        "    # Print the right view nodes in the order of levels\n",
        "    for level in sorted(right_view.keys()):\n",
        "        print(right_view[level], end=' ')\n",
        "\n",
        "# Construct the binary tree\n",
        "root = Node(1)\n",
        "root.left = Node(2)\n",
        "root.right = Node(3)\n",
        "root.left.left = Node(4)\n",
        "root.left.right = Node(5)\n",
        "root.right.left = Node(6)\n",
        "root.right.right = Node(7)\n",
        "root.right.right.right = Node(8)\n",
        "\n",
        "# Print the right view of the tree\n",
        "print(\"Right view of the tree is:\")\n",
        "printRightView(root)"
      ],
      "metadata": {
        "colab": {
          "base_uri": "https://localhost:8080/"
        },
        "id": "e-fxiq0mqmqv",
        "outputId": "296981fd-98da-4d35-8db8-733e0dff1f5d"
      },
      "execution_count": 4,
      "outputs": [
        {
          "output_type": "stream",
          "name": "stdout",
          "text": [
            "Right view of the tree is:\n",
            "1 3 7 8 "
          ]
        }
      ]
    },
    {
      "cell_type": "markdown",
      "source": [
        "## Question-4"
      ],
      "metadata": {
        "id": "dXFmvD9qqnEV"
      }
    },
    {
      "cell_type": "code",
      "source": [
        "from collections import deque\n",
        "\n",
        "class Node:\n",
        "    def __init__(self, value):\n",
        "        self.value = value\n",
        "        self.left = None\n",
        "        self.right = None\n",
        "        self.horizontal_distance = 0\n",
        "\n",
        "def printBottomView(root):\n",
        "    if root is None:\n",
        "        return\n",
        "\n",
        "    # Using a dictionary to store bottommost nodes at each horizontal distance\n",
        "    bottom_view = {}\n",
        "\n",
        "    # Using a deque for level order traversal\n",
        "    queue = deque([(root, 0)])\n",
        "\n",
        "    while queue:\n",
        "        node, horizontal_distance = queue.popleft()\n",
        "\n",
        "        # Update the horizontal distance of the node\n",
        "        node.horizontal_distance = horizontal_distance\n",
        "\n",
        "        # Update the bottom view dictionary with the current node\n",
        "        bottom_view[horizontal_distance] = node.value\n",
        "\n",
        "        if node.left:\n",
        "            queue.append((node.left, horizontal_distance - 1))\n",
        "        if node.right:\n",
        "            queue.append((node.right, horizontal_distance + 1))\n",
        "\n",
        "    # Print the bottom view nodes in the order of horizontal distances\n",
        "    for distance in sorted(bottom_view.keys()):\n",
        "        print(bottom_view[distance], end=' ')\n",
        "\n",
        "# Construct the binary tree\n",
        "root = Node(20)\n",
        "root.left = Node(8)\n",
        "root.right = Node(22)\n",
        "root.left.left = Node(5)\n",
        "root.left.right = Node(3)\n",
        "root.right.right = Node(25)\n",
        "root.left.right.left = Node(10)\n",
        "root.left.right.right = Node(14)\n",
        "\n",
        "# Print the bottom view of the tree\n",
        "print(\"Bottom view of the tree is:\")\n",
        "printBottomView(root)\n"
      ],
      "metadata": {
        "colab": {
          "base_uri": "https://localhost:8080/"
        },
        "id": "lzn8u7wAqnxT",
        "outputId": "65fe4c7a-b8b9-4829-b69f-bb4059694449"
      },
      "execution_count": 5,
      "outputs": [
        {
          "output_type": "stream",
          "name": "stdout",
          "text": [
            "Bottom view of the tree is:\n",
            "5 10 3 14 25 "
          ]
        }
      ]
    }
  ]
}