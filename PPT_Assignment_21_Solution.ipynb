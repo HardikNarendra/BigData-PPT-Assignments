{
  "nbformat": 4,
  "nbformat_minor": 0,
  "metadata": {
    "colab": {
      "provenance": []
    },
    "kernelspec": {
      "name": "python3",
      "display_name": "Python 3"
    },
    "language_info": {
      "name": "python"
    }
  },
  "cells": [
    {
      "cell_type": "markdown",
      "source": [
        "# Assignment 21"
      ],
      "metadata": {
        "id": "fkjP4KkejB21"
      }
    },
    {
      "cell_type": "markdown",
      "source": [
        "## Question -1"
      ],
      "metadata": {
        "id": "a3Qo6b4xjGB1"
      }
    },
    {
      "cell_type": "code",
      "execution_count": 1,
      "metadata": {
        "id": "eOia4FC76Yjx",
        "colab": {
          "base_uri": "https://localhost:8080/"
        },
        "outputId": "17032848-b7d2-456a-e717-ce697108b719"
      },
      "outputs": [
        {
          "output_type": "stream",
          "name": "stdout",
          "text": [
            "Inorder traversal of the constructed tree is\n",
            "4 2 5 1 3 \n",
            "Inorder traversal of the mirror tree is \n",
            "3 1 5 2 4 "
          ]
        }
      ],
      "source": [
        "# Python3 program to convert a binary\n",
        "# tree to its mirror\n",
        "\n",
        "# Utility function to create a new\n",
        "# tree node\n",
        "\n",
        "\n",
        "class newNode:\n",
        "\tdef __init__(self, data):\n",
        "\t\tself.data = data\n",
        "\t\tself.left = self.right = None\n",
        "\n",
        "\n",
        "\"\"\" Change a tree so that the roles of the\n",
        "\tleft and right pointers are swapped at\n",
        "\tevery node.\n",
        "\n",
        "So the tree...\n",
        "\t\t4\n",
        "\t\t/ \\\n",
        "\t2 5\n",
        "\t/ \\\n",
        "\t1 3\n",
        "\n",
        "is changed to...\n",
        "\t4\n",
        "\t/ \\\n",
        "\t5 2\n",
        "\t/ \\\n",
        "\t3 1\n",
        "\"\"\"\n",
        "\n",
        "\n",
        "def mirror(node):\n",
        "\n",
        "\tif (node == None):\n",
        "\t\treturn\n",
        "\telse:\n",
        "\n",
        "\t\ttemp = node\n",
        "\n",
        "\t\t\"\"\" do the subtrees \"\"\"\n",
        "\t\tmirror(node.left)\n",
        "\t\tmirror(node.right)\n",
        "\n",
        "\t\t\"\"\" swap the pointers in this node \"\"\"\n",
        "\t\ttemp = node.left\n",
        "\t\tnode.left = node.right\n",
        "\t\tnode.right = temp\n",
        "\n",
        "\n",
        "\"\"\" Helper function to print Inorder traversal.\"\"\"\n",
        "\n",
        "\n",
        "def inOrder(node):\n",
        "\n",
        "\tif (node == None):\n",
        "\t\treturn\n",
        "\n",
        "\tinOrder(node.left)\n",
        "\tprint(node.data, end=\" \")\n",
        "\tinOrder(node.right)\n",
        "\n",
        "\n",
        "# Driver code\n",
        "if __name__ == \"__main__\":\n",
        "\n",
        "\troot = newNode(1)\n",
        "\troot.left = newNode(2)\n",
        "\troot.right = newNode(3)\n",
        "\troot.left.left = newNode(4)\n",
        "\troot.left.right = newNode(5)\n",
        "\n",
        "\t\"\"\" Print inorder traversal of\n",
        "\t\tthe input tree \"\"\"\n",
        "\tprint(\"Inorder traversal of the\",\n",
        "\t\t\"constructed tree is\")\n",
        "\tinOrder(root)\n",
        "\n",
        "\t\"\"\" Convert tree to its mirror \"\"\"\n",
        "\tmirror(root)\n",
        "\n",
        "\t\"\"\" Print inorder traversal of\n",
        "\t\tthe mirror tree \"\"\"\n",
        "\tprint(\"\\nInorder traversal of\",\n",
        "\t\t\"the mirror tree is \")\n",
        "\tinOrder(root)"
      ]
    },
    {
      "cell_type": "markdown",
      "source": [
        "## Question -2"
      ],
      "metadata": {
        "id": "G6UoWuN3jKWt"
      }
    },
    {
      "cell_type": "code",
      "source": [
        "class Node:\n",
        "    def __init__(self, value):\n",
        "        self.value = value\n",
        "        self.left = None\n",
        "        self.right = None\n",
        "\n",
        "def constructBST(values):\n",
        "    root = None\n",
        "    for value in values:\n",
        "        root = insertNode(root, value)\n",
        "    return root\n",
        "\n",
        "def insertNode(root, value):\n",
        "    if root is None:\n",
        "        return Node(value)\n",
        "    if value < root.value:\n",
        "        root.left = insertNode(root.left, value)\n",
        "    else:\n",
        "        root.right = insertNode(root.right, value)\n",
        "    return root\n",
        "\n",
        "def findDistance(root, node1, node2):\n",
        "    if root is None:\n",
        "        return 0\n",
        "    if root.value > node1 and root.value > node2:\n",
        "        return findDistance(root.left, node1, node2)\n",
        "    if root.value < node1 and root.value < node2:\n",
        "        return findDistance(root.right, node1, node2)\n",
        "    if root.value >= node1 and root.value <= node2:\n",
        "        return distanceFromRoot(root, node1) + distanceFromRoot(root, node2)\n",
        "\n",
        "def distanceFromRoot(root, value):\n",
        "    if root.value == value:\n",
        "        return 0\n",
        "    if value < root.value:\n",
        "        return 1 + distanceFromRoot(root.left, value)\n",
        "    return 1 + distanceFromRoot(root.right, value)\n",
        "\n",
        "# Example usage:\n",
        "values = [8, 3, 1, 6, 4, 7, 10, 14, 13]\n",
        "node1 = 6\n",
        "node2 = 14\n",
        "\n",
        "root = constructBST(values)\n",
        "distance = findDistance(root, node1, node2)\n",
        "print(\"The distance between the two keys =\", distance)\n"
      ],
      "metadata": {
        "colab": {
          "base_uri": "https://localhost:8080/"
        },
        "id": "sLaI7NfEjLZF",
        "outputId": "bc6ca3d8-c611-48b6-c50b-143fb8ce3132"
      },
      "execution_count": 2,
      "outputs": [
        {
          "output_type": "stream",
          "name": "stdout",
          "text": [
            "The distance between the two keys = 4\n"
          ]
        }
      ]
    },
    {
      "cell_type": "markdown",
      "source": [
        "## Question -3"
      ],
      "metadata": {
        "id": "ksfEBmu_jLu8"
      }
    },
    {
      "cell_type": "code",
      "source": [
        "# Python program for conversion of\n",
        "# binary tree to doubly linked list.\n",
        "class Node:\n",
        "\tdef __init__(self, val):\n",
        "\t\tself.right = None\n",
        "\t\tself.data = val\n",
        "\t\tself.left = None\n",
        "\n",
        "# Global variable used in convert\n",
        "prev = None\n",
        "\n",
        "def BinaryTree2DoubleLinkedList(root):\n",
        "\n",
        "\t# Base case\n",
        "\tif root is None:\n",
        "\t\treturn root\n",
        "\n",
        "\t# Recursively convert left subtree\n",
        "\thead = BinaryTree2DoubleLinkedList(root.left);\n",
        "\n",
        "\t# Since we are going to change prev,\n",
        "\t# we need to use global keyword\n",
        "\tglobal prev\n",
        "\n",
        "\t# If prev is empty, then this is the\n",
        "\t# first node of DLL\n",
        "\tif prev is None :\n",
        "\t\thead = root\n",
        "\n",
        "\telse:\n",
        "\t\troot.left = prev\n",
        "\t\tprev.right = root\n",
        "\n",
        "\t# Update prev\n",
        "\tprev = root;\n",
        "\n",
        "\t# Recursively convert right subtree\n",
        "\tBinaryTree2DoubleLinkedList(root.right);\n",
        "\n",
        "\treturn head\n",
        "\n",
        "def print_dll(head):\n",
        "\n",
        "\t# Function to print nodes in given\n",
        "\t# doubly linked list\n",
        "\twhile head is not None:\n",
        "\t\tprint(head.data, end=\" \")\n",
        "\t\thead = head.right\n",
        "\n",
        "\n",
        "# Driver program to test above functions\n",
        "# Let us create the tree as\n",
        "# shown in above diagram\n",
        "if __name__ == '__main__':\n",
        "\troot = Node(10)\n",
        "\troot.left = Node(5)\n",
        "\troot.right = Node(20)\n",
        "\troot.right.left = Node(30)\n",
        "\troot.right.right = Node(35)\n",
        "\thead = BinaryTree2DoubleLinkedList(root)\n",
        "\n",
        "\t# Print the converted list\n",
        "\tprint_dll(head)\n",
        "\n",
        "\n"
      ],
      "metadata": {
        "colab": {
          "base_uri": "https://localhost:8080/"
        },
        "id": "384wh0jejMjW",
        "outputId": "726572c5-7329-4521-9da7-c863df2ace58"
      },
      "execution_count": 3,
      "outputs": [
        {
          "output_type": "stream",
          "name": "stdout",
          "text": [
            "5 10 30 20 35 "
          ]
        }
      ]
    },
    {
      "cell_type": "markdown",
      "source": [
        "## Question -4"
      ],
      "metadata": {
        "id": "ZY1j-xVKk7d1"
      }
    },
    {
      "cell_type": "code",
      "source": [
        "#! /usr/bin/env python3\n",
        "\n",
        "# connect nodes at same level using level order traversal\n",
        "import sys\n",
        "\n",
        "\n",
        "class Node:\n",
        "    def __init__(self, data):\n",
        "        self.data = data\n",
        "        self.left = None\n",
        "        self.right = None\n",
        "        self.nextRight = None\n",
        "\n",
        "    def __str__(self):\n",
        "        return '{}'.format(self.data)\n",
        "\n",
        "\n",
        "def printLevelByLevel(root):\n",
        "    # print level by level\n",
        "    if root:\n",
        "        node = root\n",
        "        while node:\n",
        "            print('{}'.format(node.data), end=' ')\n",
        "            node = node.nextRight\n",
        "        print()\n",
        "        if root.left:\n",
        "            printLevelByLevel(root.left)\n",
        "        else:\n",
        "            printLevelByLevel(root.right)\n",
        "\n",
        "\n",
        "def inorder(root):\n",
        "    if root:\n",
        "        inorder(root.left)\n",
        "        print(root.data, end=' ')\n",
        "        inorder(root.right)\n",
        "\n",
        "\n",
        "def connect(root):\n",
        "    # set nextRight of all nodes of a tree\n",
        "    queue = []\n",
        "    queue.append(root)\n",
        "    # null marker to represent end of current level\n",
        "    queue.append(None)\n",
        "    # do level order of tree using None markers\n",
        "    while queue:\n",
        "        p = queue.pop(0)\n",
        "        if p:\n",
        "            # next element in queue represents\n",
        "            # next node at current level\n",
        "            p.nextRight = queue[0]\n",
        "            # push left and right children of current node\n",
        "            if p.left:\n",
        "                queue.append(p.left)\n",
        "            if p.right:\n",
        "                queue.append(p.right)\n",
        "        elif queue:\n",
        "            queue.append(None)\n",
        "\n",
        "\n",
        "def main():\n",
        "    root = Node(1)\n",
        "    root.left = Node(2)\n",
        "    root.right = Node(3)\n",
        "    root.left.left = Node(4)\n",
        "    root.left.right = Node(5)\n",
        "    root.right.left = Node(6)\n",
        "    root.right.right = Node(7)\n",
        "\n",
        "    # Populates nextRight pointer in all nodes\n",
        "    connect(root)\n",
        "\n",
        "    # Let us check the values of nextRight pointers\n",
        "    print(\"Following are populated nextRight pointers in \\n\"\n",
        "          \"the tree (-1 is printed if there is no nextRight) \\n\")\n",
        "    if root.nextRight is not None:\n",
        "        print(\"nextRight of %d is %d \\n\" % (root.data, root.nextRight.data))\n",
        "    else:\n",
        "        print(\"nextRight of %d is %d \\n\" % (root.data, -1))\n",
        "    if root.left.nextRight is not None:\n",
        "        print(\"nextRight of %d is %d \\n\" % (root.left.data, root.left.nextRight.data))\n",
        "    else:\n",
        "        print(\"nextRight of %d is %d \\n\" % (root.left.data, -1))\n",
        "    if root.right.nextRight is not None:\n",
        "        print(\"nextRight of %d is %d \\n\" % (root.right.data, root.right.nextRight.data))\n",
        "    else:\n",
        "        print(\"nextRight of %d is %d \\n\" % (root.right.data, -1))\n",
        "    if root.left.left.nextRight is not None:\n",
        "        print(\"nextRight of %d is %d \\n\" % (root.left.left.data, root.left.left.nextRight.data))\n",
        "    else:\n",
        "        print(\"nextRight of %d is %d \\n\" % (root.left.left.data, -1))\n",
        "    if root.right.right.nextRight is not None:\n",
        "        print(\"nextRight of %d is %d \\n\" % (root.right.right.data, root.right.right.nextRight.data))\n",
        "    else:\n",
        "        print(\"nextRight of %d is %d \\n\" % (root.right.right.data, -1))\n",
        "\n",
        "    print()\n",
        "\n",
        "\n",
        "if __name__ == \"__main__\":\n",
        "    main()\n",
        "\n",
        "# This code is contributed by Ram Basnet\n"
      ],
      "metadata": {
        "colab": {
          "base_uri": "https://localhost:8080/"
        },
        "id": "deWJTxKfk9J2",
        "outputId": "e2f988e3-1dc2-4e07-e65a-17d748d2e738"
      },
      "execution_count": 8,
      "outputs": [
        {
          "output_type": "stream",
          "name": "stdout",
          "text": [
            "Following are populated nextRight pointers in \n",
            "the tree (-1 is printed if there is no nextRight) \n",
            "\n",
            "nextRight of 1 is -1 \n",
            "\n",
            "nextRight of 2 is 3 \n",
            "\n",
            "nextRight of 3 is -1 \n",
            "\n",
            "nextRight of 4 is 5 \n",
            "\n",
            "nextRight of 7 is -1 \n",
            "\n",
            "\n"
          ]
        }
      ]
    }
  ]
}